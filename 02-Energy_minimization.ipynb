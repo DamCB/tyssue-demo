{
 "cells": [
  {
   "cell_type": "markdown",
   "metadata": {},
   "source": [
    "## Energy minimization for a 2.5D sheet in 3D"
   ]
  },
  {
   "cell_type": "code",
   "execution_count": null,
   "metadata": {},
   "outputs": [],
   "source": [
    "import sys\n",
    "import pandas as pd\n",
    "import numpy as np\n",
    "import json\n",
    "import matplotlib.pylab as plt\n",
    "%matplotlib inline\n",
    "\n",
    "from scipy import optimize\n",
    "\n",
    "from tyssue import Sheet\n",
    "\n",
    "from tyssue import SheetGeometry as geom\n",
    "from tyssue.dynamics.sheet_vertex_model import SheetModel as model \n",
    "from tyssue.solvers.quasistatic import QSSolver\n",
    "from tyssue import config\n",
    "from tyssue.solvers.isotropic_solver import bruteforce_isotropic_relax\n",
    "\n",
    "from tyssue.draw.plt_draw import sheet_view\n",
    "import tyssue.draw.plt_draw as draw\n",
    "from tyssue.io import hdf5\n"
   ]
  },
  {
   "cell_type": "code",
   "execution_count": null,
   "metadata": {},
   "outputs": [],
   "source": [
    "h5store = 'data/small_hexagonal.hf5'\n",
    "\n",
    "datasets = hdf5.load_datasets(h5store,\n",
    "                              data_names=['face', 'vert', 'edge'])\n",
    "specs = config.geometry.cylindrical_sheet()\n",
    "sheet = Sheet('emin', datasets, specs)\n",
    "sheet.sanitize(trim_borders=True, order_edges=True)\n",
    "\n",
    "geom.update_all(sheet)\n",
    "sheet.vert_df.describe().head(3)\n"
   ]
  },
  {
   "cell_type": "code",
   "execution_count": null,
   "metadata": {},
   "outputs": [],
   "source": [
    "sheet.face_df.describe().head(3)"
   ]
  },
  {
   "cell_type": "code",
   "execution_count": null,
   "metadata": {},
   "outputs": [],
   "source": [
    "sheet.edge_df.describe().head(3)"
   ]
  },
  {
   "cell_type": "markdown",
   "metadata": {},
   "source": [
    "## Non dimensionalisation and isotropic model\n",
    "\n",
    "\n",
    "For our 2D1/2 model, for a tissue energy is expressed as:\n",
    "$$\n",
    "E = N_f\\frac{K}{2}(V - V_0)^2 + N_f \\frac{\\Gamma}{2}L^2 + 3N_f\\Lambda \\ell \n",
    "$$\n",
    "In the case of a regular, infinite hexagonal lattice, There 6 edges per cell, each shared bteween 2 cells, hence $Ne = 3N_f$\n",
    "\n",
    "We can write this equation as a dimension-less one by dividing it by $N_f K V_0^2$. We define the dimension-less values: $\\bar\\Gamma = \\Gamma/K V_0^{4/3}$ and $\\bar\\Lambda = \\Lambda/K V_0^{5/3}$\n",
    "\n",
    "$$\n",
    "\\bar{E} = \\frac{\\left(V/V_0 - 1\\right)^2}{2} + \\bar\\Gamma \\frac{V_0^{-2/3}}{2}L^2 + 3\\bar\\Lambda V_0^{-1/3} \\ell\n",
    "$$\n",
    "\n",
    "We define the scaling factor $\\delta$ such that $V/V_0 = \\delta^3$. On a regular hexagonal grid, the perimeter $L=6\\ell$ and the area is A=$3\\sqrt{3}/2\\,\\ell^2$. The volume is $V = Ah$. As the (pseudo-)height is arbitrary, we can chose its prefered value. We set $h_0 = V_0^{1/3}$.\n",
    "\n",
    "We thus have $A_0 = V_0^{2/3}$, $A = \\delta^2 V_0^{2/3}$ and \n",
    "$\\ell = \\delta (\\frac{2}{3\\sqrt{3}})^{1/2} V_0^{1/3}$. We define the constant $\\mu = 2^{3/2}3^{1/4}$ to simplify further the equation:\n",
    "\n",
    "$$\n",
    "\\begin{eqnarray}\n",
    "\\bar{E} &=& \\frac{(\\delta^3 - 1)^2}{2} + \\frac{12}{\\sqrt{3}}\\bar\\Gamma\\delta^2 + \\frac{6}{\\sqrt{3}}\\bar\\Lambda \\delta \\\\\n",
    "\\bar{E} &=& \\frac{(\\delta^3 - 1)^2}{2} + \\frac{\\mu^2}{2}\\bar\\Gamma\\delta^2 + \\frac{\\mu}{2}\\bar\\Lambda \\delta \\\\\n",
    "\\end{eqnarray}\n",
    "$$\n",
    "\n",
    "\n",
    "The root of this polynomial corresponds to the lowest energy possible for this set of paramters.\n",
    "\n",
    "\n",
    "\n",
    "\n"
   ]
  },
  {
   "cell_type": "markdown",
   "metadata": {},
   "source": [
    "### This analytic model is implemented bellow\n",
    "\n",
    "It is now a bit too specific to warrant a module in tyssue, and was thus removed\n"
   ]
  },
  {
   "cell_type": "code",
   "execution_count": null,
   "metadata": {},
   "outputs": [],
   "source": [
    "\"\"\"\n",
    "Isotropic energy model from Farhadifar et al. 2007 article\n",
    "\"\"\"\n",
    "import numpy as np\n",
    "\n",
    "mu = 2 ** 1.5 * 3 ** 0.25\n",
    "\n",
    "\n",
    "def elasticity(delta):\n",
    "    return (delta ** 3 - 1) ** 2 / 2.0\n",
    "\n",
    "\n",
    "def contractility(delta, gamma):\n",
    "    return gamma * mu ** 2 * delta ** 2 / 2.0\n",
    "\n",
    "\n",
    "def tension(delta, lbda):\n",
    "    return lbda * mu * delta / 2.0\n",
    "\n",
    "\n",
    "def isotropic_energies(sheet, model, geom, deltas, nondim_specs):\n",
    "\n",
    "    # bck_face_shift = sheet.face_df['basal_shift']\n",
    "    # bck_vert_shift = sheet.vert_df['basal_shift']\n",
    "    # ## Faces only area and height\n",
    "\n",
    "    V_0 = sheet.specs[\"face\"][\"prefered_vol\"]\n",
    "    vol_avg = sheet.face_df[sheet.face_df[\"is_alive\"] == 1].vol.mean()\n",
    "    rho_avg = sheet.vert_df.rho.mean()\n",
    "\n",
    "    # ## Set height and volume to height0 and V0\n",
    "    delta_0 = (V_0 / vol_avg) ** (1 / 3)\n",
    "    geom.scale(sheet, delta_0, sheet.coords)\n",
    "\n",
    "    h_0 = V_0 ** (1 / 3)\n",
    "\n",
    "    sheet.face_df[\"basal_shift\"] = rho_avg * delta_0 - h_0\n",
    "    sheet.vert_df[\"basal_shift\"] = rho_avg * delta_0 - h_0\n",
    "    geom.update_all(sheet)\n",
    "\n",
    "    energies = np.zeros((deltas.size, 3))\n",
    "    for n, delta in enumerate(deltas):\n",
    "        geom.scale(sheet, delta, sheet.coords + [\"basal_shift\"])\n",
    "        geom.update_all(sheet)\n",
    "        Et, Ec, Ev = model.compute_energy(sheet, full_output=True)\n",
    "        energies[n, :] = [Et.sum(), Ec.sum(), Ev.sum()]\n",
    "        geom.scale(sheet, 1 / delta, sheet.coords + [\"basal_shift\"])\n",
    "        geom.update_all(sheet)\n",
    "    energies /= sheet.face_df[\"is_alive\"].sum()\n",
    "    isotropic_relax(sheet, nondim_specs)\n",
    "\n",
    "    return energies\n",
    "\n",
    "\n",
    "def isotropic_relax(sheet, nondim_specs, geom=geom):\n",
    "    \"\"\"Deforms the sheet so that the faces pseudo-volume is at their\n",
    "    isotropic optimum (on average)\n",
    "    The specified model specs is assumed to be non-dimentional\n",
    "    \"\"\"\n",
    "\n",
    "    vol0 = sheet.face_df[\"prefered_vol\"].mean()\n",
    "    h_0 = vol0 ** (1 / 3)\n",
    "    live_faces = sheet.face_df[sheet.face_df.is_alive == 1]\n",
    "    vol_avg = live_faces.vol.mean()\n",
    "    rho_avg = sheet.vert_df.rho.mean()\n",
    "\n",
    "    # ## Set height and volume to height0 and vol0\n",
    "    delta = (vol0 / vol_avg) ** (1 / 3)\n",
    "    geom.scale(sheet, delta, coords=sheet.coords)\n",
    "    sheet.face_df[\"basal_shift\"] = rho_avg * delta - h_0\n",
    "    sheet.vert_df[\"basal_shift\"] = rho_avg * delta - h_0\n",
    "    geom.update_all(sheet)\n",
    "\n",
    "    # ## Optimal value for delta\n",
    "    delta_o = find_grad_roots(nondim_specs)\n",
    "    if not np.isfinite(delta_o):\n",
    "        raise ValueError(\"invalid parameters values\")\n",
    "    sheet.delta_o = delta_o\n",
    "    # ## Scaling\n",
    "    geom.scale(sheet, delta_o, coords=sheet.coords + [\"basal_shift\"])\n",
    "    geom.update_all(sheet)\n",
    "\n",
    "\n",
    "def isotropic_energy(delta, mod_specs):\n",
    "    \"\"\"\n",
    "    Computes the theoritical energy per face for the given\n",
    "    parameters.\n",
    "    \"\"\"\n",
    "    lbda = mod_specs[\"edge\"][\"line_tension\"]\n",
    "    gamma = mod_specs[\"face\"][\"contractility\"]\n",
    "    elasticity_ = (delta ** 3 - 1) ** 2 / 2.0\n",
    "    contractility_ = gamma * mu ** 2 * delta ** 2 / 2.0\n",
    "    tension_ = lbda * mu * delta / 2.0\n",
    "    energy = elasticity_ + contractility_ + tension_\n",
    "    return energy\n",
    "\n",
    "\n",
    "def isotropic_grad_poly(mod_specs):\n",
    "    lbda = mod_specs[\"edge\"][\"line_tension\"]\n",
    "    gamma = mod_specs[\"face\"][\"contractility\"]\n",
    "\n",
    "    grad_poly = [3, 0, 0, -3, mu ** 2 * gamma, mu * lbda / 2.0]\n",
    "    return grad_poly\n",
    "\n",
    "\n",
    "def isotropic_grad(mod_specs, delta):\n",
    "    grad_poly = isotropic_grad_poly(mod_specs)\n",
    "    return np.polyval(grad_poly, delta)\n",
    "\n",
    "\n",
    "def find_grad_roots(mod_specs):\n",
    "    poly = isotropic_grad_poly(mod_specs)\n",
    "    roots = np.roots(poly)\n",
    "    good_roots = np.real([r for r in roots if np.abs(r) == r])\n",
    "    np.sort(good_roots)\n",
    "    if len(good_roots) == 1:\n",
    "        return good_roots\n",
    "    elif len(good_roots) > 1:\n",
    "        return good_roots[0]\n",
    "    else:\n",
    "        return np.nan"
   ]
  },
  {
   "cell_type": "code",
   "execution_count": null,
   "metadata": {},
   "outputs": [],
   "source": [
    "nondim_specs = config.dynamics.quasistatic_sheet_spec()\n",
    "dim_model_specs = model.dimensionalize(nondim_specs)\n",
    "\n",
    "sheet.update_specs(dim_model_specs, reset=True)\n",
    "sheet.edge_df.is_active = (sheet.upcast_face(sheet.face_df.is_alive)\n",
    "                           & sheet.upcast_srce(sheet.vert_df.is_active))\n",
    "res = bruteforce_isotropic_relax(sheet, geom, model)"
   ]
  },
  {
   "cell_type": "code",
   "execution_count": null,
   "metadata": {},
   "outputs": [],
   "source": [
    "Et, Ec, Ev = model.compute_energy(sheet, full_output=True)\n",
    "energy = model.compute_energy(sheet, full_output=False)\n",
    "print('Total energy: {}'.format(energy))"
   ]
  },
  {
   "cell_type": "code",
   "execution_count": null,
   "metadata": {},
   "outputs": [],
   "source": [
    "def plot_analytical_to_numeric_comp(sheet, model, geom, nondim_specs):\n",
    "\n",
    "    fig, ax = plt.subplots(figsize=(8, 8))\n",
    "\n",
    "    deltas = np.linspace(0.1, 1.8, 50)\n",
    "\n",
    "    lbda = nondim_specs[\"edge\"][\"line_tension\"]\n",
    "    gamma = nondim_specs[\"face\"][\"contractility\"]\n",
    "\n",
    "    ax.plot(\n",
    "        deltas,\n",
    "        isotropic_energy(deltas, nondim_specs),\n",
    "        \"k-\",\n",
    "        label=\"Analytical total\",\n",
    "    )\n",
    "    try:\n",
    "        ax.plot(sheet.delta_o, isotropic_energy(sheet.delta_o, nondim_specs), \"ro\")\n",
    "    except:\n",
    "        pass\n",
    "    ax.plot(deltas, elasticity(deltas), \"b-\", label=\"Analytical volume elasticity\")\n",
    "    ax.plot(\n",
    "        deltas,\n",
    "        contractility(deltas, gamma),\n",
    "        color=\"orange\",\n",
    "        ls=\"-\",\n",
    "        label=\"Analytical contractility\",\n",
    "    )\n",
    "    ax.plot(deltas, tension(deltas, lbda), \"g-\", label=\"Analytical line tension\")\n",
    "\n",
    "    ax.set_xlabel(r\"Isotropic scaling $\\delta$\")\n",
    "    ax.set_ylabel(r\"Isotropic energie $\\bar E$\")\n",
    "\n",
    "    energies = isotropic_energies(sheet, model, geom, deltas, nondim_specs)\n",
    "    # energies = energies / norm\n",
    "    ax.plot(\n",
    "        deltas,\n",
    "        energies[:, 2],\n",
    "        \"bo:\",\n",
    "        lw=2,\n",
    "        alpha=0.8,\n",
    "        label=\"Computed volume elasticity\",\n",
    "    )\n",
    "    ax.plot(\n",
    "        deltas, energies[:, 0], \"go:\", lw=2, alpha=0.8, label=\"Computed line tension\"\n",
    "    )\n",
    "    ax.plot(\n",
    "        deltas,\n",
    "        energies[:, 1],\n",
    "        ls=\":\",\n",
    "        marker=\"o\",\n",
    "        color=\"orange\",\n",
    "        label=\"Computed contractility\",\n",
    "    )\n",
    "    ax.plot(\n",
    "        deltas, energies.sum(axis=1), \"ko:\", lw=2, alpha=0.8, label=\"Computed total\"\n",
    "    )\n",
    "\n",
    "    ax.legend(loc=\"upper left\", fontsize=10)\n",
    "    ax.set_ylim(0, 1.2)\n",
    "    print(sheet.delta_o, deltas[energies.sum(axis=1).argmin()])\n",
    "\n",
    "    return fig, ax\n"
   ]
  },
  {
   "cell_type": "code",
   "execution_count": null,
   "metadata": {},
   "outputs": [],
   "source": [
    "fig, ax = plot_analytical_to_numeric_comp(sheet, model, geom, nondim_specs)\n"
   ]
  },
  {
   "cell_type": "code",
   "execution_count": null,
   "metadata": {},
   "outputs": [],
   "source": [
    "model.labels"
   ]
  },
  {
   "cell_type": "code",
   "execution_count": null,
   "metadata": {
    "scrolled": true
   },
   "outputs": [],
   "source": [
    "gradients = model.compute_gradient(sheet, components=True)\n",
    "gradients = {label: (srce, trgt) for label, (srce, trgt)\n",
    "             in zip(model.labels, gradients)}\n",
    "gradients['Line tension'][0].head()"
   ]
  },
  {
   "cell_type": "code",
   "execution_count": null,
   "metadata": {},
   "outputs": [],
   "source": [
    "grad_i = model.compute_gradient(sheet, components=False)\n",
    "grad_i.head()"
   ]
  },
  {
   "cell_type": "code",
   "execution_count": null,
   "metadata": {},
   "outputs": [],
   "source": [
    "geom.scale(sheet, 1.2, sheet.coords)\n",
    "geom.update_all(sheet)"
   ]
  },
  {
   "cell_type": "code",
   "execution_count": null,
   "metadata": {},
   "outputs": [],
   "source": [
    "\n",
    "scale = 5\n",
    "\n",
    "fig, ax = draw.plot_forces(sheet, geom, model, ['z', 'x'], scale)\n",
    "fig.set_size_inches(10, 12)\n",
    "for n, (vx, vy, vz) in sheet.vert_df[sheet.coords].iterrows():\n",
    "    shift = 0.6 * np.sign(vy)\n",
    "    ax.text(vz+shift-0.3, vx, str(n))\n",
    "\n",
    "app_grad_specs = config.draw.sheet_spec()['grad']\n",
    "app_grad_specs.update({'color':'r'})\n",
    "\n",
    "solver = QSSolver()    \n",
    "sheet.topo_changed = False\n",
    "\n",
    "\n",
    "def draw_approx_force(ax=None):\n",
    "    fig, ax = draw.plot_forces(sheet, geom, model,\n",
    "                              ['z', 'x'], scaling=scale, ax=ax,\n",
    "                              approx_grad=solver.approx_grad, **{'grad':app_grad_specs})\n",
    "    fig.set_size_inches(10, 12)\n",
    "    return fig, ax\n",
    "\n",
    "## Uncomment bellow to recompute\n",
    "fig, ax = draw_approx_force(ax=ax)\n",
    "#fig"
   ]
  },
  {
   "cell_type": "markdown",
   "metadata": {},
   "source": [
    "http://scipy.github.io/devdocs/generated/scipy.optimize.check_grad.html#scipy.optimize.check_grad"
   ]
  },
  {
   "cell_type": "code",
   "execution_count": null,
   "metadata": {},
   "outputs": [],
   "source": []
  },
  {
   "cell_type": "code",
   "execution_count": null,
   "metadata": {
    "scrolled": true
   },
   "outputs": [],
   "source": [
    "\n",
    "grad_err = solver.check_grad(sheet, geom, model)\n",
    "grad_err /= sheet.Nv\n",
    "\n",
    "\n",
    "print(\"Error on the gradient (non-dim, per vertex): {:.3e}\".format(grad_err))\n"
   ]
  },
  {
   "cell_type": "code",
   "execution_count": null,
   "metadata": {},
   "outputs": [],
   "source": [
    "settings = {\n",
    "        'options': {'disp':False,\n",
    "                    'ftol':1e-5,\n",
    "                    'gtol':1e-5},\n",
    "        }\n",
    "\n",
    "\n",
    "res = solver.find_energy_min(sheet, geom, model, **settings)\n",
    "print(res['success'])"
   ]
  },
  {
   "cell_type": "code",
   "execution_count": null,
   "metadata": {},
   "outputs": [],
   "source": [
    "res['message']"
   ]
  },
  {
   "cell_type": "code",
   "execution_count": null,
   "metadata": {},
   "outputs": [],
   "source": [
    "res['fun']/sheet.face_df.is_alive.sum()"
   ]
  },
  {
   "cell_type": "code",
   "execution_count": null,
   "metadata": {},
   "outputs": [],
   "source": [
    "fig, ax = draw.plot_forces(sheet, geom, model, ['z', 'y'], 10)\n",
    "fig.set_size_inches(10, 12)\n"
   ]
  },
  {
   "cell_type": "code",
   "execution_count": null,
   "metadata": {},
   "outputs": [],
   "source": []
  },
  {
   "cell_type": "code",
   "execution_count": null,
   "metadata": {},
   "outputs": [],
   "source": []
  }
 ],
 "metadata": {
  "kernelspec": {
   "display_name": "Python 3",
   "language": "python",
   "name": "python3"
  },
  "language_info": {
   "codemirror_mode": {
    "name": "ipython",
    "version": 3
   },
   "file_extension": ".py",
   "mimetype": "text/x-python",
   "name": "python",
   "nbconvert_exporter": "python",
   "pygments_lexer": "ipython3",
   "version": "3.7.8"
  }
 },
 "nbformat": 4,
 "nbformat_minor": 1
}
