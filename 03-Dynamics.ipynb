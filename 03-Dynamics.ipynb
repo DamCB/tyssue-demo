{
 "cells": [
  {
   "cell_type": "markdown",
   "metadata": {},
   "source": [
    "# Dynamics"
   ]
  },
  {
   "cell_type": "markdown",
   "metadata": {},
   "source": [
    "One of the objectives of tyssue is to make it easy to define and change the expression of the epithelium's energy. \n",
    "For this, we define two classes of objects:\n",
    "\n",
    "- `Effector` : those define a single energy term, evaluated on the mesh, and depending on the values in the dataframe. For example, line tension, for which the energy is proportional to the length of the half-edge, is defined as an `Effector` object (see bellow). For each effector, we define a way to compute the energy and its spatial derivative, the gradient.\n",
    "\n",
    "- `Model` : a model is basically a collection of effectors, with the mechanisms to combine them to define the total dynamics of the system.\n",
    "\n",
    "In general, the parameters of the models are addressable at the single element level. For example, the line tension can be set for each individual edge.\n",
    "\n"
   ]
  },
  {
   "cell_type": "code",
   "execution_count": 2,
   "metadata": {},
   "outputs": [],
   "source": [
    "import sys\n",
    "import pandas as pd\n",
    "import numpy as np\n",
    "import json\n",
    "import matplotlib.pylab as plt\n",
    "%matplotlib inline\n",
    "\n",
    "from scipy import optimize\n",
    "\n",
    "from tyssue import Sheet, config\n",
    "from tyssue import SheetGeometry as geom\n",
    "from tyssue.dynamics import effectors, model_factory\n",
    "from tyssue.draw import sheet_view\n",
    "from tyssue.draw.plt_draw import plot_forces\n",
    "from tyssue.io import hdf5\n"
   ]
  },
  {
   "cell_type": "code",
   "execution_count": 3,
   "metadata": {},
   "outputs": [
    {
     "data": {
      "image/png": "[encoded data removed]",
      "text/plain": [
       "<Figure size 432x288 with 1 Axes>"
      ]
     },
     "metadata": {
      "needs_background": "light"
     },
     "output_type": "display_data"
    }
   ],
   "source": [
    "h5store = 'data/small_hexagonal.hf5'\n",
    "#h5store = 'data/before_apoptosis.hf5'\n",
    "\n",
    "datasets = hdf5.load_datasets(h5store)\n",
    "sheet = Sheet('emin', datasets)\n",
    "sheet.sanitize(trim_borders=True, order_edges=True)\n",
    "\n",
    "geom.update_all(sheet)\n",
    "\n",
    "geom.scale(sheet, 1/sheet.face_df['area']**0.5 )\n",
    "\n",
    "fig, ax = sheet_view(sheet, ['z', 'x'], mode='quick')"
   ]
  },
  {
   "cell_type": "markdown",
   "metadata": {},
   "source": [
    "### (Non)-Dimensionalization\n",
    "\n",
    "\n",
    "If you Farhadifar's article or other modeling papers, you'll see that the discussion on parameter values is done by  defining unit dimensions, e.g. the unit length is defined such that the preferred area is unity. This can be done by scaling the dimension-less parameters and scaling them to correspond to the geometry. But in general it is simpler, and more robust computationally to scale the epithelium so that the average area is around unity (it is not strictly equivalent, but good usually enough).\n"
   ]
  },
  {
   "cell_type": "code",
   "execution_count": 37,
   "metadata": {},
   "outputs": [],
   "source": [
    "geom.scale(sheet, 1/sheet.face_df['area'].mean()**0.5, coords=sheet.coords)\n",
    "geom.update_all(sheet)\n"
   ]
  },
  {
   "cell_type": "markdown",
   "metadata": {},
   "source": [
    "## Effector classes\n",
    "\n",
    "An effector designates a dynamical term in the epithelium governing equation. For quasistatic models, we need to provide  a method to compute the energy associated with this effector, and the corresponding gradient. \n",
    "\n",
    "For example, we can consider a line tension effector. The energy is $E_t = \\sum_{ij} \\Lambda\\ell_{ij}$ where the sum is over all the edges. For each half-edge, the gradient of $E_t$ is defined by two terms, one for the gradient term associated with the half-edge ${ij}$ source, the over for it's target. For the $x$ coordinate:\n",
    "$$\n",
    "\\frac{\\partial E_t}{\\partial x_i}\n",
    "= \\Lambda\\left(\\sum_k \\frac{\\partial \\ell_{ik}}{\\partial x_i} + \\sum_m \\frac{\\partial \\ell_{mi}}{\\partial x_i}\\right)\n",
    "= \\Lambda\\left(\\sum_k \\frac{x_i}{\\ell_{ik}}  - \\sum_m \\frac{x_i}{\\ell_{mi}}\\right)\n",
    "$$\n",
    "\n",
    "Where $\\sum_k$ is are over all the edges which vertex $i$ is a source, and $\\sum_m$ over all the edges of which vertex i is a target. \n",
    "\n",
    "\n",
    "Here is the definition of the line tension effector:\n",
    "```python\n",
    "class LineTension(AbstractEffector):\n",
    "\n",
    "    dimensions = units.line_tension\n",
    "    magnitude = \"line_tension\"\n",
    "    label = \"Line tension\"\n",
    "    element = \"edge\"\n",
    "    specs = {\"edge\": {\"is_active\": 1, \"line_tension\": 1e-2}}\n",
    "\n",
    "    spatial_ref = \"mean_length\", units.length\n",
    "\n",
    "    @staticmethod\n",
    "    def energy(eptm):\n",
    "        return eptm.edge_df.eval(\n",
    "            \"line_tension\" \"* is_active\" \"* length / 2\"\n",
    "        )  # accounts for half edges\n",
    "\n",
    "    @staticmethod\n",
    "    def gradient(eptm):\n",
    "        grad_srce = -eptm.edge_df[eptm.ucoords] * to_nd(\n",
    "            eptm.edge_df.eval(\"line_tension * is_active/2\"), len(eptm.coords)\n",
    "        )\n",
    "        grad_srce.columns = [\"g\" + u for u in eptm.coords]\n",
    "        grad_trgt = -grad_srce\n",
    "        return grad_srce, grad_trgt\n",
    "```\n",
    "\n",
    "\n",
    "\n",
    "\n",
    "### Predefined effectors\n",
    "\n",
    "`AbstractEffector` : The abstract base class for all effectors\n",
    "\n",
    "### Edge effectors\n",
    "\n",
    "`LineTension` : $\\Lambda \\ell_{ij}$\n",
    "\n",
    "`LengthElasticity` : $\\frac{K_\\ell}{2} (\\ell_{ij} - \\ell_0)^2$\n",
    "\n",
    "\n",
    "### Face effectors\n",
    "\n",
    "`SurfaceTension` : $S A_{\\alpha}$\n",
    "\n",
    "`PerimeterElasticity` : $\\frac{K_P}{2} (P_{\\alpha} - P_0)^2$\n",
    "\n",
    "`FaceAreaElasticity` : $\\frac{K_a}{2} (a_{\\alpha} - a_0)^2$\n",
    "\n",
    "`FaceVolumeElasticity` : $\\frac{K_v}{2} (V_{\\alpha} - V_0)^2$ (Volume is computed with the \"height\" column of the face.\n",
    "\n",
    "`FaceContractility` : $\\Gamma P_{\\alpha}^2$\n",
    "\n",
    "### Cell effectors\n",
    "\n",
    "`CellAreaElasticity` : $\\frac{K_A}{2} (A_C - A_0)^2$\n",
    "\n",
    "`CellVolumeElasticity` : $\\frac{K_V}{2} (V_C - V_0)^2$\n",
    "\n",
    "### Lumen effectors (for closed geometries)\n",
    "\n",
    "`LumenAreaElasticity` : $\\frac{K_L}{2} (A_L - A_{L0})^2$\n",
    "\n",
    "`LumenVolumeElasticity` : $\\frac{K_L}{2} (V_L - V_{L0})^2$\n",
    "\n",
    "\n",
    "(There are some more in the `effectors` module but they are less generally useful)\n",
    "\n",
    "\n",
    "## Model factory\n",
    "\n",
    "\n",
    "These effectors are then aggregated with others to define a `model` object. This object will have two methods `compute_energy` and `compute_gradient` that take an `Epithelium` object as single argument.\n",
    "\n",
    "Such a model will usually be built with the function `model_factory`, that takes a list of effectors as input and returns a `model` object. For example, we can define the model from Farhadifar et al; by:\n"
   ]
  },
  {
   "cell_type": "code",
   "execution_count": 38,
   "metadata": {},
   "outputs": [],
   "source": [
    "model = model_factory([\n",
    "    effectors.LineTension,\n",
    "    effectors.FaceContractility,\n",
    "    effectors.FaceAreaElasticity\n",
    "])\n"
   ]
  },
  {
   "cell_type": "markdown",
   "metadata": {},
   "source": [
    "As for other aspects, the parameters are defined by a nested dictionary `spec`. Default values are gathered in the `model.spec` attribute:"
   ]
  },
  {
   "cell_type": "code",
   "execution_count": 39,
   "metadata": {},
   "outputs": [
    {
     "data": {
      "text/plain": [
       "{'cell': {},\n",
       " 'face': {'is_alive': 1,\n",
       "  'perimeter': 1.0,\n",
       "  'contractility': 1.0,\n",
       "  'area': 1.0,\n",
       "  'area_elasticity': 1.0,\n",
       "  'prefered_area': 1.0},\n",
       " 'edge': {'is_active': 1,\n",
       "  'line_tension': 1.0,\n",
       "  'sub_area': 0.16666666666666666},\n",
       " 'vert': {},\n",
       " 'settings': {'nrj_norm_factor': 1.0}}"
      ]
     },
     "execution_count": 39,
     "metadata": {},
     "output_type": "execute_result"
    }
   ],
   "source": [
    "model.specs"
   ]
  },
  {
   "cell_type": "markdown",
   "metadata": {},
   "source": [
    "We can use `sheet.update_spec` to set the correct columns in the sheet object.\n",
    "\n",
    "\n",
    "Once the columns are set, it is possible to sets parameters for a subsets of edges (here by indexing the edges with a boolean series):\n",
    "```\n",
    "sheet.edge_df.loc[sheet.edge_df['sx']<0, 'line_tension'] = 0.5\n",
    "```"
   ]
  },
  {
   "cell_type": "code",
   "execution_count": 40,
   "metadata": {},
   "outputs": [
    {
     "name": "stderr",
     "output_type": "stream",
     "text": [
      "Reseting column is_alive of the face dataset with new specs\n",
      "Reseting column perimeter of the face dataset with new specs\n",
      "Reseting column contractility of the face dataset with new specs\n",
      "Reseting column area of the face dataset with new specs\n",
      "Reseting column area_elasticity of the face dataset with new specs\n",
      "Reseting column prefered_area of the face dataset with new specs\n",
      "Reseting column is_active of the edge dataset with new specs\n",
      "Reseting column line_tension of the edge dataset with new specs\n",
      "Reseting column sub_area of the edge dataset with new specs\n"
     ]
    }
   ],
   "source": [
    "sheet.update_specs(model.specs, reset=True)"
   ]
  },
  {
   "cell_type": "markdown",
   "metadata": {},
   "source": [
    "### Compute Energy\n",
    "\n",
    "We now can compute the energy. By default, the `compute_energy` method returns a scalar, the total energy in the epithelium:"
   ]
  },
  {
   "cell_type": "code",
   "execution_count": 41,
   "metadata": {},
   "outputs": [
    {
     "name": "stdout",
     "output_type": "stream",
     "text": [
      "Total energy:  364.185\n"
     ]
    }
   ],
   "source": [
    "geom.update_all(sheet)\n",
    "energy = model.compute_energy(sheet)\n",
    "print(f'Total energy: {energy: .3f}')"
   ]
  },
  {
   "cell_type": "markdown",
   "metadata": {},
   "source": [
    "We can compute all the energy terms with the `full_output=True`:"
   ]
  },
  {
   "cell_type": "code",
   "execution_count": 42,
   "metadata": {},
   "outputs": [],
   "source": [
    "Et, Ec, Ea = model.compute_energy(sheet, full_output=True)"
   ]
  },
  {
   "cell_type": "code",
   "execution_count": 43,
   "metadata": {},
   "outputs": [
    {
     "data": {
      "text/plain": [
       "edge\n",
       "0    0.323769\n",
       "1    0.323769\n",
       "2    0.322213\n",
       "3    0.322213\n",
       "4    0.322213\n",
       "dtype: float64"
      ]
     },
     "execution_count": 43,
     "metadata": {},
     "output_type": "execute_result"
    }
   ],
   "source": [
    "Et.head()"
   ]
  },
  {
   "cell_type": "code",
   "execution_count": 44,
   "metadata": {},
   "outputs": [
    {
     "data": {
      "image/png": "[encoded data removed]",
      "text/plain": [
       "<Figure size 432x288 with 1 Axes>"
      ]
     },
     "metadata": {
      "needs_background": "light"
     },
     "output_type": "display_data"
    }
   ],
   "source": [
    "fig, ax = sheet_view(\n",
    "    sheet,\n",
    "    coords=list('zy'),\n",
    "    face={\"visible\": True, \"color\": Ec, \"colormap\": \"gray\"},\n",
    "    edge={\"color\": Et},\n",
    ")"
   ]
  },
  {
   "cell_type": "markdown",
   "metadata": {},
   "source": [
    "### Computing the gradient\n",
    "\n",
    "\n",
    "\n",
    "Similarly, by default, the gradient computes an array of shape (Nv, 3), with 3 coordinates (or 2 in 2D) for each vertex.\n",
    "\n"
   ]
  },
  {
   "cell_type": "code",
   "execution_count": 45,
   "metadata": {},
   "outputs": [
    {
     "data": {
      "text/html": [
       "<div>\n",
       "<style scoped>\n",
       "    .dataframe tbody tr th:only-of-type {\n",
       "        vertical-align: middle;\n",
       "    }\n",
       "\n",
       "    .dataframe tbody tr th {\n",
       "        vertical-align: top;\n",
       "    }\n",
       "\n",
       "    .dataframe thead th {\n",
       "        text-align: right;\n",
       "    }\n",
       "</style>\n",
       "<table border=\"1\" class=\"dataframe\">\n",
       "  <thead>\n",
       "    <tr style=\"text-align: right;\">\n",
       "      <th></th>\n",
       "      <th>gx</th>\n",
       "      <th>gy</th>\n",
       "      <th>gz</th>\n",
       "    </tr>\n",
       "    <tr>\n",
       "      <th>srce</th>\n",
       "      <th></th>\n",
       "      <th></th>\n",
       "      <th></th>\n",
       "    </tr>\n",
       "  </thead>\n",
       "  <tbody>\n",
       "    <tr>\n",
       "      <th>0</th>\n",
       "      <td>2.931605</td>\n",
       "      <td>1.214310e+00</td>\n",
       "      <td>-8.234192</td>\n",
       "    </tr>\n",
       "    <tr>\n",
       "      <th>1</th>\n",
       "      <td>2.931605</td>\n",
       "      <td>-1.214310e+00</td>\n",
       "      <td>-8.234192</td>\n",
       "    </tr>\n",
       "    <tr>\n",
       "      <th>2</th>\n",
       "      <td>2.640334</td>\n",
       "      <td>-1.093662e+00</td>\n",
       "      <td>-0.337580</td>\n",
       "    </tr>\n",
       "    <tr>\n",
       "      <th>3</th>\n",
       "      <td>2.892299</td>\n",
       "      <td>-1.007527e-14</td>\n",
       "      <td>-0.254173</td>\n",
       "    </tr>\n",
       "    <tr>\n",
       "      <th>4</th>\n",
       "      <td>2.640334</td>\n",
       "      <td>1.093662e+00</td>\n",
       "      <td>-0.337580</td>\n",
       "    </tr>\n",
       "  </tbody>\n",
       "</table>\n",
       "</div>"
      ],
      "text/plain": [
       "            gx            gy        gz\n",
       "srce                                  \n",
       "0     2.931605  1.214310e+00 -8.234192\n",
       "1     2.931605 -1.214310e+00 -8.234192\n",
       "2     2.640334 -1.093662e+00 -0.337580\n",
       "3     2.892299 -1.007527e-14 -0.254173\n",
       "4     2.640334  1.093662e+00 -0.337580"
      ]
     },
     "execution_count": 45,
     "metadata": {},
     "output_type": "execute_result"
    }
   ],
   "source": [
    "\n",
    "grad_E = model.compute_gradient(sheet)\n",
    "\n",
    "grad_E.head()"
   ]
  },
  {
   "cell_type": "markdown",
   "metadata": {},
   "source": [
    "With `components=True` it returns a tuple of terms for each effector of the model."
   ]
  },
  {
   "cell_type": "code",
   "execution_count": 46,
   "metadata": {
    "scrolled": true
   },
   "outputs": [
    {
     "data": {
      "text/html": [
       "<div>\n",
       "<style scoped>\n",
       "    .dataframe tbody tr th:only-of-type {\n",
       "        vertical-align: middle;\n",
       "    }\n",
       "\n",
       "    .dataframe tbody tr th {\n",
       "        vertical-align: top;\n",
       "    }\n",
       "\n",
       "    .dataframe thead th {\n",
       "        text-align: right;\n",
       "    }\n",
       "</style>\n",
       "<table border=\"1\" class=\"dataframe\">\n",
       "  <thead>\n",
       "    <tr style=\"text-align: right;\">\n",
       "      <th></th>\n",
       "      <th>gx</th>\n",
       "      <th>gy</th>\n",
       "      <th>gz</th>\n",
       "    </tr>\n",
       "    <tr>\n",
       "      <th>edge</th>\n",
       "      <th></th>\n",
       "      <th></th>\n",
       "      <th></th>\n",
       "    </tr>\n",
       "  </thead>\n",
       "  <tbody>\n",
       "    <tr>\n",
       "      <th>0</th>\n",
       "      <td>-0.00000</td>\n",
       "      <td>-0.000000</td>\n",
       "      <td>-0.500000</td>\n",
       "    </tr>\n",
       "    <tr>\n",
       "      <th>1</th>\n",
       "      <td>-0.00000</td>\n",
       "      <td>-0.000000</td>\n",
       "      <td>0.500000</td>\n",
       "    </tr>\n",
       "    <tr>\n",
       "      <th>2</th>\n",
       "      <td>0.08434</td>\n",
       "      <td>0.424007</td>\n",
       "      <td>0.251207</td>\n",
       "    </tr>\n",
       "    <tr>\n",
       "      <th>3</th>\n",
       "      <td>-0.08434</td>\n",
       "      <td>0.424007</td>\n",
       "      <td>-0.251207</td>\n",
       "    </tr>\n",
       "    <tr>\n",
       "      <th>4</th>\n",
       "      <td>0.08434</td>\n",
       "      <td>-0.424007</td>\n",
       "      <td>0.251207</td>\n",
       "    </tr>\n",
       "  </tbody>\n",
       "</table>\n",
       "</div>"
      ],
      "text/plain": [
       "           gx        gy        gz\n",
       "edge                             \n",
       "0    -0.00000 -0.000000 -0.500000\n",
       "1    -0.00000 -0.000000  0.500000\n",
       "2     0.08434  0.424007  0.251207\n",
       "3    -0.08434  0.424007 -0.251207\n",
       "4     0.08434 -0.424007  0.251207"
      ]
     },
     "execution_count": 46,
     "metadata": {},
     "output_type": "execute_result"
    }
   ],
   "source": [
    "gradients = model.compute_gradient(sheet, components=True)\n",
    "gradients = {label: (srce, trgt) for label, (srce, trgt)\n",
    "             in zip(model.labels, gradients)}\n",
    "gradients['Line tension'][0].head()"
   ]
  },
  {
   "cell_type": "markdown",
   "metadata": {},
   "source": [
    "## Plotting forces\n",
    "\n",
    "The `tyssue.draw` defines a useful `plot_forces` function:"
   ]
  },
  {
   "cell_type": "code",
   "execution_count": 48,
   "metadata": {},
   "outputs": [
    {
     "data": {
      "image/png": "[encoded data removed]",
      "text/plain": [
       "<Figure size 720x864 with 1 Axes>"
      ]
     },
     "metadata": {
      "needs_background": "light"
     },
     "output_type": "display_data"
    }
   ],
   "source": [
    "fig, ax = plot_forces(sheet, geom, model, ['z', 'y'], scaling=0.1)\n",
    "fig.set_size_inches(10, 12)\n"
   ]
  },
  {
   "cell_type": "markdown",
   "metadata": {},
   "source": [
    "### Fixing vertices\n",
    "\n",
    "\n",
    "You may notice that the border vertices have no arrow. This is because they are not active, and do not participate in e.g. energy minimization, as we'll see in the next section."
   ]
  }
 ],
 "metadata": {
  "kernelspec": {
   "display_name": "Python 3",
   "language": "python",
   "name": "python3"
  },
  "language_info": {
   "codemirror_mode": {
    "name": "ipython",
    "version": 3
   },
   "file_extension": ".py",
   "mimetype": "text/x-python",
   "name": "python",
   "nbconvert_exporter": "python",
   "pygments_lexer": "ipython3",
   "version": "3.9.1"
  }
 },
 "nbformat": 4,
 "nbformat_minor": 1
}
