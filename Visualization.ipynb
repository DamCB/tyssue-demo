{
 "cells": [
  {
   "cell_type": "markdown",
   "metadata": {},
   "source": [
    "# Epithelium Visualization"
   ]
  },
  {
   "cell_type": "code",
   "execution_count": 1,
   "metadata": {},
   "outputs": [],
   "source": [
    "import tyssue\n",
    "\n",
    "import numpy as np\n",
    "import pandas as pd\n",
    "\n",
    "import matplotlib.pylab as plt\n",
    "%matplotlib inline\n",
    "import ipyvolume as ipv\n",
    "\n",
    "\n",
    "from tyssue import Sheet, SheetGeometry  as geom\n",
    "from tyssue.generation import three_faces_sheet\n",
    "from tyssue.draw import sheet_view\n",
    "from tyssue import config\n",
    "from tyssue import Monolayer, config\n",
    "from tyssue.generation import extrude\n",
    "\n",
    "\n"
   ]
  },
  {
   "cell_type": "code",
   "execution_count": 2,
   "metadata": {},
   "outputs": [],
   "source": [
    "datasets, specs = three_faces_sheet()\n",
    "sheet = Sheet('3cells_2D', datasets, specs)\n",
    "\n",
    "\n",
    "geom.update_all(sheet)"
   ]
  },
  {
   "cell_type": "code",
   "execution_count": 3,
   "metadata": {},
   "outputs": [
    {
     "data": {
      "text/html": [
       "<div>\n",
       "<style scoped>\n",
       "    .dataframe tbody tr th:only-of-type {\n",
       "        vertical-align: middle;\n",
       "    }\n",
       "\n",
       "    .dataframe tbody tr th {\n",
       "        vertical-align: top;\n",
       "    }\n",
       "\n",
       "    .dataframe thead th {\n",
       "        text-align: right;\n",
       "    }\n",
       "</style>\n",
       "<table border=\"1\" class=\"dataframe\">\n",
       "  <thead>\n",
       "    <tr style=\"text-align: right;\">\n",
       "      <th></th>\n",
       "      <th>x</th>\n",
       "      <th>y</th>\n",
       "      <th>z</th>\n",
       "      <th>is_active</th>\n",
       "      <th>rho</th>\n",
       "      <th>height</th>\n",
       "      <th>basal_shift</th>\n",
       "    </tr>\n",
       "  </thead>\n",
       "  <tbody>\n",
       "    <tr>\n",
       "      <th>count</th>\n",
       "      <td>13.000000</td>\n",
       "      <td>1.300000e+01</td>\n",
       "      <td>13.0</td>\n",
       "      <td>13.0</td>\n",
       "      <td>13.0</td>\n",
       "      <td>13.0</td>\n",
       "      <td>13.0</td>\n",
       "    </tr>\n",
       "    <tr>\n",
       "      <th>mean</th>\n",
       "      <td>0.000000</td>\n",
       "      <td>-8.540177e-18</td>\n",
       "      <td>0.0</td>\n",
       "      <td>1.0</td>\n",
       "      <td>0.0</td>\n",
       "      <td>-4.0</td>\n",
       "      <td>4.0</td>\n",
       "    </tr>\n",
       "    <tr>\n",
       "      <th>std</th>\n",
       "      <td>1.172604</td>\n",
       "      <td>1.172570e+00</td>\n",
       "      <td>0.0</td>\n",
       "      <td>0.0</td>\n",
       "      <td>0.0</td>\n",
       "      <td>0.0</td>\n",
       "      <td>0.0</td>\n",
       "    </tr>\n",
       "  </tbody>\n",
       "</table>\n",
       "</div>"
      ],
      "text/plain": [
       "               x             y     z  is_active   rho  height  basal_shift\n",
       "count  13.000000  1.300000e+01  13.0       13.0  13.0    13.0         13.0\n",
       "mean    0.000000 -8.540177e-18   0.0        1.0   0.0    -4.0          4.0\n",
       "std     1.172604  1.172570e+00   0.0        0.0   0.0     0.0          0.0"
      ]
     },
     "execution_count": 3,
     "metadata": {},
     "output_type": "execute_result"
    }
   ],
   "source": [
    "sheet.vert_df.describe().head(3)"
   ]
  },
  {
   "cell_type": "markdown",
   "metadata": {},
   "source": [
    "## Matplotlib based representation\n",
    "\n",
    "### Custom settings\n",
    "\n",
    "These might go in a config file latter on."
   ]
  },
  {
   "cell_type": "markdown",
   "metadata": {},
   "source": [
    "#### Ploting itself"
   ]
  },
  {
   "cell_type": "markdown",
   "metadata": {},
   "source": [
    "## Epithelial sheet representation\n",
    "\n",
    "\n",
    "### The  default"
   ]
  },
  {
   "cell_type": "code",
   "execution_count": 4,
   "metadata": {},
   "outputs": [],
   "source": [
    "draw_specs = tyssue.config.draw.sheet_spec()"
   ]
  },
  {
   "cell_type": "code",
   "execution_count": 5,
   "metadata": {},
   "outputs": [
    {
     "data": {
      "image/png": "[encoded data removed]",
      "text/plain": [
       "<Figure size 576x576 with 1 Axes>"
      ]
     },
     "metadata": {
      "needs_background": "light"
     },
     "output_type": "display_data"
    }
   ],
   "source": [
    "fig, ax = sheet_view(sheet, ['x', 'y'])\n",
    "\n",
    "\n",
    "ax.set_xlim(-3, 2.5)\n",
    "ax.set_ylim(-2.75, 2.75)\n",
    "fig.set_size_inches((8, 8))\n",
    "    \n"
   ]
  },
  {
   "cell_type": "markdown",
   "metadata": {},
   "source": [
    "#### Coloring"
   ]
  },
  {
   "cell_type": "code",
   "execution_count": 6,
   "metadata": {},
   "outputs": [],
   "source": [
    "\n",
    "## Let's add a column to sheet.vert_df\n",
    "sheet.vert_df['rand'] = np.linspace(0.0, 1.0, num=sheet.vert_df.shape[0])\n",
    "\n",
    "cmap = plt.cm.get_cmap('viridis')\n",
    "color_cmap = cmap(sheet.vert_df.rand)\n",
    "draw_specs['vert']['visible'] = True\n",
    "\n",
    "draw_specs['vert']['color'] = color_cmap\n",
    "draw_specs['vert']['alpha'] = 0.5\n",
    "draw_specs['vert']['s'] = 500"
   ]
  },
  {
   "cell_type": "code",
   "execution_count": 7,
   "metadata": {},
   "outputs": [
    {
     "data": {
      "image/png": "[encoded data removed]",
      "text/plain": [
       "<Figure size 576x576 with 1 Axes>"
      ]
     },
     "metadata": {
      "needs_background": "light"
     },
     "output_type": "display_data"
    }
   ],
   "source": [
    "coords = ['x', 'y']\n",
    "fig, ax = sheet_view(sheet, coords, **draw_specs)\n",
    "\n",
    "ax.set_xlim(-3, 2.5)\n",
    "ax.set_ylim(-2.75, 2.75)\n",
    "fig.set_size_inches((8, 8))"
   ]
  },
  {
   "cell_type": "markdown",
   "metadata": {},
   "source": [
    "#### Filling the cells\n",
    "\n"
   ]
  },
  {
   "cell_type": "code",
   "execution_count": 8,
   "metadata": {},
   "outputs": [
    {
     "data": {
      "image/png": "[encoded data removed]",
      "text/plain": [
       "<Figure size 432x288 with 1 Axes>"
      ]
     },
     "metadata": {
      "needs_background": "light"
     },
     "output_type": "display_data"
    }
   ],
   "source": [
    "sheet.face_df['col'] = np.linspace(0.0, 1.0, \n",
    "                                    num=sheet.face_df.shape[0])\n",
    "\n",
    "cmap = plt.cm.get_cmap('viridis')\n",
    "color_cmap = cmap(sheet.face_df.col)\n",
    "\n",
    "draw_specs['edge']['visible'] = False\n",
    "\n",
    "draw_specs['face']['visible'] = True\n",
    "draw_specs['face']['color'] = sheet.face_df['col']\n",
    "draw_specs['face']['alpha'] = 0.5\n",
    "\n",
    "\n",
    "fig, ax = sheet_view(sheet, coords, **draw_specs)"
   ]
  },
  {
   "cell_type": "code",
   "execution_count": 9,
   "metadata": {},
   "outputs": [],
   "source": [
    "draw_specs['edge']['visible'] = True\n",
    "\n",
    "#draw_specs['face']['visible'] = False\n",
    "draw_specs['face']['color'] = color_cmap\n",
    "draw_specs['face']['alpha'] = 0.5\n",
    "\n",
    "edge_color = np.linspace(0.0, 1.0, \n",
    "                        num=sheet.edge_df.shape[0])\n",
    "\n",
    "cmap = plt.cm.get_cmap('viridis')\n",
    "edge_cmap = cmap(edge_color)\n",
    "draw_specs['edge']['color'] = edge_cmap #[0, 0, 0, 1]\n",
    "#draw_specs['edge']['color'] = [0, 0, 0, 0.2]\n",
    "\n",
    "draw_specs['edge']['width'] = 8. * np.linspace(0.0, 1.0, \n",
    "                        num=sheet.edge_df.shape[0])"
   ]
  },
  {
   "cell_type": "code",
   "execution_count": 10,
   "metadata": {},
   "outputs": [
    {
     "data": {
      "image/png": "[encoded data removed]",
      "text/plain": [
       "<Figure size 432x288 with 1 Axes>"
      ]
     },
     "metadata": {
      "needs_background": "light"
     },
     "output_type": "display_data"
    }
   ],
   "source": [
    "fig, ax = sheet_view(sheet, coords, **draw_specs)"
   ]
  },
  {
   "cell_type": "markdown",
   "metadata": {},
   "source": [
    "## Ipyvolume based"
   ]
  },
  {
   "cell_type": "code",
   "execution_count": 11,
   "metadata": {},
   "outputs": [
    {
     "data": {
      "application/vnd.jupyter.widget-view+json": {
       "model_id": "89d03b4be5d64515b0437e38c8e5be11",
       "version_major": 2,
       "version_minor": 0
      },
      "text/plain": [
       "Figure(camera=PerspectiveCamera(fov=46.0, position=(0.0, 0.0, 2.0), quaternion=(0.0, 0.0, 0.0, 1.0), scale=(1.…"
      ]
     },
     "metadata": {},
     "output_type": "display_data"
    }
   ],
   "source": [
    "\n",
    "extruded = extrude(sheet.datasets, method='translation')\n",
    "specs = config.geometry.bulk_spec()\n",
    "monolayer = Monolayer('mono', extruded, specs)\n",
    "\n",
    "\n",
    "\n",
    "ipv.clear()\n",
    "fig2, mesh = sheet_view(monolayer, mode=\"3D\")\n",
    "fig2"
   ]
  },
  {
   "cell_type": "markdown",
   "metadata": {},
   "source": [
    "### Vertex based color"
   ]
  },
  {
   "cell_type": "code",
   "execution_count": 12,
   "metadata": {},
   "outputs": [
    {
     "data": {
      "application/vnd.jupyter.widget-view+json": {
       "model_id": "7a3a8891ca90476f845b39e6b473a74c",
       "version_major": 2,
       "version_minor": 0
      },
      "text/plain": [
       "Figure(camera=PerspectiveCamera(fov=46.0, position=(0.0, 0.0, 2.0), quaternion=(0.0, 0.0, 0.0, 1.0), scale=(1.…"
      ]
     },
     "metadata": {},
     "output_type": "display_data"
    }
   ],
   "source": [
    "color = (monolayer.vert_df.x**2\n",
    "         + monolayer.vert_df.y**2\n",
    "         + monolayer.vert_df.z**2)\n",
    "\n",
    "\n",
    "ipv.clear()\n",
    "fig2, mesh = sheet_view(monolayer, edge={\"color\":color}, mode=\"3D\")\n",
    "fig2"
   ]
  },
  {
   "cell_type": "markdown",
   "metadata": {},
   "source": [
    "#### Edge based color"
   ]
  },
  {
   "cell_type": "code",
   "execution_count": 13,
   "metadata": {},
   "outputs": [
    {
     "data": {
      "application/vnd.jupyter.widget-view+json": {
       "model_id": "9b938ec49ac94ebca09b99415b6c7733",
       "version_major": 2,
       "version_minor": 0
      },
      "text/plain": [
       "Figure(camera=PerspectiveCamera(fov=46.0, position=(0.0, 0.0, 2.0), quaternion=(0.0, 0.0, 0.0, 1.0), scale=(1.…"
      ]
     },
     "metadata": {},
     "output_type": "display_data"
    }
   ],
   "source": [
    "color = monolayer.edge_df['dy']\n",
    "ipv.clear()\n",
    "fig2, mesh = sheet_view(monolayer, edge={\"color\":color}, mode=\"3D\")\n",
    "fig2"
   ]
  },
  {
   "cell_type": "markdown",
   "metadata": {},
   "source": [
    "### Displaying faces"
   ]
  },
  {
   "cell_type": "code",
   "execution_count": 14,
   "metadata": {},
   "outputs": [
    {
     "data": {
      "application/vnd.jupyter.widget-view+json": {
       "model_id": "872ad011c92443e08eeff1b7b9cf60b6",
       "version_major": 2,
       "version_minor": 0
      },
      "text/plain": [
       "Figure(camera=PerspectiveCamera(fov=46.0, position=(0.0, 0.0, 2.0), quaternion=(0.0, 0.0, 0.0, 1.0), scale=(1.…"
      ]
     },
     "metadata": {},
     "output_type": "display_data"
    }
   ],
   "source": [
    "draw_specs = config.draw.sheet_spec()\n",
    "\n",
    "draw_specs['face']['visible'] = True\n",
    "\n",
    "\n",
    "\n",
    "#draw_specs['face']['visible'] = False\n",
    "draw_specs['face']['color'] = np.random.random(monolayer.face_df.shape[0])\n",
    "\n",
    "draw_specs['face']['alpha'] = 0.5\n",
    "\n",
    "ipv.clear()\n",
    "fig2, mesh = sheet_view(monolayer, mode=\"3D\", **draw_specs)\n",
    "fig2"
   ]
  },
  {
   "cell_type": "markdown",
   "metadata": {},
   "source": [
    "### Higlighting faces"
   ]
  },
  {
   "cell_type": "code",
   "execution_count": 15,
   "metadata": {},
   "outputs": [],
   "source": [
    "from tyssue.draw import highlight_cells, highlight_faces"
   ]
  },
  {
   "cell_type": "code",
   "execution_count": 16,
   "metadata": {},
   "outputs": [
    {
     "data": {
      "application/vnd.jupyter.widget-view+json": {
       "model_id": "817dddc2609b4f91b43c14f48b0dc6fe",
       "version_major": 2,
       "version_minor": 0
      },
      "text/plain": [
       "Figure(camera=PerspectiveCamera(fov=46.0, position=(0.0, 0.0, 2.0), quaternion=(0.0, 0.0, 0.0, 1.0), scale=(1.…"
      ]
     },
     "metadata": {},
     "output_type": "display_data"
    }
   ],
   "source": [
    "highlight_faces(monolayer.face_df, [0, 2, 3], reset_visible=True)\n",
    "\n",
    "ipv.clear()\n",
    "fig2, mesh = sheet_view(monolayer, mode=\"3D\", **draw_specs)\n",
    "fig2"
   ]
  },
  {
   "cell_type": "code",
   "execution_count": 17,
   "metadata": {},
   "outputs": [
    {
     "data": {
      "application/vnd.jupyter.widget-view+json": {
       "model_id": "44763006f8044c2a866af0cee615e097",
       "version_major": 2,
       "version_minor": 0
      },
      "text/plain": [
       "Figure(camera=PerspectiveCamera(fov=46.0, position=(0.0, 0.0, 2.0), quaternion=(0.0, 0.0, 0.0, 1.0), scale=(1.…"
      ]
     },
     "metadata": {},
     "output_type": "display_data"
    }
   ],
   "source": [
    "highlight_cells(monolayer, 1, reset_visible=True)\n",
    "\n",
    "ipv.clear()\n",
    "fig2, mesh = sheet_view(monolayer, mode=\"3D\", **draw_specs)\n",
    "fig2"
   ]
  },
  {
   "cell_type": "code",
   "execution_count": null,
   "metadata": {},
   "outputs": [],
   "source": []
  }
 ],
 "metadata": {
  "kernelspec": {
   "display_name": "Python 3",
   "language": "python",
   "name": "python3"
  },
  "language_info": {
   "codemirror_mode": {
    "name": "ipython",
    "version": 3
   },
   "file_extension": ".py",
   "mimetype": "text/x-python",
   "name": "python",
   "nbconvert_exporter": "python",
   "pygments_lexer": "ipython3",
   "version": "3.7.6"
  }
 },
 "nbformat": 4,
 "nbformat_minor": 1
}
