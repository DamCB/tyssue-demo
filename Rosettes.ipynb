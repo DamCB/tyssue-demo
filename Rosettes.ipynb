{
 "cells": [
  {
   "cell_type": "markdown",
   "metadata": {},
   "source": [
    "This notebools is based on the following paper:\n",
    "\n",
    ">**The tricellular vertex-specific adhesion molecule Sidekick facilitates polarised cell intercalation during Drosophila axis extension** _Tara M Finegan, Nathan Hervieux, Alexander Nestor-Bergmann, Alexander G. Fletcher, Guy B Blanchard, Benedicte Sanson_ bioRxiv 704932; doi: https://doi.org/10.1101/704932 \n",
    "\n",
    "In particular, the authors expose a nice way to account for rosettes and solve topology changes in a more generic and I think robust way than T1 transition. I think, it allows vertices with more than 3 out-edges to have a finite lifetime, and avoids T1 oscillations\n",
    "\n",
    "\n",
    "\n",
    "I explore its implementation in [tyssue](https://github.com/damcb/tyssue), in 2D (also maybe in 3D, though it's less clear how :p)."
   ]
  },
  {
   "cell_type": "code",
   "execution_count": null,
   "metadata": {},
   "outputs": [],
   "source": [
    "# % conda install -c conda-forge tyssue"
   ]
  },
  {
   "cell_type": "code",
   "execution_count": null,
   "metadata": {},
   "outputs": [],
   "source": [
    "import numpy as np\n",
    "import pandas as pd\n",
    "import ipyvolume as ipv\n",
    "\n",
    "import matplotlib.pylab as plt\n",
    "%matplotlib inline\n",
    "\n",
    "\n",
    "from tyssue import config\n",
    "from tyssue import Monolayer, Sheet\n",
    "from tyssue import PlanarGeometry as geom\n",
    "from tyssue.generation import extrude\n",
    "from tyssue.dynamics import model_factory, effectors\n",
    "from tyssue.solvers.quasistatic import QSSolver\n",
    "\n",
    "from tyssue.topology.base_topology import collapse_edge, remove_face\n",
    "from tyssue.topology.sheet_topology import split_vert as sheet_split\n",
    "from tyssue.topology.bulk_topology import split_vert as bulk_split\n",
    "\n",
    "from tyssue.draw import sheet_view, highlight_cells\n",
    "\n",
    "from tyssue.core.sheet import get_opposite\n",
    "\n",
    "from tyssue.generation import single_cell\n",
    "from tyssue.core.objects import _is_closed_cell\n",
    "from tyssue.topology import condition_4i, condition_4ii\n",
    "\n",
    "from tyssue.utils import connectivity"
   ]
  },
  {
   "cell_type": "markdown",
   "metadata": {},
   "source": [
    "### Create a small patch of cells in 2D and a simple mechanical model"
   ]
  },
  {
   "cell_type": "code",
   "execution_count": null,
   "metadata": {},
   "outputs": [],
   "source": [
    "sheet = Sheet.planar_sheet_2d('flat', 30, 30, 1, 1, noise=0.2)\n",
    "to_cut = sheet.cut_out([(0.1, 6), (0.1, 6)])\n",
    "sheet.remove(to_cut, trim_borders=True)\n",
    "sheet.sanitize(trim_borders=True)\n",
    "geom.center(sheet)\n",
    "geom.update_all(sheet)\n",
    "sheet.update_rank()\n",
    "model = model_factory(\n",
    "    [\n",
    "        effectors.LineTension,\n",
    "        effectors.FaceContractility,\n",
    "        effectors.FaceAreaElasticity\n",
    "    ]\n",
    ")\n",
    "\n",
    "specs = {\n",
    "    \"face\": {\n",
    "        \"contractility\": 5e-2,\n",
    "        \"prefered_area\": sheet.face_df.area.mean(),\n",
    "        \"area_elasticity\": 1.\n",
    "    },\n",
    "    \"edge\": {\n",
    "        \"line_tension\": 1e-2,\n",
    "        \"is_active\": 1\n",
    "    },\n",
    "    \"vert\": {\n",
    "        \"is_active\": 1\n",
    "    },\n",
    "}\n",
    "\n",
    "sheet.update_specs(specs, reset=True)"
   ]
  },
  {
   "cell_type": "markdown",
   "metadata": {},
   "source": [
    "### Gradient descent"
   ]
  },
  {
   "cell_type": "code",
   "execution_count": null,
   "metadata": {},
   "outputs": [],
   "source": [
    "solver = QSSolver()\n",
    "\n",
    "res = solver.find_energy_min(sheet, geom, model)\n",
    "\n",
    "fig, ax = sheet_view(sheet, mode=\"quick\")\n"
   ]
  },
  {
   "cell_type": "markdown",
   "metadata": {},
   "source": [
    "## Formation of rosettes\n",
    "\n",
    "<hr/>\n",
    "\n",
    "![first screencap, forming rosettes](illus/finegan_etal_screencap1.png)\n",
    "\n",
    "_Finegan et al. 2019_"
   ]
  },
  {
   "cell_type": "code",
   "execution_count": null,
   "metadata": {},
   "outputs": [],
   "source": [
    "# first let's get vertex ranks\n",
    "# Note that this is 2 for border edges, might cause problems...\n"
   ]
  },
  {
   "cell_type": "markdown",
   "metadata": {},
   "source": [
    "### Merge vertices\n",
    "\n",
    "Or, said otherwize, collapse an edge"
   ]
  },
  {
   "cell_type": "code",
   "execution_count": null,
   "metadata": {},
   "outputs": [],
   "source": [
    "fig, ax = sheet_view(sheet, mode=\"quick\", edge={\"alpha\": 0.5})\n",
    "center_edge = sheet.edge_df.eval(\"sx**2 + sy**2\").idxmin()\n",
    "ax.scatter(sheet.edge_df.loc[center_edge, [\"sx\", \"tx\"]],\n",
    "           sheet.edge_df.loc[center_edge, [\"sy\", \"ty\"]])\n",
    "\n",
    "collapse_edge(sheet, center_edge)\n",
    "sheet.update_rank()\n",
    "\n",
    "geom.update_all(sheet)\n",
    "fig, ax = sheet_view(sheet, mode=\"quick\", ax=ax, edge={\"alpha\": 0.5})\n",
    "\n",
    "print(\"Maximum vertex rank: \", sheet.vert_df['rank'].max())"
   ]
  },
  {
   "cell_type": "code",
   "execution_count": null,
   "metadata": {},
   "outputs": [],
   "source": [
    "res = solver.find_energy_min(sheet, geom, model)\n",
    "fig, ax = sheet_view(sheet, mode=\"quick\", edge={\"alpha\": 0.5})\n"
   ]
  },
  {
   "cell_type": "markdown",
   "metadata": {},
   "source": [
    "### Do it again to increase rank"
   ]
  },
  {
   "cell_type": "code",
   "execution_count": null,
   "metadata": {},
   "outputs": [],
   "source": [
    "fig, ax = sheet_view(sheet, mode=\"quick\", edge={\"alpha\": 0.5})\n",
    "\n",
    "for i in range(4):\n",
    "    center_edge = sheet.edge_df.eval(\"sx**2 + sy**2\").idxmin()\n",
    "    collapse_edge(sheet, center_edge)\n",
    "    geom.update_all(sheet)\n",
    "    res = solver.find_energy_min(sheet, geom, model)\n",
    "    sheet.update_rank()\n",
    "\n",
    "fig, ax = sheet_view(sheet, mode=\"quick\", ax=ax, edge={\"alpha\": 0.5})\n",
    "\n",
    "\n",
    "print(\"Maximum vertex rank: \", sheet.vert_df['rank'].max())"
   ]
  },
  {
   "cell_type": "markdown",
   "metadata": {},
   "source": [
    "## Rosettes resolution\n",
    "\n",
    "<hr/>\n",
    "\n",
    "![Second screencap, solving rosettes](illus/finegan_etal_screencap2.png)\n",
    "\n",
    "_Finegan et al. 2019_\n",
    "\n",
    "\n",
    "\n",
    "As far as I understand, the difference between rank 5+ and rank 4 is not topological, but geometrical (the \"old\" vertex is moved towards the opposite cell center) and statistical because $p_4$ is higher than $p_{5+}$"
   ]
  },
  {
   "cell_type": "markdown",
   "metadata": {},
   "source": [
    "### Solve for a single edge"
   ]
  },
  {
   "cell_type": "code",
   "execution_count": null,
   "metadata": {},
   "outputs": [],
   "source": [
    "#sheet = bck.copy()\n",
    "max_rank = sheet.vert_df['rank'].idxmax()\n",
    "\n",
    "print(\"Maximum vertex rank prior to rearangement: \", sheet.vert_df['rank'].max())\n",
    "\n",
    "\n",
    "fig, ax = sheet_view(sheet, mode=\"quick\", edge={\"alpha\": 0.5})\n",
    "max_rank_vert = sheet.vert_df['rank'].idxmax()\n",
    "\n",
    "ax.scatter(sheet.vert_df.loc[max_rank_vert, \"x\"],\n",
    "           sheet.vert_df.loc[max_rank_vert, \"y\"])\n",
    "\n",
    "sheet_split(sheet, max_rank_vert)\n",
    "sheet.update_rank()\n",
    "\n",
    "geom.update_all(sheet)\n",
    "fig, ax = sheet_view(sheet, mode=\"quick\", ax=ax, edge={\"alpha\": 0.5})\n",
    "\n",
    "print(\"Maximum vertex rank after rearangement: \", sheet.vert_df['rank'].max())\n"
   ]
  },
  {
   "cell_type": "code",
   "execution_count": null,
   "metadata": {},
   "outputs": [],
   "source": [
    "res = solver.find_energy_min(sheet, geom, model)\n",
    "fig, ax = sheet_view(sheet, mode=\"quick\", edge={\"alpha\": 0.5})"
   ]
  },
  {
   "cell_type": "markdown",
   "metadata": {},
   "source": [
    "### Solve repeatedly"
   ]
  },
  {
   "cell_type": "code",
   "execution_count": null,
   "metadata": {},
   "outputs": [],
   "source": [
    "#sheet = bck.copy()\n",
    "max_rank = sheet.vert_df['rank'].max()\n",
    "print(\"Maximum vertex rank prior to rearangement: \", max_rank)\n",
    "\n",
    "while max_rank > 3:\n",
    "    max_rank_vert = sheet.vert_df['rank'].idxmax()\n",
    "\n",
    "    sheet_split(sheet, max_rank_vert)\n",
    "    sheet.update_rank()\n",
    "\n",
    "    geom.update_all(sheet)\n",
    "\n",
    "    res = solver.find_energy_min(sheet, geom, model)\n",
    "    max_rank = sheet.vert_df['rank'].max()\n",
    "\n",
    "    print(\"Maximum vertex rank: \", max_rank)\n",
    "\n",
    "fig, ax = sheet_view(sheet, mode=\"quick\", edge={\"alpha\": 0.5})"
   ]
  },
  {
   "cell_type": "code",
   "execution_count": null,
   "metadata": {},
   "outputs": [],
   "source": [
    "assert sheet.validate()"
   ]
  },
  {
   "cell_type": "markdown",
   "metadata": {},
   "source": [
    "#### Collapse a face and resolve the rosette"
   ]
  },
  {
   "cell_type": "code",
   "execution_count": null,
   "metadata": {},
   "outputs": [],
   "source": [
    "remove_face(sheet, 12)\n",
    "sheet.update_rank()\n",
    "geom.update_all(sheet)\n",
    "\n",
    "res = solver.find_energy_min(sheet, geom, model)"
   ]
  },
  {
   "cell_type": "code",
   "execution_count": null,
   "metadata": {},
   "outputs": [],
   "source": [
    "fig, ax = sheet_view(sheet, mode=\"quick\", edge={\"alpha\": 0.5})\n"
   ]
  },
  {
   "cell_type": "code",
   "execution_count": null,
   "metadata": {},
   "outputs": [],
   "source": [
    "max_rank = sheet.vert_df['rank'].max()\n",
    "while max_rank > 3:\n",
    "    max_rank_vert = sheet.vert_df['rank'].idxmax()\n",
    "\n",
    "    sheet_split(sheet, max_rank_vert)\n",
    "    sheet.update_rank()\n",
    "\n",
    "    geom.update_all(sheet)\n",
    "\n",
    "    res = solver.find_energy_min(sheet, geom, model)\n",
    "    max_rank = sheet.vert_df['rank'].max()\n",
    "\n",
    "    print(\"Maximum vertex rank: \", max_rank)"
   ]
  },
  {
   "cell_type": "code",
   "execution_count": null,
   "metadata": {},
   "outputs": [],
   "source": [
    "fig, ax = sheet_view(sheet, mode=\"quick\", edge={\"alpha\": 0.5})"
   ]
  },
  {
   "cell_type": "markdown",
   "metadata": {},
   "source": [
    "# How about in 3D?\n",
    "\n"
   ]
  },
  {
   "cell_type": "markdown",
   "metadata": {},
   "source": [
    "### Illustration of the split / collapse algorithm in 3D\n",
    "\n",
    "\n",
    "![illustration of the rearangements](illus/IH_transition.png)"
   ]
  },
  {
   "cell_type": "markdown",
   "metadata": {},
   "source": [
    "### Extrude a monolayer from the previous sheet"
   ]
  },
  {
   "cell_type": "code",
   "execution_count": null,
   "metadata": {},
   "outputs": [],
   "source": [
    "from tyssue import MonolayerGeometry as geom\n",
    "\n",
    "# Promote the sheet to 2.5 D\n",
    "sheet.update_specs(config.geometry.sheet_spec())\n",
    "\n",
    "\n",
    "specs = config.geometry.bulk_spec()\n",
    "datasets = extrude(sheet.datasets, method='translation')\n",
    "eptm = Monolayer('mono', datasets, specs)\n",
    "\n",
    "geom.center(eptm)\n",
    "geom.update_all(eptm) \n",
    "\n",
    "## Sanity check\n",
    "assert eptm.validate()"
   ]
  },
  {
   "cell_type": "markdown",
   "metadata": {},
   "source": [
    "### Setup a simple mechanical model and quasistatically descend it"
   ]
  },
  {
   "cell_type": "code",
   "execution_count": null,
   "metadata": {},
   "outputs": [],
   "source": [
    "model = model_factory([\n",
    "    effectors.CellVolumeElasticity,\n",
    "    effectors.FaceContractility,\n",
    "    effectors.LineTension,\n",
    "])\n",
    "\n",
    "## Initial model settings\n",
    "dyn_specs = {\n",
    "    \"settings\": {\n",
    "        \"threshold_length\": 1e-3,\n",
    "    },\n",
    "    \"cell\": {\n",
    "        \"prefered_vol\": eptm.cell_df.vol.mean(),\n",
    "        \"prefered_area\": eptm.cell_df.area.mean(),\n",
    "        \"vol_elasticity\": 14.0,\n",
    "        #\"area_elasticity\": 1.0,\n",
    "    },\n",
    "    \"face\": {\n",
    "        #\"surface_tension\": 1.0,\n",
    "        \"contractility\": 1e-2\n",
    "    },\n",
    "    \"edge\": {\n",
    "        \"line_tension\": 0.01,\n",
    "    }\n",
    "}\n",
    "\n",
    "## Those settings are set homogenously in the epithelium\n",
    "eptm.update_specs(dyn_specs, reset=True)\n",
    "\n",
    "# Lower the lateral contractility\n",
    "eptm.face_df.loc[eptm.lateral_faces, 'contractility'] /= 2\n",
    "\n",
    "solver = QSSolver(with_t1=False, with_t3=False)\n",
    "res = solver.find_energy_min(eptm, geom, model)\n",
    "eptm.update_rank()\n",
    "\n",
    "ipv.clear()\n",
    "eptm.face_df[\"visible\"] =True\n",
    "fig, mesh = sheet_view(\n",
    "    eptm,\n",
    "    mode='3D',\n",
    "    face={\n",
    "        \"visible\": True,\n",
    "        \"color\": eptm.face_df.area\n",
    "    }\n",
    ")\n",
    "\n",
    "ipv.show()"
   ]
  },
  {
   "cell_type": "code",
   "execution_count": null,
   "metadata": {},
   "outputs": [],
   "source": [
    "center_edge = eptm.edge_df.query('segment == \"apical\"').eval(\"sx**2 + sy**2\").idxmin()\n",
    "\n",
    "fig, ax = sheet_view(eptm, coords = ['x', 'y'], mode=\"quick\")\n",
    "for cell, (x, y) in eptm.cell_df[['x', 'y']].iterrows():\n",
    "    ax.text(x, y, str(cell))\n",
    "_= ax.scatter(\n",
    "    eptm.edge_df.loc[center_edge, ['sx', 'tx']],\n",
    "    eptm.edge_df.loc[center_edge, ['sy', 'ty']])\n"
   ]
  },
  {
   "cell_type": "code",
   "execution_count": null,
   "metadata": {},
   "outputs": [],
   "source": [
    "ret_code = collapse_edge(eptm, center_edge, allow_two_sided=True)\n",
    "if ret_code:\n",
    "    print('Collapse failed')\n",
    "geom.update_all(eptm)\n",
    "\n",
    "eptm.update_rank()\n",
    "print(\"Maximum vertex rank: \", eptm.vert_df['rank'].max())\n",
    "\n",
    "ipv.clear()\n",
    "eptm.face_df[\"visible\"] = eptm.face_df['segment'] == \"lateral\"\n",
    "fig, mesh = sheet_view(\n",
    "    eptm,\n",
    "    mode='3D',\n",
    "    face={\n",
    "        \"visible\": True,\n",
    "        \"color\": eptm.face_df.area\n",
    "    }\n",
    ")\n",
    "\n",
    "ipv.show()\n",
    "\n",
    "assert eptm.validate()\n",
    "\n",
    "\n",
    "print(\"Maximum vertex rank: \", eptm.vert_df['rank'].max())\n",
    "vert = eptm.vert_df['rank'].idxmax()\n",
    "print(\"Rosette index: \", vert)\n",
    "bck = eptm.copy()\n"
   ]
  },
  {
   "cell_type": "code",
   "execution_count": null,
   "metadata": {},
   "outputs": [],
   "source": [
    "set(condition_4ii(eptm).ravel())"
   ]
  },
  {
   "cell_type": "code",
   "execution_count": null,
   "metadata": {},
   "outputs": [],
   "source": [
    "res = solver.find_energy_min(eptm, geom, model)\n"
   ]
  },
  {
   "cell_type": "code",
   "execution_count": null,
   "metadata": {},
   "outputs": [],
   "source": [
    "\n",
    "eptm.settings['threshold_length'] = 0.1\n",
    "bulk_split(eptm, vert, face=None, multiplier=2)\n",
    "\n",
    "assert eptm.validate()"
   ]
  },
  {
   "cell_type": "code",
   "execution_count": null,
   "metadata": {},
   "outputs": [],
   "source": [
    "ipv.clear()\n",
    "geom.update_all(eptm)\n",
    "res = solver.find_energy_min(eptm, geom, model)\n",
    "\n",
    "eptm.face_df[\"visible\"] = False\n",
    "#eptm.face_df[\"visible\"] = eptm.face_df[\"segment\"] == \"lateral\"\n",
    "#eptm.face_df[\"visible\"] = eptm.face_df.eval('(x**2 + (y+0.5)**2) < 0.5')\n",
    "#eptm.face_df[\"visible\"] = False\n",
    "c4ii = np.unique(condition_4ii(eptm))\n",
    "eptm.face_df.loc[c4ii, \"visible\"] = True\n",
    "fig, mesh = sheet_view(\n",
    "    eptm,\n",
    "    mode='3D',\n",
    "    face={\n",
    "        \"visible\": True,\n",
    "        \"color\": eptm.face_df.area\n",
    "    }\n",
    ")\n",
    "\n",
    "ipv.show()"
   ]
  },
  {
   "cell_type": "markdown",
   "metadata": {},
   "source": [
    "## Testing vertex split towards all possible faces"
   ]
  },
  {
   "cell_type": "code",
   "execution_count": null,
   "metadata": {
    "scrolled": true
   },
   "outputs": [],
   "source": [
    "all_edges = bck.edge_df[\n",
    "    (bck.edge_df[\"trgt\"] == vert)\n",
    "    | (bck.edge_df[\"srce\"] == vert)\n",
    "]\n",
    "\n",
    "\n",
    "eptms = {}\n",
    "for face, edge in all_edges.reset_index().groupby(\"face\").first()['edge'].items():\n",
    "    eptm = bck.copy()\n",
    "    cell = eptm.edge_df.loc[edge, \"cell\"]\n",
    "    print(f\"splitting vertex {vert} towards cell {cell} over face {face}\")\n",
    "    bulk_split(eptm, vert, face=face, multiplier=2)\n",
    "    assert eptm.validate()\n",
    "    c4i, c4ii = condition_4i(eptm), condition_4ii(eptm)\n",
    "    if len(c4i):\n",
    "        print(f\"\\nIssue with face {face}\")\n",
    "        print(\"Number of condition 4i faces : \", len(c4i))\n",
    "    if len(c4ii):\n",
    "        print(f\"\\nIssue with face {face}\")\n",
    "        print(\"Number of condition 4ii faces : \", len(c4ii))\n",
    "    \n",
    "    eptms[face] = eptm\n"
   ]
  },
  {
   "cell_type": "code",
   "execution_count": null,
   "metadata": {},
   "outputs": [],
   "source": [
    "ipv.clear()\n",
    "geom.update_all(eptm)\n",
    "\n",
    "eptm.face_df[\"visible\"] = False\n",
    "#eptm.face_df[\"visible\"] = eptm.face_df[\"segment\"] == \"lateral\"\n",
    "#eptm.face_df[\"visible\"] = eptm.face_df.eval('(x**2 + (y+0.5)**2) < 0.5')\n",
    "#eptm.face_df[\"visible\"] = False\n",
    "\n",
    "eptm.face_df.loc[set(condition_4ii(eptm).ravel()[:2]), \"visible\"] = True\n",
    "fig, mesh = sheet_view(\n",
    "    eptm,\n",
    "    mode='3D',\n",
    "    face={\n",
    "        \"visible\": True,\n",
    "        \"color\": eptm.face_df.area\n",
    "    }\n",
    ")\n",
    "\n",
    "ipv.show()"
   ]
  },
  {
   "cell_type": "markdown",
   "metadata": {},
   "source": [
    "### Collapsing a face"
   ]
  },
  {
   "cell_type": "code",
   "execution_count": null,
   "metadata": {},
   "outputs": [],
   "source": [
    "eptm.vert_df['rank'].min()"
   ]
  },
  {
   "cell_type": "code",
   "execution_count": null,
   "metadata": {},
   "outputs": [],
   "source": [
    "condition_4ii(eptm)"
   ]
  },
  {
   "cell_type": "code",
   "execution_count": null,
   "metadata": {},
   "outputs": [],
   "source": [
    "center_face = eptm.face_df.query(\"segment == 'apical'\").eval(\"x**2 + y**2\").idxmin()\n",
    "\n",
    "remove_face(eptm, center_face)"
   ]
  },
  {
   "cell_type": "code",
   "execution_count": null,
   "metadata": {},
   "outputs": [],
   "source": [
    "ipv.clear()\n",
    "geom.update_all(eptm)\n",
    "res = solver.find_energy_min(eptm, geom, model)\n",
    "\n",
    "#eptm.face_df[\"visible\"] = False\n",
    "eptm.face_df[\"visible\"] = eptm.face_df[\"segment\"] == \"lateral\"\n",
    "#eptm.face_df[\"visible\"] = eptm.face_df.eval('(x**2 + (y+0.5)**2) < 0.5')\n",
    "#eptm.face_df[\"visible\"] = False\n",
    "\n",
    "#eptm.face_df.loc[set(condition_4ii(eptm).ravel()[:2]), \"visible\"] = True\n",
    "fig, mesh = sheet_view(\n",
    "    eptm,\n",
    "    mode='3D',\n",
    "    face={\n",
    "        \"visible\": True,\n",
    "        \"color\": eptm.face_df.area\n",
    "    }\n",
    ")\n",
    "\n",
    "ipv.show()"
   ]
  },
  {
   "cell_type": "markdown",
   "metadata": {},
   "source": [
    "### Split the created vertex"
   ]
  },
  {
   "cell_type": "code",
   "execution_count": null,
   "metadata": {},
   "outputs": [],
   "source": [
    "vert = eptm.vert_df.index[-1]\n",
    "\n",
    "bulk_split(eptm, vert)\n",
    "\n",
    "\n",
    "geom.update_all(eptm)\n",
    "\n",
    "assert eptm.validate()"
   ]
  },
  {
   "cell_type": "code",
   "execution_count": null,
   "metadata": {},
   "outputs": [],
   "source": [
    "ipv.clear()\n",
    "geom.update_all(eptm)\n",
    "res = solver.find_energy_min(eptm, geom, model)\n",
    "\n",
    "#eptm.face_df[\"visible\"] = False\n",
    "eptm.face_df[\"visible\"] = eptm.face_df[\"segment\"] == \"lateral\"\n",
    "#eptm.face_df[\"visible\"] = eptm.face_df.eval('(x**2 + (y+0.5)**2) < 0.5')\n",
    "#eptm.face_df[\"visible\"] = False\n",
    "\n",
    "#eptm.face_df.loc[set(condition_4ii(eptm).ravel()[:2]), \"visible\"] = True\n",
    "fig, mesh = sheet_view(\n",
    "    eptm,\n",
    "    mode='3D',\n",
    "    face={\n",
    "        \"visible\": True,\n",
    "        \"color\": eptm.face_df.area\n",
    "    }\n",
    ")\n",
    "\n",
    "ipv.show()"
   ]
  },
  {
   "cell_type": "code",
   "execution_count": null,
   "metadata": {},
   "outputs": [],
   "source": [
    "eptm.update_rank()\n",
    "\n",
    "print(\"Maximum vertex rank: \", eptm.vert_df['rank'].max())\n",
    "\n",
    "vert = eptm.vert_df['rank'].idxmax()\n",
    "print(\"Rosette index: \", vert)"
   ]
  },
  {
   "cell_type": "markdown",
   "metadata": {},
   "source": [
    "### Solve repeatedly"
   ]
  },
  {
   "cell_type": "code",
   "execution_count": null,
   "metadata": {},
   "outputs": [],
   "source": [
    "from itertools import count"
   ]
  },
  {
   "cell_type": "code",
   "execution_count": null,
   "metadata": {
    "scrolled": true
   },
   "outputs": [],
   "source": [
    "for i in count():\n",
    "    vert = eptm.vert_df['rank'].idxmax()\n",
    "    try:\n",
    "        bulk_split(eptm, vert)\n",
    "    except ValueError:\n",
    "        continue\n",
    "    eptm.update_rank()\n",
    "    max_rank = eptm.vert_df['rank'].max()\n",
    "    print(\"Maximum vertex rank: \", max_rank)\n",
    "    \n",
    "    geom.update_all(eptm)\n",
    "    res = solver.find_energy_min(eptm, geom, model)\n",
    "    assert eptm.validate()\n",
    "    if max_rank < 5:\n",
    "        break\n",
    "    \n",
    "    elif i > 100:\n",
    "        raise RecursionError\n",
    "    "
   ]
  },
  {
   "cell_type": "code",
   "execution_count": null,
   "metadata": {},
   "outputs": [],
   "source": [
    "ipv.clear()\n",
    "geom.update_all(eptm)\n",
    "\n",
    "#eptm.face_df[\"visible\"] = False\n",
    "eptm.face_df[\"visible\"] = eptm.face_df[\"segment\"] == \"lateral\"\n",
    "#eptm.face_df[\"visible\"] = eptm.face_df.eval('(x**2 + (y+0.5)**2) < 0.5')\n",
    "#eptm.face_df[\"visible\"] = False\n",
    "\n",
    "#eptm.face_df.loc[set(condition_4ii(eptm).ravel()[:2]), \"visible\"] = True\n",
    "fig, mesh = sheet_view(\n",
    "    eptm,\n",
    "    mode='3D',\n",
    "    face={\n",
    "        \"visible\": True,\n",
    "        \"color\": eptm.face_df.area\n",
    "    }\n",
    ")\n",
    "\n",
    "ipv.show()"
   ]
  },
  {
   "cell_type": "code",
   "execution_count": null,
   "metadata": {},
   "outputs": [],
   "source": []
  }
 ],
 "metadata": {
  "kernelspec": {
   "display_name": "Python 3",
   "language": "python",
   "name": "python3"
  },
  "language_info": {
   "codemirror_mode": {
    "name": "ipython",
    "version": 3
   },
   "file_extension": ".py",
   "mimetype": "text/x-python",
   "name": "python",
   "nbconvert_exporter": "python",
   "pygments_lexer": "ipython3",
   "version": "3.7.6"
  }
 },
 "nbformat": 4,
 "nbformat_minor": 2
}
