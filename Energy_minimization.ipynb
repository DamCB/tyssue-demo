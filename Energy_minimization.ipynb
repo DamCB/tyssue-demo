{
 "cells": [
  {
   "cell_type": "markdown",
   "metadata": {},
   "source": [
    "## Energy minimization for a 2.5D sheet in 3D"
   ]
  },
  {
   "cell_type": "code",
   "execution_count": 1,
   "metadata": {},
   "outputs": [],
   "source": [
    "import sys\n",
    "import pandas as pd\n",
    "import numpy as np\n",
    "import json\n",
    "import matplotlib.pylab as plt\n",
    "%matplotlib inline\n",
    "\n",
    "from scipy import optimize\n",
    "\n",
    "from tyssue import Sheet\n",
    "\n",
    "from tyssue import SheetGeometry as geom\n",
    "from tyssue.dynamics.sheet_vertex_model import SheetModel as model \n",
    "from tyssue.solvers.quasistatic import QSSolver\n",
    "from tyssue import config\n",
    "from tyssue.solvers.isotropic_solver import bruteforce_isotropic_relax\n",
    "\n",
    "from tyssue.draw.plt_draw import sheet_view\n",
    "import tyssue.draw.plt_draw as draw\n",
    "from tyssue.io import hdf5\n"
   ]
  },
  {
   "cell_type": "code",
   "execution_count": 2,
   "metadata": {},
   "outputs": [
    {
     "data": {
      "text/html": [
       "<div>\n",
       "<style scoped>\n",
       "    .dataframe tbody tr th:only-of-type {\n",
       "        vertical-align: middle;\n",
       "    }\n",
       "\n",
       "    .dataframe tbody tr th {\n",
       "        vertical-align: top;\n",
       "    }\n",
       "\n",
       "    .dataframe thead th {\n",
       "        text-align: right;\n",
       "    }\n",
       "</style>\n",
       "<table border=\"1\" class=\"dataframe\">\n",
       "  <thead>\n",
       "    <tr style=\"text-align: right;\">\n",
       "      <th></th>\n",
       "      <th>y</th>\n",
       "      <th>is_active</th>\n",
       "      <th>z</th>\n",
       "      <th>x</th>\n",
       "      <th>rho</th>\n",
       "      <th>old_idx</th>\n",
       "      <th>basal_shift</th>\n",
       "      <th>height</th>\n",
       "      <th>radial_tension</th>\n",
       "    </tr>\n",
       "  </thead>\n",
       "  <tbody>\n",
       "    <tr>\n",
       "      <th>count</th>\n",
       "      <td>8.000000e+01</td>\n",
       "      <td>80.000000</td>\n",
       "      <td>8.000000e+01</td>\n",
       "      <td>8.000000e+01</td>\n",
       "      <td>8.000000e+01</td>\n",
       "      <td>80.000000</td>\n",
       "      <td>8.000000e+01</td>\n",
       "      <td>8.000000e+01</td>\n",
       "      <td>80.0</td>\n",
       "    </tr>\n",
       "    <tr>\n",
       "      <th>mean</th>\n",
       "      <td>1.110223e-15</td>\n",
       "      <td>0.800000</td>\n",
       "      <td>8.881784e-17</td>\n",
       "      <td>-2.620126e-15</td>\n",
       "      <td>8.071634e+00</td>\n",
       "      <td>103.425000</td>\n",
       "      <td>2.216705e+00</td>\n",
       "      <td>5.854929e+00</td>\n",
       "      <td>0.0</td>\n",
       "    </tr>\n",
       "    <tr>\n",
       "      <th>std</th>\n",
       "      <td>5.743517e+00</td>\n",
       "      <td>0.402524</td>\n",
       "      <td>8.027290e+00</td>\n",
       "      <td>5.743517e+00</td>\n",
       "      <td>4.968335e-15</td>\n",
       "      <td>27.759261</td>\n",
       "      <td>4.468911e-16</td>\n",
       "      <td>5.000389e-15</td>\n",
       "      <td>0.0</td>\n",
       "    </tr>\n",
       "  </tbody>\n",
       "</table>\n",
       "</div>"
      ],
      "text/plain": [
       "                  y  is_active             z             x           rho  \\\n",
       "count  8.000000e+01  80.000000  8.000000e+01  8.000000e+01  8.000000e+01   \n",
       "mean   1.110223e-15   0.800000  8.881784e-17 -2.620126e-15  8.071634e+00   \n",
       "std    5.743517e+00   0.402524  8.027290e+00  5.743517e+00  4.968335e-15   \n",
       "\n",
       "          old_idx   basal_shift        height  radial_tension  \n",
       "count   80.000000  8.000000e+01  8.000000e+01            80.0  \n",
       "mean   103.425000  2.216705e+00  5.854929e+00             0.0  \n",
       "std     27.759261  4.468911e-16  5.000389e-15             0.0  "
      ]
     },
     "execution_count": 2,
     "metadata": {},
     "output_type": "execute_result"
    }
   ],
   "source": [
    "h5store = 'data/small_hexagonal.hf5'\n",
    "\n",
    "datasets = hdf5.load_datasets(h5store,\n",
    "                              data_names=['face', 'vert', 'edge'])\n",
    "specs = config.geometry.cylindrical_sheet()\n",
    "sheet = Sheet('emin', datasets, specs)\n",
    "sheet.sanitize(trim_borders=True, order_edges=True)\n",
    "\n",
    "geom.update_all(sheet)\n",
    "sheet.vert_df.describe().head(3)\n"
   ]
  },
  {
   "cell_type": "code",
   "execution_count": 3,
   "metadata": {},
   "outputs": [
    {
     "data": {
      "text/html": [
       "<div>\n",
       "<style scoped>\n",
       "    .dataframe tbody tr th:only-of-type {\n",
       "        vertical-align: middle;\n",
       "    }\n",
       "\n",
       "    .dataframe tbody tr th {\n",
       "        vertical-align: top;\n",
       "    }\n",
       "\n",
       "    .dataframe thead th {\n",
       "        text-align: right;\n",
       "    }\n",
       "</style>\n",
       "<table border=\"1\" class=\"dataframe\">\n",
       "  <thead>\n",
       "    <tr style=\"text-align: right;\">\n",
       "      <th></th>\n",
       "      <th>area</th>\n",
       "      <th>z</th>\n",
       "      <th>y</th>\n",
       "      <th>is_alive</th>\n",
       "      <th>x</th>\n",
       "      <th>perimeter</th>\n",
       "      <th>old_idx</th>\n",
       "      <th>num_sides</th>\n",
       "      <th>vol</th>\n",
       "      <th>prefered_area</th>\n",
       "      <th>prefered_vol</th>\n",
       "      <th>contractility</th>\n",
       "      <th>vol_elasticity</th>\n",
       "      <th>prefered_height</th>\n",
       "      <th>basal_shift</th>\n",
       "      <th>basal_height</th>\n",
       "      <th>height</th>\n",
       "      <th>rho</th>\n",
       "    </tr>\n",
       "  </thead>\n",
       "  <tbody>\n",
       "    <tr>\n",
       "      <th>count</th>\n",
       "      <td>40.000000</td>\n",
       "      <td>4.000000e+01</td>\n",
       "      <td>4.000000e+01</td>\n",
       "      <td>40.0</td>\n",
       "      <td>4.000000e+01</td>\n",
       "      <td>40.000000</td>\n",
       "      <td>40.000000</td>\n",
       "      <td>40.000000</td>\n",
       "      <td>40.000000</td>\n",
       "      <td>40.0</td>\n",
       "      <td>40.0</td>\n",
       "      <td>40.000000</td>\n",
       "      <td>40.0</td>\n",
       "      <td>40.0</td>\n",
       "      <td>40.000000</td>\n",
       "      <td>40.000000</td>\n",
       "      <td>4.000000e+01</td>\n",
       "      <td>4.000000e+01</td>\n",
       "    </tr>\n",
       "    <tr>\n",
       "      <th>mean</th>\n",
       "      <td>31.948614</td>\n",
       "      <td>-1.850372e-18</td>\n",
       "      <td>1.132427e-15</td>\n",
       "      <td>1.0</td>\n",
       "      <td>-2.642331e-15</td>\n",
       "      <td>21.447238</td>\n",
       "      <td>27.500000</td>\n",
       "      <td>5.600000</td>\n",
       "      <td>187.056872</td>\n",
       "      <td>12.0</td>\n",
       "      <td>288.0</td>\n",
       "      <td>76.076404</td>\n",
       "      <td>1.0</td>\n",
       "      <td>24.0</td>\n",
       "      <td>2.500252</td>\n",
       "      <td>-3.246161</td>\n",
       "      <td>5.854929e+00</td>\n",
       "      <td>8.071634e+00</td>\n",
       "    </tr>\n",
       "    <tr>\n",
       "      <th>std</th>\n",
       "      <td>2.890942</td>\n",
       "      <td>7.446702e+00</td>\n",
       "      <td>5.463498e+00</td>\n",
       "      <td>0.0</td>\n",
       "      <td>5.463498e+00</td>\n",
       "      <td>0.549335</td>\n",
       "      <td>16.306362</td>\n",
       "      <td>0.496139</td>\n",
       "      <td>16.926260</td>\n",
       "      <td>0.0</td>\n",
       "      <td>0.0</td>\n",
       "      <td>0.000000</td>\n",
       "      <td>0.0</td>\n",
       "      <td>0.0</td>\n",
       "      <td>0.000000</td>\n",
       "      <td>0.000000</td>\n",
       "      <td>2.520187e-15</td>\n",
       "      <td>2.544151e-15</td>\n",
       "    </tr>\n",
       "  </tbody>\n",
       "</table>\n",
       "</div>"
      ],
      "text/plain": [
       "            area             z             y  is_alive             x  \\\n",
       "count  40.000000  4.000000e+01  4.000000e+01      40.0  4.000000e+01   \n",
       "mean   31.948614 -1.850372e-18  1.132427e-15       1.0 -2.642331e-15   \n",
       "std     2.890942  7.446702e+00  5.463498e+00       0.0  5.463498e+00   \n",
       "\n",
       "       perimeter    old_idx  num_sides         vol  prefered_area  \\\n",
       "count  40.000000  40.000000  40.000000   40.000000           40.0   \n",
       "mean   21.447238  27.500000   5.600000  187.056872           12.0   \n",
       "std     0.549335  16.306362   0.496139   16.926260            0.0   \n",
       "\n",
       "       prefered_vol  contractility  vol_elasticity  prefered_height  \\\n",
       "count          40.0      40.000000            40.0             40.0   \n",
       "mean          288.0      76.076404             1.0             24.0   \n",
       "std             0.0       0.000000             0.0              0.0   \n",
       "\n",
       "       basal_shift  basal_height        height           rho  \n",
       "count    40.000000     40.000000  4.000000e+01  4.000000e+01  \n",
       "mean      2.500252     -3.246161  5.854929e+00  8.071634e+00  \n",
       "std       0.000000      0.000000  2.520187e-15  2.544151e-15  "
      ]
     },
     "execution_count": 3,
     "metadata": {},
     "output_type": "execute_result"
    }
   ],
   "source": [
    "sheet.face_df.describe().head(3)"
   ]
  },
  {
   "cell_type": "code",
   "execution_count": 4,
   "metadata": {},
   "outputs": [
    {
     "data": {
      "text/html": [
       "<div>\n",
       "<style scoped>\n",
       "    .dataframe tbody tr th:only-of-type {\n",
       "        vertical-align: middle;\n",
       "    }\n",
       "\n",
       "    .dataframe tbody tr th {\n",
       "        vertical-align: top;\n",
       "    }\n",
       "\n",
       "    .dataframe thead th {\n",
       "        text-align: right;\n",
       "    }\n",
       "</style>\n",
       "<table border=\"1\" class=\"dataframe\">\n",
       "  <thead>\n",
       "    <tr style=\"text-align: right;\">\n",
       "      <th></th>\n",
       "      <th>dz</th>\n",
       "      <th>length</th>\n",
       "      <th>dx</th>\n",
       "      <th>dy</th>\n",
       "      <th>srce</th>\n",
       "      <th>trgt</th>\n",
       "      <th>face</th>\n",
       "      <th>old_jv0</th>\n",
       "      <th>old_jv1</th>\n",
       "      <th>old_cell</th>\n",
       "      <th>...</th>\n",
       "      <th>sz</th>\n",
       "      <th>tx</th>\n",
       "      <th>ty</th>\n",
       "      <th>tz</th>\n",
       "      <th>fx</th>\n",
       "      <th>fy</th>\n",
       "      <th>fz</th>\n",
       "      <th>rx</th>\n",
       "      <th>ry</th>\n",
       "      <th>rz</th>\n",
       "    </tr>\n",
       "  </thead>\n",
       "  <tbody>\n",
       "    <tr>\n",
       "      <th>count</th>\n",
       "      <td>2.240000e+02</td>\n",
       "      <td>224.000000</td>\n",
       "      <td>2.240000e+02</td>\n",
       "      <td>2.240000e+02</td>\n",
       "      <td>224.000000</td>\n",
       "      <td>224.000000</td>\n",
       "      <td>224.000000</td>\n",
       "      <td>224.000000</td>\n",
       "      <td>224.000000</td>\n",
       "      <td>224.000000</td>\n",
       "      <td>...</td>\n",
       "      <td>224.000000</td>\n",
       "      <td>2.240000e+02</td>\n",
       "      <td>2.240000e+02</td>\n",
       "      <td>224.000000</td>\n",
       "      <td>2.240000e+02</td>\n",
       "      <td>2.240000e+02</td>\n",
       "      <td>224.000000</td>\n",
       "      <td>2.240000e+02</td>\n",
       "      <td>2.240000e+02</td>\n",
       "      <td>2.240000e+02</td>\n",
       "    </tr>\n",
       "    <tr>\n",
       "      <th>mean</th>\n",
       "      <td>3.965082e-18</td>\n",
       "      <td>3.829864</td>\n",
       "      <td>-1.982541e-17</td>\n",
       "      <td>-7.930164e-18</td>\n",
       "      <td>39.500000</td>\n",
       "      <td>39.500000</td>\n",
       "      <td>19.500000</td>\n",
       "      <td>99.348214</td>\n",
       "      <td>106.031250</td>\n",
       "      <td>27.500000</td>\n",
       "      <td>...</td>\n",
       "      <td>0.000000</td>\n",
       "      <td>-2.727977e-15</td>\n",
       "      <td>1.268826e-15</td>\n",
       "      <td>0.000000</td>\n",
       "      <td>-2.569373e-15</td>\n",
       "      <td>1.015061e-15</td>\n",
       "      <td>0.000000</td>\n",
       "      <td>-1.982541e-17</td>\n",
       "      <td>3.965082e-18</td>\n",
       "      <td>2.973812e-17</td>\n",
       "    </tr>\n",
       "    <tr>\n",
       "      <th>std</th>\n",
       "      <td>2.593865e+00</td>\n",
       "      <td>0.652700</td>\n",
       "      <td>2.053231e+00</td>\n",
       "      <td>2.053231e+00</td>\n",
       "      <td>23.111351</td>\n",
       "      <td>23.111351</td>\n",
       "      <td>11.563046</td>\n",
       "      <td>27.073959</td>\n",
       "      <td>27.627631</td>\n",
       "      <td>16.132856</td>\n",
       "      <td>...</td>\n",
       "      <td>7.530508</td>\n",
       "      <td>5.720290e+00</td>\n",
       "      <td>5.720290e+00</td>\n",
       "      <td>7.530508</td>\n",
       "      <td>5.409339e+00</td>\n",
       "      <td>5.409339e+00</td>\n",
       "      <td>7.117109</td>\n",
       "      <td>1.860313e+00</td>\n",
       "      <td>1.860313e+00</td>\n",
       "      <td>2.460756e+00</td>\n",
       "    </tr>\n",
       "  </tbody>\n",
       "</table>\n",
       "<p>3 rows × 33 columns</p>\n",
       "</div>"
      ],
      "text/plain": [
       "                 dz      length            dx            dy        srce  \\\n",
       "count  2.240000e+02  224.000000  2.240000e+02  2.240000e+02  224.000000   \n",
       "mean   3.965082e-18    3.829864 -1.982541e-17 -7.930164e-18   39.500000   \n",
       "std    2.593865e+00    0.652700  2.053231e+00  2.053231e+00   23.111351   \n",
       "\n",
       "             trgt        face     old_jv0     old_jv1    old_cell  ...  \\\n",
       "count  224.000000  224.000000  224.000000  224.000000  224.000000  ...   \n",
       "mean    39.500000   19.500000   99.348214  106.031250   27.500000  ...   \n",
       "std     23.111351   11.563046   27.073959   27.627631   16.132856  ...   \n",
       "\n",
       "               sz            tx            ty          tz            fx  \\\n",
       "count  224.000000  2.240000e+02  2.240000e+02  224.000000  2.240000e+02   \n",
       "mean     0.000000 -2.727977e-15  1.268826e-15    0.000000 -2.569373e-15   \n",
       "std      7.530508  5.720290e+00  5.720290e+00    7.530508  5.409339e+00   \n",
       "\n",
       "                 fy          fz            rx            ry            rz  \n",
       "count  2.240000e+02  224.000000  2.240000e+02  2.240000e+02  2.240000e+02  \n",
       "mean   1.015061e-15    0.000000 -1.982541e-17  3.965082e-18  2.973812e-17  \n",
       "std    5.409339e+00    7.117109  1.860313e+00  1.860313e+00  2.460756e+00  \n",
       "\n",
       "[3 rows x 33 columns]"
      ]
     },
     "execution_count": 4,
     "metadata": {},
     "output_type": "execute_result"
    }
   ],
   "source": [
    "sheet.edge_df.describe().head(3)"
   ]
  },
  {
   "cell_type": "markdown",
   "metadata": {},
   "source": [
    "## Non dimensionalisation and isotropic model\n",
    "\n",
    "\n",
    "For our 2D1/2 model, for a tissue energy is expressed as:\n",
    "$$\n",
    "E = N_f\\frac{K}{2}(V - V_0)^2 + N_f \\frac{\\Gamma}{2}L^2 + 3N_f\\Lambda \\ell \n",
    "$$\n",
    "In the case of a regular, infinite hexagonal lattice, There 6 edges per cell, each shared bteween 2 cells, hence $Ne = 3N_f$\n",
    "\n",
    "We can write this equation as a dimension-less one by dividing it by $N_f K V_0^2$. We define the dimension-less values: $\\bar\\Gamma = \\Gamma/K V_0^{4/3}$ and $\\bar\\Lambda = \\Lambda/K V_0^{5/3}$\n",
    "\n",
    "$$\n",
    "\\bar{E} = \\frac{\\left(V/V_0 - 1\\right)^2}{2} + \\bar\\Gamma \\frac{V_0^{-2/3}}{2}L^2 + 3\\bar\\Lambda V_0^{-1/3} \\ell\n",
    "$$\n",
    "\n",
    "We define the scaling factor $\\delta$ such that $V/V_0 = \\delta^3$. On a regular hexagonal grid, the perimeter $L=6\\ell$ and the area is A=$3\\sqrt{3}/2\\,\\ell^2$. The volume is $V = Ah$. As the (pseudo-)height is arbitrary, we can chose its prefered value. We set $h_0 = V_0^{1/3}$.\n",
    "\n",
    "We thus have $A_0 = V_0^{2/3}$, $A = \\delta^2 V_0^{2/3}$ and \n",
    "$\\ell = \\delta (\\frac{2}{3\\sqrt{3}})^{1/2} V_0^{1/3}$. We define the constant $\\mu = 2^{3/2}3^{1/4}$ to simplify further the equation:\n",
    "\n",
    "$$\n",
    "\\begin{eqnarray}\n",
    "\\bar{E} &=& \\frac{(\\delta^3 - 1)^2}{2} + \\frac{12}{\\sqrt{3}}\\bar\\Gamma\\delta^2 + \\frac{6}{\\sqrt{3}}\\bar\\Lambda \\delta \\\\\n",
    "\\bar{E} &=& \\frac{(\\delta^3 - 1)^2}{2} + \\frac{\\mu^2}{2}\\bar\\Gamma\\delta^2 + \\frac{\\mu}{2}\\bar\\Lambda \\delta \\\\\n",
    "\\end{eqnarray}\n",
    "$$\n",
    "\n",
    "\n",
    "The root of this polynomial corresponds to the lowest energy possible for this set of paramters.\n",
    "\n",
    "\n",
    "\n",
    "\n"
   ]
  },
  {
   "cell_type": "markdown",
   "metadata": {},
   "source": [
    "### This analytic model is implemented bellow\n",
    "\n",
    "It is now a bit too specific to warrant a module in tyssue, and was thus removed\n"
   ]
  },
  {
   "cell_type": "code",
   "execution_count": 5,
   "metadata": {},
   "outputs": [],
   "source": [
    "\"\"\"\n",
    "Isotropic energy model from Farhadifar et al. 2007 article\n",
    "\"\"\"\n",
    "import numpy as np\n",
    "\n",
    "mu = 2 ** 1.5 * 3 ** 0.25\n",
    "\n",
    "\n",
    "def elasticity(delta):\n",
    "    return (delta ** 3 - 1) ** 2 / 2.0\n",
    "\n",
    "\n",
    "def contractility(delta, gamma):\n",
    "    return gamma * mu ** 2 * delta ** 2 / 2.0\n",
    "\n",
    "\n",
    "def tension(delta, lbda):\n",
    "    return lbda * mu * delta / 2.0\n",
    "\n",
    "\n",
    "def isotropic_energies(sheet, model, geom, deltas, nondim_specs):\n",
    "\n",
    "    # bck_face_shift = sheet.face_df['basal_shift']\n",
    "    # bck_vert_shift = sheet.vert_df['basal_shift']\n",
    "    # ## Faces only area and height\n",
    "\n",
    "    V_0 = sheet.specs[\"face\"][\"prefered_vol\"]\n",
    "    vol_avg = sheet.face_df[sheet.face_df[\"is_alive\"] == 1].vol.mean()\n",
    "    rho_avg = sheet.vert_df.rho.mean()\n",
    "\n",
    "    # ## Set height and volume to height0 and V0\n",
    "    delta_0 = (V_0 / vol_avg) ** (1 / 3)\n",
    "    geom.scale(sheet, delta_0, sheet.coords)\n",
    "\n",
    "    h_0 = V_0 ** (1 / 3)\n",
    "\n",
    "    sheet.face_df[\"basal_shift\"] = rho_avg * delta_0 - h_0\n",
    "    sheet.vert_df[\"basal_shift\"] = rho_avg * delta_0 - h_0\n",
    "    geom.update_all(sheet)\n",
    "\n",
    "    energies = np.zeros((deltas.size, 3))\n",
    "    for n, delta in enumerate(deltas):\n",
    "        geom.scale(sheet, delta, sheet.coords + [\"basal_shift\"])\n",
    "        geom.update_all(sheet)\n",
    "        Et, Ec, Ev = model.compute_energy(sheet, full_output=True)\n",
    "        energies[n, :] = [Et.sum(), Ec.sum(), Ev.sum()]\n",
    "        geom.scale(sheet, 1 / delta, sheet.coords + [\"basal_shift\"])\n",
    "        geom.update_all(sheet)\n",
    "    energies /= sheet.face_df[\"is_alive\"].sum()\n",
    "    isotropic_relax(sheet, nondim_specs)\n",
    "\n",
    "    return energies\n",
    "\n",
    "\n",
    "def isotropic_relax(sheet, nondim_specs, geom=geom):\n",
    "    \"\"\"Deforms the sheet so that the faces pseudo-volume is at their\n",
    "    isotropic optimum (on average)\n",
    "    The specified model specs is assumed to be non-dimentional\n",
    "    \"\"\"\n",
    "\n",
    "    vol0 = sheet.face_df[\"prefered_vol\"].mean()\n",
    "    h_0 = vol0 ** (1 / 3)\n",
    "    live_faces = sheet.face_df[sheet.face_df.is_alive == 1]\n",
    "    vol_avg = live_faces.vol.mean()\n",
    "    rho_avg = sheet.vert_df.rho.mean()\n",
    "\n",
    "    # ## Set height and volume to height0 and vol0\n",
    "    delta = (vol0 / vol_avg) ** (1 / 3)\n",
    "    geom.scale(sheet, delta, coords=sheet.coords)\n",
    "    sheet.face_df[\"basal_shift\"] = rho_avg * delta - h_0\n",
    "    sheet.vert_df[\"basal_shift\"] = rho_avg * delta - h_0\n",
    "    geom.update_all(sheet)\n",
    "\n",
    "    # ## Optimal value for delta\n",
    "    delta_o = find_grad_roots(nondim_specs)\n",
    "    if not np.isfinite(delta_o):\n",
    "        raise ValueError(\"invalid parameters values\")\n",
    "    sheet.delta_o = delta_o\n",
    "    # ## Scaling\n",
    "    geom.scale(sheet, delta_o, coords=sheet.coords + [\"basal_shift\"])\n",
    "    geom.update_all(sheet)\n",
    "\n",
    "\n",
    "def isotropic_energy(delta, mod_specs):\n",
    "    \"\"\"\n",
    "    Computes the theoritical energy per face for the given\n",
    "    parameters.\n",
    "    \"\"\"\n",
    "    lbda = mod_specs[\"edge\"][\"line_tension\"]\n",
    "    gamma = mod_specs[\"face\"][\"contractility\"]\n",
    "    elasticity_ = (delta ** 3 - 1) ** 2 / 2.0\n",
    "    contractility_ = gamma * mu ** 2 * delta ** 2 / 2.0\n",
    "    tension_ = lbda * mu * delta / 2.0\n",
    "    energy = elasticity_ + contractility_ + tension_\n",
    "    return energy\n",
    "\n",
    "\n",
    "def isotropic_grad_poly(mod_specs):\n",
    "    lbda = mod_specs[\"edge\"][\"line_tension\"]\n",
    "    gamma = mod_specs[\"face\"][\"contractility\"]\n",
    "\n",
    "    grad_poly = [3, 0, 0, -3, mu ** 2 * gamma, mu * lbda / 2.0]\n",
    "    return grad_poly\n",
    "\n",
    "\n",
    "def isotropic_grad(mod_specs, delta):\n",
    "    grad_poly = isotropic_grad_poly(mod_specs)\n",
    "    return np.polyval(grad_poly, delta)\n",
    "\n",
    "\n",
    "def find_grad_roots(mod_specs):\n",
    "    poly = isotropic_grad_poly(mod_specs)\n",
    "    roots = np.roots(poly)\n",
    "    good_roots = np.real([r for r in roots if np.abs(r) == r])\n",
    "    np.sort(good_roots)\n",
    "    if len(good_roots) == 1:\n",
    "        return good_roots\n",
    "    elif len(good_roots) > 1:\n",
    "        return good_roots[0]\n",
    "    else:\n",
    "        return np.nan"
   ]
  },
  {
   "cell_type": "code",
   "execution_count": 6,
   "metadata": {},
   "outputs": [
    {
     "name": "stderr",
     "output_type": "stream",
     "text": [
      "Reseting column contractility of the face dataset with new specs\n",
      "Reseting column vol_elasticity of the face dataset with new specs\n",
      "Reseting column prefered_height of the face dataset with new specs\n",
      "Reseting column prefered_area of the face dataset with new specs\n",
      "Reseting column prefered_vol of the face dataset with new specs\n",
      "Reseting column radial_tension of the vert dataset with new specs\n",
      "Reseting column is_active of the vert dataset with new specs\n",
      "Reseting column ux of the edge dataset with new specs\n",
      "Reseting column uy of the edge dataset with new specs\n",
      "Reseting column uz of the edge dataset with new specs\n",
      "Reseting column line_tension of the edge dataset with new specs\n",
      "Reseting column is_active of the edge dataset with new specs\n"
     ]
    }
   ],
   "source": [
    "nondim_specs = config.dynamics.quasistatic_sheet_spec()\n",
    "dim_model_specs = model.dimensionalize(nondim_specs)\n",
    "\n",
    "sheet.update_specs(dim_model_specs, reset=True)\n",
    "sheet.edge_df.is_active = (sheet.upcast_face(sheet.face_df.is_alive)\n",
    "                           & sheet.upcast_srce(sheet.vert_df.is_active))\n",
    "res = bruteforce_isotropic_relax(sheet, geom, model)"
   ]
  },
  {
   "cell_type": "code",
   "execution_count": 7,
   "metadata": {},
   "outputs": [
    {
     "name": "stdout",
     "output_type": "stream",
     "text": [
      "Total energy: 18.662021831602555\n"
     ]
    }
   ],
   "source": [
    "Et, Ec, Ev = model.compute_energy(sheet, full_output=True)\n",
    "energy = model.compute_energy(sheet, full_output=False)\n",
    "print('Total energy: {}'.format(energy))"
   ]
  },
  {
   "cell_type": "code",
   "execution_count": 8,
   "metadata": {},
   "outputs": [],
   "source": [
    "def plot_analytical_to_numeric_comp(sheet, model, geom, nondim_specs):\n",
    "\n",
    "    fig, ax = plt.subplots(figsize=(8, 8))\n",
    "\n",
    "    deltas = np.linspace(0.1, 1.8, 50)\n",
    "\n",
    "    lbda = nondim_specs[\"edge\"][\"line_tension\"]\n",
    "    gamma = nondim_specs[\"face\"][\"contractility\"]\n",
    "\n",
    "    ax.plot(\n",
    "        deltas,\n",
    "        isotropic_energy(deltas, nondim_specs),\n",
    "        \"k-\",\n",
    "        label=\"Analytical total\",\n",
    "    )\n",
    "    try:\n",
    "        ax.plot(sheet.delta_o, isotropic_energy(sheet.delta_o, nondim_specs), \"ro\")\n",
    "    except:\n",
    "        pass\n",
    "    ax.plot(deltas, elasticity(deltas), \"b-\", label=\"Analytical volume elasticity\")\n",
    "    ax.plot(\n",
    "        deltas,\n",
    "        contractility(deltas, gamma),\n",
    "        color=\"orange\",\n",
    "        ls=\"-\",\n",
    "        label=\"Analytical contractility\",\n",
    "    )\n",
    "    ax.plot(deltas, tension(deltas, lbda), \"g-\", label=\"Analytical line tension\")\n",
    "\n",
    "    ax.set_xlabel(r\"Isotropic scaling $\\delta$\")\n",
    "    ax.set_ylabel(r\"Isotropic energie $\\bar E$\")\n",
    "\n",
    "    energies = isotropic_energies(sheet, model, geom, deltas, nondim_specs)\n",
    "    # energies = energies / norm\n",
    "    ax.plot(\n",
    "        deltas,\n",
    "        energies[:, 2],\n",
    "        \"bo:\",\n",
    "        lw=2,\n",
    "        alpha=0.8,\n",
    "        label=\"Computed volume elasticity\",\n",
    "    )\n",
    "    ax.plot(\n",
    "        deltas, energies[:, 0], \"go:\", lw=2, alpha=0.8, label=\"Computed line tension\"\n",
    "    )\n",
    "    ax.plot(\n",
    "        deltas,\n",
    "        energies[:, 1],\n",
    "        ls=\":\",\n",
    "        marker=\"o\",\n",
    "        color=\"orange\",\n",
    "        label=\"Computed contractility\",\n",
    "    )\n",
    "    ax.plot(\n",
    "        deltas, energies.sum(axis=1), \"ko:\", lw=2, alpha=0.8, label=\"Computed total\"\n",
    "    )\n",
    "\n",
    "    ax.legend(loc=\"upper left\", fontsize=10)\n",
    "    ax.set_ylim(0, 1.2)\n",
    "    print(sheet.delta_o, deltas[energies.sum(axis=1).argmin()])\n",
    "\n",
    "    return fig, ax\n"
   ]
  },
  {
   "cell_type": "code",
   "execution_count": 9,
   "metadata": {},
   "outputs": [
    {
     "name": "stdout",
     "output_type": "stream",
     "text": [
      "0.8865926873873902 0.8979591836734694\n"
     ]
    },
    {
     "data": {
      "image/png": "[encoded data removed]",
      "text/plain": [
       "<Figure size 576x576 with 1 Axes>"
      ]
     },
     "metadata": {
      "needs_background": "light"
     },
     "output_type": "display_data"
    }
   ],
   "source": [
    "fig, ax = plot_analytical_to_numeric_comp(sheet, model, geom, nondim_specs)\n"
   ]
  },
  {
   "cell_type": "code",
   "execution_count": 10,
   "metadata": {},
   "outputs": [
    {
     "data": {
      "text/plain": [
       "['Line tension', 'Contractility', 'Volume elasticity']"
      ]
     },
     "execution_count": 10,
     "metadata": {},
     "output_type": "execute_result"
    }
   ],
   "source": [
    "model.labels"
   ]
  },
  {
   "cell_type": "code",
   "execution_count": 11,
   "metadata": {
    "scrolled": true
   },
   "outputs": [
    {
     "data": {
      "text/html": [
       "<div>\n",
       "<style scoped>\n",
       "    .dataframe tbody tr th:only-of-type {\n",
       "        vertical-align: middle;\n",
       "    }\n",
       "\n",
       "    .dataframe tbody tr th {\n",
       "        vertical-align: top;\n",
       "    }\n",
       "\n",
       "    .dataframe thead th {\n",
       "        text-align: right;\n",
       "    }\n",
       "</style>\n",
       "<table border=\"1\" class=\"dataframe\">\n",
       "  <thead>\n",
       "    <tr style=\"text-align: right;\">\n",
       "      <th></th>\n",
       "      <th>gx</th>\n",
       "      <th>gy</th>\n",
       "      <th>gz</th>\n",
       "    </tr>\n",
       "    <tr>\n",
       "      <th>edge</th>\n",
       "      <th></th>\n",
       "      <th></th>\n",
       "      <th></th>\n",
       "    </tr>\n",
       "  </thead>\n",
       "  <tbody>\n",
       "    <tr>\n",
       "      <th>0</th>\n",
       "      <td>-0.000000</td>\n",
       "      <td>-0.000000</td>\n",
       "      <td>-753.596252</td>\n",
       "    </tr>\n",
       "    <tr>\n",
       "      <th>1</th>\n",
       "      <td>-0.000000</td>\n",
       "      <td>-0.000000</td>\n",
       "      <td>753.596252</td>\n",
       "    </tr>\n",
       "    <tr>\n",
       "      <th>2</th>\n",
       "      <td>127.116863</td>\n",
       "      <td>639.059628</td>\n",
       "      <td>378.617758</td>\n",
       "    </tr>\n",
       "    <tr>\n",
       "      <th>3</th>\n",
       "      <td>-127.116863</td>\n",
       "      <td>639.059628</td>\n",
       "      <td>-378.617758</td>\n",
       "    </tr>\n",
       "    <tr>\n",
       "      <th>4</th>\n",
       "      <td>127.116863</td>\n",
       "      <td>-639.059628</td>\n",
       "      <td>378.617758</td>\n",
       "    </tr>\n",
       "  </tbody>\n",
       "</table>\n",
       "</div>"
      ],
      "text/plain": [
       "              gx          gy          gz\n",
       "edge                                    \n",
       "0      -0.000000   -0.000000 -753.596252\n",
       "1      -0.000000   -0.000000  753.596252\n",
       "2     127.116863  639.059628  378.617758\n",
       "3    -127.116863  639.059628 -378.617758\n",
       "4     127.116863 -639.059628  378.617758"
      ]
     },
     "execution_count": 11,
     "metadata": {},
     "output_type": "execute_result"
    }
   ],
   "source": [
    "gradients = model.compute_gradient(sheet, components=True)\n",
    "gradients = {label: (srce, trgt) for label, (srce, trgt)\n",
    "             in zip(model.labels, gradients)}\n",
    "gradients['Line tension'][0].head()"
   ]
  },
  {
   "cell_type": "code",
   "execution_count": 12,
   "metadata": {},
   "outputs": [
    {
     "data": {
      "text/html": [
       "<div>\n",
       "<style scoped>\n",
       "    .dataframe tbody tr th:only-of-type {\n",
       "        vertical-align: middle;\n",
       "    }\n",
       "\n",
       "    .dataframe tbody tr th {\n",
       "        vertical-align: top;\n",
       "    }\n",
       "\n",
       "    .dataframe thead th {\n",
       "        text-align: right;\n",
       "    }\n",
       "</style>\n",
       "<table border=\"1\" class=\"dataframe\">\n",
       "  <thead>\n",
       "    <tr style=\"text-align: right;\">\n",
       "      <th></th>\n",
       "      <th>gx</th>\n",
       "      <th>gy</th>\n",
       "      <th>gz</th>\n",
       "    </tr>\n",
       "    <tr>\n",
       "      <th>srce</th>\n",
       "      <th></th>\n",
       "      <th></th>\n",
       "      <th></th>\n",
       "    </tr>\n",
       "  </thead>\n",
       "  <tbody>\n",
       "    <tr>\n",
       "      <th>0</th>\n",
       "      <td>-0.006679</td>\n",
       "      <td>-2.766522e-03</td>\n",
       "      <td>-0.007526</td>\n",
       "    </tr>\n",
       "    <tr>\n",
       "      <th>1</th>\n",
       "      <td>-0.006679</td>\n",
       "      <td>2.766522e-03</td>\n",
       "      <td>-0.007526</td>\n",
       "    </tr>\n",
       "    <tr>\n",
       "      <th>2</th>\n",
       "      <td>-0.016345</td>\n",
       "      <td>6.770145e-03</td>\n",
       "      <td>-0.009976</td>\n",
       "    </tr>\n",
       "    <tr>\n",
       "      <th>3</th>\n",
       "      <td>-0.011138</td>\n",
       "      <td>-7.744148e-17</td>\n",
       "      <td>-0.008208</td>\n",
       "    </tr>\n",
       "    <tr>\n",
       "      <th>4</th>\n",
       "      <td>-0.016345</td>\n",
       "      <td>-6.770145e-03</td>\n",
       "      <td>-0.009976</td>\n",
       "    </tr>\n",
       "  </tbody>\n",
       "</table>\n",
       "</div>"
      ],
      "text/plain": [
       "            gx            gy        gz\n",
       "srce                                  \n",
       "0    -0.006679 -2.766522e-03 -0.007526\n",
       "1    -0.006679  2.766522e-03 -0.007526\n",
       "2    -0.016345  6.770145e-03 -0.009976\n",
       "3    -0.011138 -7.744148e-17 -0.008208\n",
       "4    -0.016345 -6.770145e-03 -0.009976"
      ]
     },
     "execution_count": 12,
     "metadata": {},
     "output_type": "execute_result"
    }
   ],
   "source": [
    "grad_i = model.compute_gradient(sheet, components=False)\n",
    "grad_i.head()"
   ]
  },
  {
   "cell_type": "code",
   "execution_count": 13,
   "metadata": {},
   "outputs": [],
   "source": [
    "geom.scale(sheet, 1.2, sheet.coords)\n",
    "geom.update_all(sheet)"
   ]
  },
  {
   "cell_type": "code",
   "execution_count": 14,
   "metadata": {},
   "outputs": [
    {
     "data": {
      "image/png": "[encoded data removed]",
      "text/plain": [
       "<Figure size 720x864 with 1 Axes>"
      ]
     },
     "metadata": {
      "needs_background": "light"
     },
     "output_type": "display_data"
    }
   ],
   "source": [
    "\n",
    "scale = 5\n",
    "\n",
    "fig, ax = draw.plot_forces(sheet, geom, model, ['z', 'x'], scale)\n",
    "fig.set_size_inches(10, 12)\n",
    "for n, (vx, vy, vz) in sheet.vert_df[sheet.coords].iterrows():\n",
    "    shift = 0.6 * np.sign(vy)\n",
    "    ax.text(vz+shift-0.3, vx, str(n))\n",
    "\n",
    "app_grad_specs = config.draw.sheet_spec()['grad']\n",
    "app_grad_specs.update({'color':'r'})\n",
    "\n",
    "solver = QSSolver()    \n",
    "sheet.topo_changed = False\n",
    "\n",
    "\n",
    "def draw_approx_force(ax=None):\n",
    "    fig, ax = draw.plot_forces(sheet, geom, model,\n",
    "                              ['z', 'x'], scaling=scale, ax=ax,\n",
    "                              approx_grad=solver.approx_grad, **{'grad':app_grad_specs})\n",
    "    fig.set_size_inches(10, 12)\n",
    "    return fig, ax\n",
    "\n",
    "## Uncomment bellow to recompute\n",
    "fig, ax = draw_approx_force(ax=ax)\n",
    "#fig"
   ]
  },
  {
   "cell_type": "markdown",
   "metadata": {},
   "source": [
    "http://scipy.github.io/devdocs/generated/scipy.optimize.check_grad.html#scipy.optimize.check_grad"
   ]
  },
  {
   "cell_type": "code",
   "execution_count": null,
   "metadata": {},
   "outputs": [],
   "source": []
  },
  {
   "cell_type": "code",
   "execution_count": 15,
   "metadata": {
    "scrolled": true
   },
   "outputs": [
    {
     "name": "stdout",
     "output_type": "stream",
     "text": [
      "Error on the gradient (non-dim, per vertex): 1.689e-05\n"
     ]
    }
   ],
   "source": [
    "\n",
    "grad_err = solver.check_grad(sheet, geom, model)\n",
    "grad_err /= sheet.Nv\n",
    "\n",
    "\n",
    "print(\"Error on the gradient (non-dim, per vertex): {:.3e}\".format(grad_err))\n"
   ]
  },
  {
   "cell_type": "code",
   "execution_count": 16,
   "metadata": {},
   "outputs": [
    {
     "name": "stdout",
     "output_type": "stream",
     "text": [
      "True\n"
     ]
    }
   ],
   "source": [
    "settings = {\n",
    "        'options': {'disp':False,\n",
    "                    'ftol':1e-5,\n",
    "                    'gtol':1e-5},\n",
    "        }\n",
    "\n",
    "\n",
    "res = solver.find_energy_min(sheet, geom, model, **settings)\n",
    "print(res['success'])"
   ]
  },
  {
   "cell_type": "code",
   "execution_count": 17,
   "metadata": {},
   "outputs": [
    {
     "data": {
      "text/plain": [
       "b'CONVERGENCE: REL_REDUCTION_OF_F_<=_FACTR*EPSMCH'"
      ]
     },
     "execution_count": 17,
     "metadata": {},
     "output_type": "execute_result"
    }
   ],
   "source": [
    "res['message']"
   ]
  },
  {
   "cell_type": "code",
   "execution_count": 18,
   "metadata": {},
   "outputs": [
    {
     "data": {
      "text/plain": [
       "0.42904245873706837"
      ]
     },
     "execution_count": 18,
     "metadata": {},
     "output_type": "execute_result"
    }
   ],
   "source": [
    "res['fun']/sheet.face_df.is_alive.sum()"
   ]
  },
  {
   "cell_type": "code",
   "execution_count": 19,
   "metadata": {},
   "outputs": [
    {
     "data": {
      "image/png": "[encoded data removed]",
      "text/plain": [
       "<Figure size 720x864 with 1 Axes>"
      ]
     },
     "metadata": {
      "needs_background": "light"
     },
     "output_type": "display_data"
    }
   ],
   "source": [
    "fig, ax = draw.plot_forces(sheet, geom, model, ['z', 'y'], 10)\n",
    "fig.set_size_inches(10, 12)\n"
   ]
  },
  {
   "cell_type": "code",
   "execution_count": null,
   "metadata": {},
   "outputs": [],
   "source": []
  },
  {
   "cell_type": "code",
   "execution_count": null,
   "metadata": {},
   "outputs": [],
   "source": []
  }
 ],
 "metadata": {
  "kernelspec": {
   "display_name": "Python 3",
   "language": "python",
   "name": "python3"
  },
  "language_info": {
   "codemirror_mode": {
    "name": "ipython",
    "version": 3
   },
   "file_extension": ".py",
   "mimetype": "text/x-python",
   "name": "python",
   "nbconvert_exporter": "python",
   "pygments_lexer": "ipython3",
   "version": "3.7.6"
  }
 },
 "nbformat": 4,
 "nbformat_minor": 1
}
