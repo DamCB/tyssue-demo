{
 "cells": [
  {
   "cell_type": "code",
   "execution_count": null,
   "id": "wireless-framing",
   "metadata": {},
   "outputs": [],
   "source": [
    "import numpy as np\n",
    "import pandas as pd\n",
    "import matplotlib.pyplot as plt\n",
    "%matplotlib inline\n",
    "from IPython.display import Image\n",
    "\n",
    "\n",
    "from tyssue import config, Sheet, SheetGeometry, History, EventManager\n",
    "from tyssue.draw import sheet_view\n",
    "from tyssue.generation import three_faces_sheet\n",
    "from tyssue.draw.plt_draw import plot_forces\n",
    "\n",
    "from tyssue.dynamics import PlanarModel\n",
    "\n",
    "from tyssue.solvers.viscous import EulerSolver\n",
    "from tyssue.draw.plt_draw import create_gif\n",
    "\n",
    "\n",
    "geom  = SheetGeometry\n",
    "model = PlanarModel"
   ]
  },
  {
   "cell_type": "markdown",
   "id": "serious-luxury",
   "metadata": {},
   "source": [
    "# The  `history` object"
   ]
  },
  {
   "cell_type": "markdown",
   "id": "bibliographic-administrator",
   "metadata": {},
   "source": [
    "The `history` object is in charge of storing the evolving epithelium during the course of the simulation. It allowed to access to different time point of a simulation from one unique object. \n",
    "\n",
    "Most of the time, we use `HistoryHDF5` class, that writes each time step to a file, which can be usefull for big files. It is also possible to read an hf5 file to analyse simulation later. \n",
    "\n",
    "\n",
    "In the solver, we use the `history.record` method to store the epithelium.In the `create_gif` function, we use the `history.retrieve` method to get back the epithelium at a given time point. Please see the API for more details.\n",
    "\n"
   ]
  },
  {
   "cell_type": "code",
   "execution_count": null,
   "id": "minor-quality",
   "metadata": {},
   "outputs": [],
   "source": []
  },
  {
   "cell_type": "code",
   "execution_count": null,
   "id": "persistent-package",
   "metadata": {},
   "outputs": [],
   "source": []
  },
  {
   "cell_type": "code",
   "execution_count": null,
   "id": "bronze-editor",
   "metadata": {},
   "outputs": [],
   "source": []
  },
  {
   "cell_type": "markdown",
   "id": "tribal-precipitation",
   "metadata": {},
   "source": [
    "# Quasistatic solver"
   ]
  },
  {
   "cell_type": "markdown",
   "id": "becoming-third",
   "metadata": {},
   "source": [
    "A common way to describe an epithelium is with the **quasistatic approximation**: we assume that at any point in time, without exterior perturbation, the epithelium is at an **energy minimum**. For a given expression of the model's Hamiltonian, we thus search the position of the vertices corresponding to the minimum of energy.\n",
    "\n",
    "## The Farhadifar model\n",
    "\n",
    "A very common formulation for the epithelium mechanical energy was given in [Farhadifar et al. in 2007](https://doi.org/10.1016/j.cub.2007.11.049).\n",
    "\n",
    "The energy is the sum of an area elasticity, a contractility and a line tension:\n",
    "$$\n",
    "E = \\sum_\\alpha \\frac{K_A}{2}(A_\\alpha - A_0)^2 + \\sum_\\alpha \\Gamma P_\\alpha^2 + \\sum_{ij} \\Lambda \\ell_{ij} \n",
    "$$\n",
    "\n",
    "In tyssue, `Model` objects provide functions to compute the energy for a given epithelium,  as well as it's spatial derivatives over the vertices positions, the gradient.\n",
    "\n",
    "\n",
    "The calculus is done with the columns of the dataframes, for exemple, if we set the value 0.12 for the term $\\Lambda$ for all the edges of the epithelium:\n",
    "\n"
   ]
  },
  {
   "cell_type": "code",
   "execution_count": null,
   "id": "difficult-hostel",
   "metadata": {},
   "outputs": [],
   "source": [
    "sheet.edge_df[\"line_tension\"] = 0.12\n",
    "E_lt = (sheet.edge_df[\"length\"] * sheet.edge_df[\"line_tension\"]).sum()\n",
    "print(\"Line tension energy : \", E_lt)"
   ]
  },
  {
   "cell_type": "markdown",
   "id": "blond-craft",
   "metadata": {},
   "source": [
    "This model has been predifined in tyssue as the default `PlanarModel`. We can use it in combination with a `Solver` object to find the energy minimum of our sheet.\n",
    "\n",
    "To add the various columns in the dataframes (as we did above) we use a  **specification dictionnary** with the required parameters."
   ]
  },
  {
   "cell_type": "code",
   "execution_count": null,
   "id": "green-worse",
   "metadata": {},
   "outputs": [],
   "source": [
    "#from tyssue.config.dynamics import quasistatic_plane_spec\n",
    "from tyssue.dynamics.planar_vertex_model import PlanarModel as smodel\n",
    "from tyssue.solvers import QSSolver\n",
    "from pprint import pprint\n",
    "\n",
    "specs = {\n",
    "    'edge': {\n",
    "        'is_active': 1,\n",
    "        'line_tension': 0.12,\n",
    "        'ux': 0.0,\n",
    "        'uy': 0.0,\n",
    "        'uz': 0.0\n",
    "    },\n",
    "   'face': {\n",
    "       'area_elasticity': 1.0,\n",
    "       'contractility': 0.04,\n",
    "       'is_alive': 1,\n",
    "       'prefered_area': 1.0},\n",
    "   'settings': {\n",
    "       'grad_norm_factor': 1.0,\n",
    "       'nrj_norm_factor': 1.0\n",
    "   },\n",
    "   'vert': {\n",
    "       'is_active': 1\n",
    "   }\n",
    "}\n",
    "\n",
    "\n",
    "# Update the specs (adds / changes the values in the dataframes' columns)\n",
    "sheet.update_specs(specs)\n",
    "\n",
    "pprint(specs)"
   ]
  },
  {
   "cell_type": "code",
   "execution_count": null,
   "id": "aggregate-swimming",
   "metadata": {},
   "outputs": [],
   "source": [
    "E_t = smodel.compute_energy(sheet)\n",
    "print(\"Total energy: \", E_t)"
   ]
  },
  {
   "cell_type": "code",
   "execution_count": null,
   "id": "infectious-paint",
   "metadata": {},
   "outputs": [],
   "source": [
    "smodel.compute_gradient(sheet).head()"
   ]
  },
  {
   "cell_type": "markdown",
   "id": "deluxe-induction",
   "metadata": {},
   "source": [
    "The energy minimum is found with a _gradient descent_ strategy, the vertices are displaced in the direction opposit to the spatial derivative of the energy. Actually, this defines the **force** on the vertices.\n"
   ]
  },
  {
   "cell_type": "code",
   "execution_count": null,
   "id": "under-violation",
   "metadata": {},
   "outputs": [],
   "source": [
    "from tyssue.draw.plt_draw import plot_forces\n",
    "\n",
    "fig, ax = plot_forces(sheet, sgeom, smodel, ['x', 'y'], 1)\n",
    "\n",
    "fig.set_size_inches(10, 10)\n",
    "ax.set_aspect('equal')"
   ]
  },
  {
   "cell_type": "code",
   "execution_count": null,
   "id": "statistical-economics",
   "metadata": {},
   "outputs": [],
   "source": [
    "# Find energy minimum\n",
    "solver = QSSolver()\n",
    "res = solver.find_energy_min(sheet, sgeom, smodel)\n",
    "\n",
    "print(\"Successfull gradient descent? \", res['success'])\n",
    "fig, ax = sheet_view(sheet, ax=ax)\n",
    "\n",
    "fig.set_size_inches(10, 10)\n",
    "ax.set_aspect('equal')\n",
    "\n",
    "fig"
   ]
  },
  {
   "cell_type": "code",
   "execution_count": null,
   "id": "positive-commission",
   "metadata": {},
   "outputs": [],
   "source": [
    "fig, ax = sheet_view(sheet)"
   ]
  },
  {
   "cell_type": "code",
   "execution_count": null,
   "id": "descending-pioneer",
   "metadata": {},
   "outputs": [],
   "source": []
  },
  {
   "cell_type": "markdown",
   "id": "received-kidney",
   "metadata": {},
   "source": [
    "# Euler solver"
   ]
  },
  {
   "cell_type": "markdown",
   "id": "opposite-dragon",
   "metadata": {},
   "source": [
    "This notebooks demonstrates usage of the time dependant solver `EulerSolver` in the simplest case where we solve\n",
    "$$\\eta_i \\frac{d\\mathbf{r}_i}{dt}  = \\mathbf{F}_i = - \\mathbf{\\nabla}_i E$$\n",
    "\n",
    "The model is defined in the same way it is defined for the quasistatic solver."
   ]
  },
  {
   "cell_type": "markdown",
   "id": "dated-colorado",
   "metadata": {},
   "source": [
    "## Simple forward Euler solver\n",
    "\n",
    "$$\\mathbf{r}_i(t+dt) = \\mathbf{r}_i(t) + \\frac{\\mathbf{F}_i(t)}{\\eta} dt$$\n"
   ]
  },
  {
   "cell_type": "code",
   "execution_count": null,
   "id": "aquatic-nowhere",
   "metadata": {},
   "outputs": [],
   "source": [
    "sheet = Sheet('3', *three_faces_sheet())\n",
    "geom.update_all(sheet)\n",
    "sheet.settings['threshold_length'] = 1e-3\n",
    "\n",
    "sheet.update_specs(config.dynamics.quasistatic_plane_spec())\n",
    "sheet.face_df[\"prefered_area\"] = sheet.face_df[\"area\"].mean()\n",
    "history = History(sheet) #, extra_cols={\"edge\":[\"dx\", \"dy\", \"sx\", \"sy\", \"tx\", \"ty\"]})\n",
    "\n",
    "sheet.vert_df['viscosity'] = 1.0\n",
    "sheet.edge_df.loc[[0, 17],  'line_tension'] *= 4\n",
    "sheet.face_df.loc[1,  'prefered_area'] *= 1.2\n",
    "\n",
    "fig, ax = plot_forces(sheet, geom, model, ['x', 'y'], 1)"
   ]
  },
  {
   "cell_type": "markdown",
   "id": "dressed-fundamentals",
   "metadata": {},
   "source": [
    "Solver instanciation"
   ]
  },
  {
   "cell_type": "code",
   "execution_count": null,
   "id": "needed-airline",
   "metadata": {},
   "outputs": [],
   "source": [
    "solver = EulerSolver(\n",
    "    sheet,\n",
    "    geom,\n",
    "    model,\n",
    "    history=history,\n",
    "    auto_reconnect=True)\n"
   ]
  },
  {
   "cell_type": "markdown",
   "id": "sought-campbell",
   "metadata": {},
   "source": [
    "The solver's `solve` method accepts a `on_topo_change` function as argument. This function is executed each time a topology change occurs. Here, we reste the line tension to its original value."
   ]
  },
  {
   "cell_type": "code",
   "execution_count": null,
   "id": "effective-alignment",
   "metadata": {},
   "outputs": [],
   "source": [
    "def on_topo_change(sheet):\n",
    "    print(\"reseting tension\")\n",
    "    sheet.edge_df[\"line_tension\"] = sheet.specs[\"edge\"][\"line_tension\"]\n"
   ]
  },
  {
   "cell_type": "markdown",
   "id": "acting-mitchell",
   "metadata": {},
   "source": [
    "### Solving from $t = 0$ to $t = 15$"
   ]
  },
  {
   "cell_type": "code",
   "execution_count": null,
   "id": "absent-assault",
   "metadata": {},
   "outputs": [],
   "source": [
    "res = solver.solve(tf=15, dt=0.05, on_topo_change=on_topo_change,\n",
    "                   topo_change_args=(solver.eptm,))"
   ]
  },
  {
   "cell_type": "markdown",
   "id": "touched-korean",
   "metadata": {},
   "source": [
    "## Showing the results"
   ]
  },
  {
   "cell_type": "code",
   "execution_count": null,
   "id": "median-meaning",
   "metadata": {},
   "outputs": [],
   "source": [
    "create_gif(solver.history, \"sheet3.gif\", num_frames=120)"
   ]
  },
  {
   "cell_type": "code",
   "execution_count": null,
   "id": "independent-forty",
   "metadata": {},
   "outputs": [],
   "source": [
    "Image(\"sheet3.gif\")\n"
   ]
  },
  {
   "cell_type": "code",
   "execution_count": null,
   "id": "painful-wages",
   "metadata": {},
   "outputs": [],
   "source": []
  },
  {
   "cell_type": "code",
   "execution_count": null,
   "id": "immune-confidentiality",
   "metadata": {},
   "outputs": [],
   "source": []
  },
  {
   "cell_type": "code",
   "execution_count": null,
   "id": "steady-diana",
   "metadata": {},
   "outputs": [],
   "source": []
  },
  {
   "cell_type": "code",
   "execution_count": null,
   "id": "downtown-disposition",
   "metadata": {},
   "outputs": [],
   "source": []
  },
  {
   "cell_type": "code",
   "execution_count": null,
   "id": "adjustable-mount",
   "metadata": {},
   "outputs": [],
   "source": []
  },
  {
   "cell_type": "code",
   "execution_count": null,
   "id": "interested-occupation",
   "metadata": {},
   "outputs": [],
   "source": []
  },
  {
   "cell_type": "code",
   "execution_count": null,
   "id": "proved-religious",
   "metadata": {},
   "outputs": [],
   "source": []
  },
  {
   "cell_type": "code",
   "execution_count": null,
   "id": "authorized-dispatch",
   "metadata": {},
   "outputs": [],
   "source": []
  },
  {
   "cell_type": "code",
   "execution_count": null,
   "id": "homeless-transsexual",
   "metadata": {},
   "outputs": [],
   "source": [
    "solver = QSSolver()\n",
    "\n",
    "scale = 0.02\n",
    "fig, ax = plot_forces(sheet, geom, model, ['z', 'x'], scale)\n",
    "fig.set_size_inches(10, 12)\n",
    "for n, (vx, vy, vz) in sheet.vert_df[sheet.coords].iterrows():\n",
    "    shift = 0.6 * np.sign(vy)\n",
    "    ax.text(vz+shift-0.3, vx, str(n))\n",
    "\n",
    "app_grad_specs = config.draw.sheet_spec()['grad']\n",
    "app_grad_specs.update({'color':'r'})\n",
    "    \n",
    "def draw_approx_force(ax=None):\n",
    "    fig, ax = plot_forces(sheet, geom, model,\n",
    "                          ['z', 'x'], scaling=scale, ax=ax,\n",
    "                          approx_grad=solver.approx_grad, **{'grad':app_grad_specs})\n",
    "    fig.set_size_inches(10, 12)\n",
    "    return fig, ax\n",
    "\n",
    "## Uncomment bellow to recompute\n",
    "fig, ax = draw_approx_force(ax=ax)\n",
    "#fig"
   ]
  },
  {
   "cell_type": "markdown",
   "id": "sensitive-continent",
   "metadata": {},
   "source": [
    "http://scipy.github.io/devdocs/generated/scipy.optimize.check_grad.html#scipy.optimize.check_grad"
   ]
  },
  {
   "cell_type": "code",
   "execution_count": null,
   "id": "wrong-performance",
   "metadata": {},
   "outputs": [],
   "source": [
    "\n",
    "grad_err = solver.check_grad(sheet, geom, model)\n",
    "grad_err /= sheet.vert_df.size\n",
    "\n",
    "\n",
    "print(\"Error on the gradient (non-dim, per vertex): {:.3e}\".format(grad_err))\n",
    "\n",
    "\n",
    "options ={'disp':False,\n",
    "          'ftol':1e-5,\n",
    "          'gtol':1e-5}\n",
    "\n",
    "\n",
    "res = solver.find_energy_min(sheet, geom, model, options=options)\n",
    "print(res['success'])\n",
    "\n",
    "res['message']\n",
    "\n",
    "res['fun']/sheet.face_df.is_alive.sum()"
   ]
  }
 ],
 "metadata": {
  "kernelspec": {
   "display_name": "Python 3",
   "language": "python",
   "name": "python3"
  },
  "language_info": {
   "codemirror_mode": {
    "name": "ipython",
    "version": 3
   },
   "file_extension": ".py",
   "mimetype": "text/x-python",
   "name": "python",
   "nbconvert_exporter": "python",
   "pygments_lexer": "ipython3",
   "version": "3.8.5"
  }
 },
 "nbformat": 4,
 "nbformat_minor": 5
}
