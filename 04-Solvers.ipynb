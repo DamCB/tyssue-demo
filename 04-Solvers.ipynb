{
 "cells": [
  {
   "cell_type": "code",
   "execution_count": null,
   "id": "vietnamese-fabric",
   "metadata": {},
   "outputs": [],
   "source": [
    "solver = QSSolver()\n",
    "\n",
    "scale = 0.02\n",
    "fig, ax = plot_forces(sheet, geom, model, ['z', 'x'], scale)\n",
    "fig.set_size_inches(10, 12)\n",
    "for n, (vx, vy, vz) in sheet.vert_df[sheet.coords].iterrows():\n",
    "    shift = 0.6 * np.sign(vy)\n",
    "    ax.text(vz+shift-0.3, vx, str(n))\n",
    "\n",
    "app_grad_specs = config.draw.sheet_spec()['grad']\n",
    "app_grad_specs.update({'color':'r'})\n",
    "    \n",
    "def draw_approx_force(ax=None):\n",
    "    fig, ax = plot_forces(sheet, geom, model,\n",
    "                          ['z', 'x'], scaling=scale, ax=ax,\n",
    "                          approx_grad=solver.approx_grad, **{'grad':app_grad_specs})\n",
    "    fig.set_size_inches(10, 12)\n",
    "    return fig, ax\n",
    "\n",
    "## Uncomment bellow to recompute\n",
    "fig, ax = draw_approx_force(ax=ax)\n",
    "#fig"
   ]
  },
  {
   "cell_type": "markdown",
   "id": "great-clock",
   "metadata": {},
   "source": [
    "http://scipy.github.io/devdocs/generated/scipy.optimize.check_grad.html#scipy.optimize.check_grad"
   ]
  },
  {
   "cell_type": "code",
   "execution_count": null,
   "id": "imperial-defeat",
   "metadata": {},
   "outputs": [],
   "source": [
    "\n",
    "grad_err = solver.check_grad(sheet, geom, model)\n",
    "grad_err /= sheet.vert_df.size\n",
    "\n",
    "\n",
    "print(\"Error on the gradient (non-dim, per vertex): {:.3e}\".format(grad_err))\n",
    "\n",
    "\n",
    "options ={'disp':False,\n",
    "          'ftol':1e-5,\n",
    "          'gtol':1e-5}\n",
    "\n",
    "\n",
    "res = solver.find_energy_min(sheet, geom, model, options=options)\n",
    "print(res['success'])\n",
    "\n",
    "res['message']\n",
    "\n",
    "res['fun']/sheet.face_df.is_alive.sum()"
   ]
  }
 ],
 "metadata": {
  "kernelspec": {
   "display_name": "Python 3",
   "language": "python",
   "name": "python3"
  },
  "language_info": {
   "codemirror_mode": {
    "name": "ipython",
    "version": 3
   },
   "file_extension": ".py",
   "mimetype": "text/x-python",
   "name": "python",
   "nbconvert_exporter": "python",
   "pygments_lexer": "ipython3",
   "version": "3.9.1"
  }
 },
 "nbformat": 4,
 "nbformat_minor": 5
}
