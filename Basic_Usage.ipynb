{
 "cells": [
  {
   "cell_type": "markdown",
   "metadata": {},
   "source": [
    "# Basic Usage of the `tyssue` library"
   ]
  },
  {
   "cell_type": "markdown",
   "metadata": {
    "collapsed": true
   },
   "source": [
    "## Easy creation of a 2D epithelial sheet"
   ]
  },
  {
   "cell_type": "code",
   "execution_count": 1,
   "metadata": {},
   "outputs": [],
   "source": [
    "%matplotlib inline\n",
    "\n",
    "# Core object\n",
    "from tyssue import Sheet\n",
    "# Simple 2D geometry\n",
    "from tyssue import PlanarGeometry\n",
    "# Visualisation\n",
    "from tyssue.draw import sheet_view\n",
    "\n",
    "sheet = Sheet.planar_sheet_2d('basic2D', nx=6, ny=7,\n",
    "                              distx=1, disty=1)\n",
    "PlanarGeometry.update_all(sheet)\n",
    "sheet.sanitize()\n"
   ]
  },
  {
   "cell_type": "code",
   "execution_count": 4,
   "metadata": {},
   "outputs": [
    {
     "data": {
      "image/png": "[encoded data removed]",
      "text/plain": [
       "<Figure size 576x576 with 1 Axes>"
      ]
     },
     "metadata": {
      "needs_background": "light"
     },
     "output_type": "display_data"
    }
   ],
   "source": [
    "fig, ax = sheet_view(sheet, mode=\"2D\")\n",
    "fig.set_size_inches(8, 8)"
   ]
  },
  {
   "cell_type": "markdown",
   "metadata": {},
   "source": [
    "### A remark on the half-edge data structure\n",
    "\n",
    "\n",
    "As is represented in the above graph, each edge between two cells is composed of two half-edges (only one half-edge is present in the border ones). This makes it easier to compute many cell-specific quantities, as well as keeping a well oriented mesh. This is inspired by CGAL [polyhedral surfaces](https://doc.cgal.org/4.2/CGAL.CGAL.3D-Polyhedral-Surface/html/index.html)."
   ]
  },
  {
   "cell_type": "markdown",
   "metadata": {},
   "source": [
    "## Datasets and specifications\n",
    "\n",
    "\n",
    "The data associated with the mesh displayed above, i.e. the points positions,\n",
    "the connectivity information, etc. is stored in pandas [DataFrame](http://pandas.pydata.org/pandas-docs/stable/dsintro.html#dataframe) objects, hold together in the `datasets` dictionnary.\n",
    "\n",
    "\n",
    "Depending on the geometry, the following dataframes are populated:\n",
    "* `datasets[\"edge\"]` or `sheet.edge_df`: The edge related dataframe contains \n",
    " - the connectivity information: source and target vertices, associated face and (for thick tissues)\n",
    "   the associated cell body.\n",
    " - geometry data associated with the edge, such as its length\n",
    " - any suplemental data, such as a color or a dynamical parameter (an elasticity for example)\n",
    "\n",
    "* `datasets[\"vert\"]` or `sheet.vert_df`: The vertices related dataframe. In the apical junction mesh above, \n",
    "  those are  the vertices at the cells junctions. It usually holds the coordinates of the points, \n",
    "  and geometry or dynamical data.\n",
    "\n",
    "* `datasets[\"face\"]` or `sheet.face_df`: The faces related dataframe. For a thin, 2D tissue, this corresponds to\n",
    "  a cell of the epithelium, delimited by its edges. In thick, 3D models, one cell has several faces\n",
    "  (the apical, sagittal and basal ones for a 3D monolayer, for example).\n",
    " \n",
    "* `datasets[\"cell\"]` or `sheet.cell_df`: The cells related dataframe, only for 3D, thick, epithelium.\n",
    "  Each cell have several faces.\n",
    "  \n",
    "  \n",
    "  ![datastructures in `tyssue`](../illus/tyssue_data_management.png)\n",
    " "
   ]
  },
  {
   "cell_type": "code",
   "execution_count": 5,
   "metadata": {},
   "outputs": [
    {
     "name": "stdout",
     "output_type": "stream",
     "text": [
      "vert : (65, 3)\n",
      "edge : (145, 17)\n",
      "face : (25, 6)\n"
     ]
    }
   ],
   "source": [
    "for element, data in sheet.datasets.items():\n",
    "    print(element, ':', data.shape)"
   ]
  },
  {
   "cell_type": "code",
   "execution_count": 6,
   "metadata": {},
   "outputs": [
    {
     "data": {
      "text/html": [
       "<div>\n",
       "<style scoped>\n",
       "    .dataframe tbody tr th:only-of-type {\n",
       "        vertical-align: middle;\n",
       "    }\n",
       "\n",
       "    .dataframe tbody tr th {\n",
       "        vertical-align: top;\n",
       "    }\n",
       "\n",
       "    .dataframe thead th {\n",
       "        text-align: right;\n",
       "    }\n",
       "</style>\n",
       "<table border=\"1\" class=\"dataframe\">\n",
       "  <thead>\n",
       "    <tr style=\"text-align: right;\">\n",
       "      <th></th>\n",
       "      <th>trgt</th>\n",
       "      <th>nz</th>\n",
       "      <th>length</th>\n",
       "      <th>face</th>\n",
       "      <th>srce</th>\n",
       "      <th>dx</th>\n",
       "      <th>dy</th>\n",
       "      <th>sx</th>\n",
       "      <th>sy</th>\n",
       "      <th>tx</th>\n",
       "      <th>ty</th>\n",
       "      <th>fx</th>\n",
       "      <th>fy</th>\n",
       "      <th>ux</th>\n",
       "      <th>uy</th>\n",
       "      <th>sub_area</th>\n",
       "      <th>is_valid</th>\n",
       "    </tr>\n",
       "    <tr>\n",
       "      <th>edge</th>\n",
       "      <th></th>\n",
       "      <th></th>\n",
       "      <th></th>\n",
       "      <th></th>\n",
       "      <th></th>\n",
       "      <th></th>\n",
       "      <th></th>\n",
       "      <th></th>\n",
       "      <th></th>\n",
       "      <th></th>\n",
       "      <th></th>\n",
       "      <th></th>\n",
       "      <th></th>\n",
       "      <th></th>\n",
       "      <th></th>\n",
       "      <th></th>\n",
       "      <th></th>\n",
       "    </tr>\n",
       "  </thead>\n",
       "  <tbody>\n",
       "    <tr>\n",
       "      <th>0</th>\n",
       "      <td>2</td>\n",
       "      <td>0.7500</td>\n",
       "      <td>1.397542</td>\n",
       "      <td>15</td>\n",
       "      <td>5</td>\n",
       "      <td>-1.25</td>\n",
       "      <td>-0.625</td>\n",
       "      <td>0.5</td>\n",
       "      <td>4.625</td>\n",
       "      <td>-0.75</td>\n",
       "      <td>4.000</td>\n",
       "      <td>0.45</td>\n",
       "      <td>4.0</td>\n",
       "      <td>0.0</td>\n",
       "      <td>0.0</td>\n",
       "      <td>0.37500</td>\n",
       "      <td>True</td>\n",
       "    </tr>\n",
       "    <tr>\n",
       "      <th>1</th>\n",
       "      <td>5</td>\n",
       "      <td>0.3750</td>\n",
       "      <td>0.750000</td>\n",
       "      <td>20</td>\n",
       "      <td>4</td>\n",
       "      <td>0.00</td>\n",
       "      <td>-0.750</td>\n",
       "      <td>0.5</td>\n",
       "      <td>5.375</td>\n",
       "      <td>0.50</td>\n",
       "      <td>4.625</td>\n",
       "      <td>1.00</td>\n",
       "      <td>5.0</td>\n",
       "      <td>0.0</td>\n",
       "      <td>0.0</td>\n",
       "      <td>0.18750</td>\n",
       "      <td>True</td>\n",
       "    </tr>\n",
       "    <tr>\n",
       "      <th>2</th>\n",
       "      <td>6</td>\n",
       "      <td>0.4125</td>\n",
       "      <td>0.750000</td>\n",
       "      <td>15</td>\n",
       "      <td>0</td>\n",
       "      <td>0.00</td>\n",
       "      <td>0.750</td>\n",
       "      <td>1.0</td>\n",
       "      <td>3.625</td>\n",
       "      <td>1.00</td>\n",
       "      <td>4.375</td>\n",
       "      <td>0.45</td>\n",
       "      <td>4.0</td>\n",
       "      <td>0.0</td>\n",
       "      <td>0.0</td>\n",
       "      <td>0.20625</td>\n",
       "      <td>True</td>\n",
       "    </tr>\n",
       "    <tr>\n",
       "      <th>3</th>\n",
       "      <td>0</td>\n",
       "      <td>0.3750</td>\n",
       "      <td>0.750000</td>\n",
       "      <td>16</td>\n",
       "      <td>6</td>\n",
       "      <td>0.00</td>\n",
       "      <td>-0.750</td>\n",
       "      <td>1.0</td>\n",
       "      <td>4.375</td>\n",
       "      <td>1.00</td>\n",
       "      <td>3.625</td>\n",
       "      <td>1.50</td>\n",
       "      <td>4.0</td>\n",
       "      <td>0.0</td>\n",
       "      <td>0.0</td>\n",
       "      <td>0.18750</td>\n",
       "      <td>True</td>\n",
       "    </tr>\n",
       "    <tr>\n",
       "      <th>4</th>\n",
       "      <td>3</td>\n",
       "      <td>0.3125</td>\n",
       "      <td>0.559017</td>\n",
       "      <td>10</td>\n",
       "      <td>0</td>\n",
       "      <td>-0.50</td>\n",
       "      <td>-0.250</td>\n",
       "      <td>1.0</td>\n",
       "      <td>3.625</td>\n",
       "      <td>0.50</td>\n",
       "      <td>3.375</td>\n",
       "      <td>1.00</td>\n",
       "      <td>3.0</td>\n",
       "      <td>0.0</td>\n",
       "      <td>0.0</td>\n",
       "      <td>0.15625</td>\n",
       "      <td>True</td>\n",
       "    </tr>\n",
       "  </tbody>\n",
       "</table>\n",
       "</div>"
      ],
      "text/plain": [
       "      trgt      nz    length  face  srce    dx     dy   sx     sy    tx  \\\n",
       "edge                                                                      \n",
       "0        2  0.7500  1.397542    15     5 -1.25 -0.625  0.5  4.625 -0.75   \n",
       "1        5  0.3750  0.750000    20     4  0.00 -0.750  0.5  5.375  0.50   \n",
       "2        6  0.4125  0.750000    15     0  0.00  0.750  1.0  3.625  1.00   \n",
       "3        0  0.3750  0.750000    16     6  0.00 -0.750  1.0  4.375  1.00   \n",
       "4        3  0.3125  0.559017    10     0 -0.50 -0.250  1.0  3.625  0.50   \n",
       "\n",
       "         ty    fx   fy   ux   uy  sub_area  is_valid  \n",
       "edge                                                  \n",
       "0     4.000  0.45  4.0  0.0  0.0   0.37500      True  \n",
       "1     4.625  1.00  5.0  0.0  0.0   0.18750      True  \n",
       "2     4.375  0.45  4.0  0.0  0.0   0.20625      True  \n",
       "3     3.625  1.50  4.0  0.0  0.0   0.18750      True  \n",
       "4     3.375  1.00  3.0  0.0  0.0   0.15625      True  "
      ]
     },
     "execution_count": 6,
     "metadata": {},
     "output_type": "execute_result"
    }
   ],
   "source": [
    "sheet.datasets['edge'].head()"
   ]
  },
  {
   "cell_type": "code",
   "execution_count": 7,
   "metadata": {},
   "outputs": [
    {
     "data": {
      "text/html": [
       "<div>\n",
       "<style scoped>\n",
       "    .dataframe tbody tr th:only-of-type {\n",
       "        vertical-align: middle;\n",
       "    }\n",
       "\n",
       "    .dataframe tbody tr th {\n",
       "        vertical-align: top;\n",
       "    }\n",
       "\n",
       "    .dataframe thead th {\n",
       "        text-align: right;\n",
       "    }\n",
       "</style>\n",
       "<table border=\"1\" class=\"dataframe\">\n",
       "  <thead>\n",
       "    <tr style=\"text-align: right;\">\n",
       "      <th></th>\n",
       "      <th>y</th>\n",
       "      <th>is_alive</th>\n",
       "      <th>perimeter</th>\n",
       "      <th>area</th>\n",
       "      <th>x</th>\n",
       "      <th>num_sides</th>\n",
       "    </tr>\n",
       "    <tr>\n",
       "      <th>face</th>\n",
       "      <th></th>\n",
       "      <th></th>\n",
       "      <th></th>\n",
       "      <th></th>\n",
       "      <th></th>\n",
       "      <th></th>\n",
       "    </tr>\n",
       "  </thead>\n",
       "  <tbody>\n",
       "    <tr>\n",
       "      <th>0</th>\n",
       "      <td>1.0</td>\n",
       "      <td>1</td>\n",
       "      <td>3.736068</td>\n",
       "      <td>1.00000</td>\n",
       "      <td>1.00</td>\n",
       "      <td>6</td>\n",
       "    </tr>\n",
       "    <tr>\n",
       "      <th>1</th>\n",
       "      <td>1.0</td>\n",
       "      <td>1</td>\n",
       "      <td>3.736068</td>\n",
       "      <td>1.00000</td>\n",
       "      <td>2.00</td>\n",
       "      <td>6</td>\n",
       "    </tr>\n",
       "    <tr>\n",
       "      <th>2</th>\n",
       "      <td>1.0</td>\n",
       "      <td>1</td>\n",
       "      <td>3.736068</td>\n",
       "      <td>1.00000</td>\n",
       "      <td>3.00</td>\n",
       "      <td>6</td>\n",
       "    </tr>\n",
       "    <tr>\n",
       "      <th>3</th>\n",
       "      <td>1.0</td>\n",
       "      <td>1</td>\n",
       "      <td>3.736068</td>\n",
       "      <td>1.00000</td>\n",
       "      <td>4.00</td>\n",
       "      <td>6</td>\n",
       "    </tr>\n",
       "    <tr>\n",
       "      <th>4</th>\n",
       "      <td>1.0</td>\n",
       "      <td>1</td>\n",
       "      <td>4.663119</td>\n",
       "      <td>1.28125</td>\n",
       "      <td>5.05</td>\n",
       "      <td>5</td>\n",
       "    </tr>\n",
       "  </tbody>\n",
       "</table>\n",
       "</div>"
      ],
      "text/plain": [
       "        y  is_alive  perimeter     area     x  num_sides\n",
       "face                                                    \n",
       "0     1.0         1   3.736068  1.00000  1.00          6\n",
       "1     1.0         1   3.736068  1.00000  2.00          6\n",
       "2     1.0         1   3.736068  1.00000  3.00          6\n",
       "3     1.0         1   3.736068  1.00000  4.00          6\n",
       "4     1.0         1   4.663119  1.28125  5.05          5"
      ]
     },
     "execution_count": 7,
     "metadata": {},
     "output_type": "execute_result"
    }
   ],
   "source": [
    "sheet.face_df.head()"
   ]
  },
  {
   "cell_type": "markdown",
   "metadata": {},
   "source": [
    "We can use all the goodies from pandas DataFrames objects. For example, it is possible to \n",
    "compute the average edge length for each face like so:"
   ]
  },
  {
   "cell_type": "code",
   "execution_count": 8,
   "metadata": {},
   "outputs": [
    {
     "data": {
      "text/plain": [
       "face\n",
       "0    0.622678\n",
       "1    0.622678\n",
       "2    0.622678\n",
       "3    0.622678\n",
       "4    0.932624\n",
       "Name: length, dtype: float64"
      ]
     },
     "execution_count": 8,
     "metadata": {},
     "output_type": "execute_result"
    }
   ],
   "source": [
    "sheet.edge_df.groupby('face')['length'].mean().head()"
   ]
  },
  {
   "cell_type": "markdown",
   "metadata": {},
   "source": [
    "**Specifications** are defined as a nested dictionnary, `sheet.specs`. For each element, the specification defines the columns of the corresonding DataFrame and their default values. An extra key at the root of the specification is called `\"settings\"`, and can hold specific parameters, for example the arguments for an energy minimization procedure."
   ]
  },
  {
   "cell_type": "code",
   "execution_count": 9,
   "metadata": {},
   "outputs": [
    {
     "data": {
      "text/plain": [
       "{'edge': {'trgt': 0,\n",
       "  'nz': 0.0,\n",
       "  'length': 1.0,\n",
       "  'face': 0,\n",
       "  'srce': 0,\n",
       "  'dx': 0.0,\n",
       "  'dy': 0.0,\n",
       "  'sx': 0.0,\n",
       "  'sy': 0.0,\n",
       "  'tx': 0.0,\n",
       "  'ty': 0.0,\n",
       "  'fx': 0.0,\n",
       "  'fy': 0.0,\n",
       "  'ux': 0.0,\n",
       "  'uy': 0.0},\n",
       " 'vert': {'y': 0.0, 'is_active': 1, 'x': 0.0},\n",
       " 'face': {'y': 0.0,\n",
       "  'is_alive': 1,\n",
       "  'perimeter': 0.0,\n",
       "  'area': 0.0,\n",
       "  'x': 0.0,\n",
       "  'num_sides': 6},\n",
       " 'settings': {'geometry': 'planar'}}"
      ]
     },
     "execution_count": 9,
     "metadata": {},
     "output_type": "execute_result"
    }
   ],
   "source": [
    "sheet.specs"
   ]
  },
  {
   "cell_type": "markdown",
   "metadata": {},
   "source": [
    "It is possible to update dynamically the data structure. For example, let's assume we want to put quasi-static model to minimize energy for the tyssue. For this we need three things.\n",
    "* A specification dictionnary with the required data\n",
    "* A model\n",
    "* A solver"
   ]
  },
  {
   "cell_type": "code",
   "execution_count": 10,
   "metadata": {},
   "outputs": [
    {
     "name": "stdout",
     "output_type": "stream",
     "text": [
      "Successfull gradient descent?  True\n"
     ]
    },
    {
     "data": {
      "image/png": "[encoded data removed]",
      "text/plain": [
       "<Figure size 432x288 with 1 Axes>"
      ]
     },
     "metadata": {
      "needs_background": "light"
     },
     "output_type": "display_data"
    }
   ],
   "source": [
    "from tyssue.config.dynamics import quasistatic_plane_spec\n",
    "from tyssue.dynamics.planar_vertex_model import PlanarModel\n",
    "from tyssue.solvers import QSSolver\n",
    "\n",
    "# Update the specs\n",
    "sheet.update_specs(quasistatic_plane_spec())\n",
    "\n",
    "# Find energy minimum\n",
    "solver = QSSolver()\n",
    "res = solver.find_energy_min(sheet, \n",
    "                             PlanarGeometry,\n",
    "                             PlanarModel)\n",
    "\n",
    "print(\"Successfull gradient descent? \", res['success'])\n",
    "fig, ax = sheet_view(sheet)"
   ]
  },
  {
   "cell_type": "markdown",
   "metadata": {},
   "source": [
    "## Upcasting and downcasting data\n",
    "\n",
    "\n",
    "### Upcasting\n",
    "\n",
    "Geometry or physics computations often require to access for example\n",
    "the cell related data on each of the cell's edges. The `Epithelium`\n",
    "class and its derivatives defines utilities to make this,\n",
    "i.e copying the area of each face to each of its edges:"
   ]
  },
  {
   "cell_type": "code",
   "execution_count": 11,
   "metadata": {},
   "outputs": [
    {
     "name": "stdout",
     "output_type": "stream",
     "text": [
      "Faces associated with the first edges:\n",
      "edge\n",
      "0    15\n",
      "1    20\n",
      "2    15\n",
      "3    16\n",
      "4    10\n",
      "Name: face, dtype: int64\n",
      "\n",
      "\n",
      "Area of cell # 15:\n",
      "0.5334928523483278\n",
      "\n",
      "\n",
      "Upcasted areas over the edges:\n",
      "edge\n",
      "0    0.533493\n",
      "1    0.581727\n",
      "2    0.533493\n",
      "3    0.572036\n",
      "4    0.588162\n",
      "Name: area, dtype: float64\n"
     ]
    }
   ],
   "source": [
    "print('Faces associated with the first edges:')\n",
    "print(sheet.edge_df['face'].head())\n",
    "print('\\n')\n",
    "\n",
    "# First edge associated face\n",
    "face = sheet.edge_df.loc[0, 'face']\n",
    "\n",
    "print('Area of cell # {}:'.format(int(face)))\n",
    "print(sheet.face_df.loc[face, 'area'])\n",
    "\n",
    "print('\\n')\n",
    "print('Upcasted areas over the edges:')\n",
    "print(sheet.upcast_face(sheet.face_df['area']).head())"
   ]
  },
  {
   "cell_type": "markdown",
   "metadata": {},
   "source": [
    "The values have indeed be upcasted. This can also be done with the source and target vertices \n",
    "(`sheet.upcast_srce`, `sheet.upcast_trgt`) and cells in the 3D case (`sheet.upcast_cell`).\n",
    "\n",
    "### Downcasting\n",
    "\n",
    "This is usually done by `groupby` operations as shown above.\n",
    "Syntactic sugar is available for summation, e.g. over every edges with a given source: "
   ]
  },
  {
   "cell_type": "code",
   "execution_count": 12,
   "metadata": {},
   "outputs": [
    {
     "data": {
      "text/html": [
       "<div>\n",
       "<style scoped>\n",
       "    .dataframe tbody tr th:only-of-type {\n",
       "        vertical-align: middle;\n",
       "    }\n",
       "\n",
       "    .dataframe tbody tr th {\n",
       "        vertical-align: top;\n",
       "    }\n",
       "\n",
       "    .dataframe thead th {\n",
       "        text-align: right;\n",
       "    }\n",
       "</style>\n",
       "<table border=\"1\" class=\"dataframe\">\n",
       "  <thead>\n",
       "    <tr style=\"text-align: right;\">\n",
       "      <th></th>\n",
       "      <th>line_tension</th>\n",
       "    </tr>\n",
       "    <tr>\n",
       "      <th>srce</th>\n",
       "      <th></th>\n",
       "    </tr>\n",
       "  </thead>\n",
       "  <tbody>\n",
       "    <tr>\n",
       "      <th>0</th>\n",
       "      <td>0.36</td>\n",
       "    </tr>\n",
       "    <tr>\n",
       "      <th>1</th>\n",
       "      <td>0.12</td>\n",
       "    </tr>\n",
       "    <tr>\n",
       "      <th>2</th>\n",
       "      <td>0.12</td>\n",
       "    </tr>\n",
       "    <tr>\n",
       "      <th>3</th>\n",
       "      <td>0.24</td>\n",
       "    </tr>\n",
       "    <tr>\n",
       "      <th>4</th>\n",
       "      <td>0.12</td>\n",
       "    </tr>\n",
       "  </tbody>\n",
       "</table>\n",
       "</div>"
      ],
      "text/plain": [
       "      line_tension\n",
       "srce              \n",
       "0             0.36\n",
       "1             0.12\n",
       "2             0.12\n",
       "3             0.24\n",
       "4             0.12"
      ]
     },
     "execution_count": 12,
     "metadata": {},
     "output_type": "execute_result"
    }
   ],
   "source": [
    "sheet.sum_srce(sheet.edge_df['line_tension']).head()"
   ]
  },
  {
   "cell_type": "markdown",
   "metadata": {},
   "source": [
    "## Input and Output\n",
    "\n",
    "The 'native' format is to save the datasets to hdf5 via [`pandas.HDFStore`](https://pandas.pydata.org/pandas-docs/stable/cookbook.html#hdfstore). The `io.obj` also provides functions to export the junction mesh or triangulations to the wavefront `OBJ` format (requires `vispy`), for easy import in 3D software such as Blender.\n",
    "\n",
    "Here is the code to save the data in wavefront `OBJ`:\n",
    "```python\n",
    "obj.save_junction_mesh('junctions.obj', sheet)\n",
    "```"
   ]
  },
  {
   "cell_type": "markdown",
   "metadata": {},
   "source": [
    "The standard data format for the datasets is HDF:"
   ]
  },
  {
   "cell_type": "code",
   "execution_count": 13,
   "metadata": {},
   "outputs": [],
   "source": [
    "from tyssue.io import hdf5"
   ]
  },
  {
   "cell_type": "markdown",
   "metadata": {},
   "source": [
    "#### Writing"
   ]
  },
  {
   "cell_type": "code",
   "execution_count": 14,
   "metadata": {},
   "outputs": [],
   "source": [
    "hdf5.save_datasets('tmp_data.hdf5', sheet)\n"
   ]
  },
  {
   "cell_type": "markdown",
   "metadata": {},
   "source": [
    "#### Reading"
   ]
  },
  {
   "cell_type": "code",
   "execution_count": 15,
   "metadata": {},
   "outputs": [],
   "source": [
    "dsets = hdf5.load_datasets('tmp_data.hdf5')\n",
    "sheet2 = Sheet('reloaded', dsets)"
   ]
  },
  {
   "cell_type": "code",
   "execution_count": 16,
   "metadata": {},
   "outputs": [],
   "source": [
    "!rm tmp_data.hdf5"
   ]
  },
  {
   "cell_type": "markdown",
   "metadata": {},
   "source": [
    "Specs can be saved as json files:"
   ]
  },
  {
   "cell_type": "code",
   "execution_count": 17,
   "metadata": {},
   "outputs": [],
   "source": [
    "import json\n",
    "\n",
    "with open(\"tmp_specs.json\", \"w\") as jh:\n",
    "    json.dump(sheet.specs, jh)"
   ]
  },
  {
   "cell_type": "markdown",
   "metadata": {},
   "source": [
    "And reloaded accordingly"
   ]
  },
  {
   "cell_type": "code",
   "execution_count": 18,
   "metadata": {},
   "outputs": [],
   "source": [
    "with open(\"tmp_specs.json\", \"r\") as jh:\n",
    "    specs = json.load(jh)\n",
    "\n",
    "sheet2.update_specs(specs, reset=False)"
   ]
  },
  {
   "cell_type": "code",
   "execution_count": 19,
   "metadata": {},
   "outputs": [],
   "source": [
    "!rm tmp_specs.json"
   ]
  },
  {
   "cell_type": "code",
   "execution_count": null,
   "metadata": {},
   "outputs": [],
   "source": []
  },
  {
   "cell_type": "code",
   "execution_count": null,
   "metadata": {},
   "outputs": [],
   "source": []
  }
 ],
 "metadata": {
  "kernelspec": {
   "display_name": "Python 3",
   "language": "python",
   "name": "python3"
  },
  "language_info": {
   "codemirror_mode": {
    "name": "ipython",
    "version": 3
   },
   "file_extension": ".py",
   "mimetype": "text/x-python",
   "name": "python",
   "nbconvert_exporter": "python",
   "pygments_lexer": "ipython3",
   "version": "3.7.1"
  }
 },
 "nbformat": 4,
 "nbformat_minor": 1
}
