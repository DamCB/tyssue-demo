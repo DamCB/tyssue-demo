{
 "cells": [
  {
   "cell_type": "markdown",
   "metadata": {},
   "source": [
    "# Basic Usage of the `tyssue` library"
   ]
  },
  {
   "cell_type": "markdown",
   "metadata": {
    "collapsed": true
   },
   "source": [
    "## Easy creation of a 2D epithelial sheet"
   ]
  },
  {
   "cell_type": "code",
   "execution_count": 1,
   "metadata": {},
   "outputs": [],
   "source": [
    "%matplotlib inline\n",
    "\n",
    "# Core object\n",
    "from tyssue import Sheet\n",
    "# Simple 2D geometry\n",
    "from tyssue import PlanarGeometry as geom\n",
    "# Visualisation\n",
    "from tyssue.draw import sheet_view\n",
    "\n",
    "sheet = Sheet.planar_sheet_2d('basic2D', nx=6, ny=7,\n",
    "                              distx=1, disty=1)\n",
    "geom.update_all(sheet)\n",
    "\n"
   ]
  },
  {
   "cell_type": "code",
   "execution_count": 3,
   "metadata": {},
   "outputs": [
    {
     "data": {
      "image/png": "[encoded data removed]",
      "text/plain": [
       "<Figure size 576x576 with 1 Axes>"
      ]
     },
     "metadata": {
      "needs_background": "light"
     },
     "output_type": "display_data"
    }
   ],
   "source": [
    "fig, ax = sheet_view(sheet, mode=\"2D\")\n",
    "fig.set_size_inches(8, 8)"
   ]
  },
  {
   "cell_type": "markdown",
   "metadata": {},
   "source": [
    "We can have a cleaner, better order `sheet` with the `sanitize` method:\n"
   ]
  },
  {
   "cell_type": "code",
   "execution_count": 6,
   "metadata": {},
   "outputs": [],
   "source": [
    "# Give the tissue a nice hear cut ;)\n",
    "sheet.sanitize(trim_borders=True, order_edges=True)\n",
    "geom.update_all(sheet)"
   ]
  },
  {
   "cell_type": "code",
   "execution_count": 7,
   "metadata": {},
   "outputs": [
    {
     "data": {
      "image/png": "[encoded data removed]",
      "text/plain": [
       "<Figure size 576x576 with 1 Axes>"
      ]
     },
     "metadata": {
      "needs_background": "light"
     },
     "output_type": "display_data"
    }
   ],
   "source": [
    "fig, ax = sheet_view(sheet, mode=\"2D\")\n",
    "fig.set_size_inches(8, 8)"
   ]
  },
  {
   "cell_type": "markdown",
   "metadata": {},
   "source": [
    "### A remark on the half-edge data structure\n",
    "\n",
    "\n",
    "As is represented in the above graph, each edge between two cells is composed of two half-edges (only one half-edge is present in the border ones). This makes it easier to compute many cell-specific quantities, as well as keeping a well oriented mesh. This is inspired by CGAL [polyhedral surfaces](https://doc.cgal.org/4.2/CGAL.CGAL.3D-Polyhedral-Surface/html/index.html)."
   ]
  },
  {
   "cell_type": "markdown",
   "metadata": {},
   "source": [
    "## Datasets and specifications\n",
    "\n",
    "\n",
    "The data associated with the mesh displayed above, i.e. the points positions,\n",
    "the connectivity information, etc. is stored in pandas [DataFrame](http://pandas.pydata.org/pandas-docs/stable/dsintro.html#dataframe) objects, hold together in the `datasets` dictionnary.\n",
    "\n",
    "\n",
    "Depending on the geometry, the following dataframes are populated:\n",
    "* `datasets[\"edge\"]` or `sheet.edge_df`: The edge related dataframe contains \n",
    " - the connectivity information: source and target vertices, associated face and (for thick tissues)\n",
    "   the associated cell body.\n",
    " - geometry data associated with the edge, such as its length\n",
    " - any suplemental data, such as a color or a dynamical parameter (an elasticity for example)\n",
    "\n",
    "* `datasets[\"vert\"]` or `sheet.vert_df`: The vertices related dataframe. In the apical junction mesh above, \n",
    "  those are  the vertices at the cells junctions. It usually holds the coordinates of the points, \n",
    "  and geometry or dynamical data.\n",
    "\n",
    "* `datasets[\"face\"]` or `sheet.face_df`: The faces related dataframe. For a thin, 2D tissue, this corresponds to\n",
    "  a cell of the epithelium, delimited by its edges. In thick, 3D models, one cell has several faces\n",
    "  (the apical, sagittal and basal ones for a 3D monolayer, for example).\n",
    " \n",
    "* `datasets[\"cell\"]` or `sheet.cell_df`: The cells related dataframe, only for 3D, thick, epithelium.\n",
    "  Each cell have several faces.\n",
    "  \n",
    "  \n",
    "  ![datastructures in `tyssue`](../illus/tyssue_data_management.png)\n",
    " "
   ]
  },
  {
   "cell_type": "code",
   "execution_count": 8,
   "metadata": {},
   "outputs": [
    {
     "name": "stdout",
     "output_type": "stream",
     "text": [
      "vert : (48, 3)\n",
      "edge : (128, 20)\n",
      "face : (25, 6)\n"
     ]
    }
   ],
   "source": [
    "for element, data in sheet.datasets.items():\n",
    "    print(element, ':', data.shape)"
   ]
  },
  {
   "cell_type": "code",
   "execution_count": 9,
   "metadata": {},
   "outputs": [
    {
     "data": {
      "text/html": [
       "<div>\n",
       "<style scoped>\n",
       "    .dataframe tbody tr th:only-of-type {\n",
       "        vertical-align: middle;\n",
       "    }\n",
       "\n",
       "    .dataframe tbody tr th {\n",
       "        vertical-align: top;\n",
       "    }\n",
       "\n",
       "    .dataframe thead th {\n",
       "        text-align: right;\n",
       "    }\n",
       "</style>\n",
       "<table border=\"1\" class=\"dataframe\">\n",
       "  <thead>\n",
       "    <tr style=\"text-align: right;\">\n",
       "      <th></th>\n",
       "      <th>trgt</th>\n",
       "      <th>nz</th>\n",
       "      <th>length</th>\n",
       "      <th>face</th>\n",
       "      <th>srce</th>\n",
       "      <th>dx</th>\n",
       "      <th>dy</th>\n",
       "      <th>sx</th>\n",
       "      <th>sy</th>\n",
       "      <th>tx</th>\n",
       "      <th>ty</th>\n",
       "      <th>fx</th>\n",
       "      <th>fy</th>\n",
       "      <th>ux</th>\n",
       "      <th>uy</th>\n",
       "      <th>rx</th>\n",
       "      <th>ry</th>\n",
       "      <th>sub_area</th>\n",
       "      <th>is_valid</th>\n",
       "      <th>phi</th>\n",
       "    </tr>\n",
       "    <tr>\n",
       "      <th>edge</th>\n",
       "      <th></th>\n",
       "      <th></th>\n",
       "      <th></th>\n",
       "      <th></th>\n",
       "      <th></th>\n",
       "      <th></th>\n",
       "      <th></th>\n",
       "      <th></th>\n",
       "      <th></th>\n",
       "      <th></th>\n",
       "      <th></th>\n",
       "      <th></th>\n",
       "      <th></th>\n",
       "      <th></th>\n",
       "      <th></th>\n",
       "      <th></th>\n",
       "      <th></th>\n",
       "      <th></th>\n",
       "      <th></th>\n",
       "      <th></th>\n",
       "    </tr>\n",
       "  </thead>\n",
       "  <tbody>\n",
       "    <tr>\n",
       "      <th>0</th>\n",
       "      <td>30</td>\n",
       "      <td>0.28125</td>\n",
       "      <td>0.750000</td>\n",
       "      <td>0</td>\n",
       "      <td>28</td>\n",
       "      <td>0.0</td>\n",
       "      <td>0.75</td>\n",
       "      <td>1.5</td>\n",
       "      <td>0.625</td>\n",
       "      <td>1.5</td>\n",
       "      <td>1.375</td>\n",
       "      <td>1.125</td>\n",
       "      <td>1.250</td>\n",
       "      <td>0.0</td>\n",
       "      <td>0.0</td>\n",
       "      <td>0.375</td>\n",
       "      <td>-0.625</td>\n",
       "      <td>0.140625</td>\n",
       "      <td>True</td>\n",
       "      <td>-0.643501</td>\n",
       "    </tr>\n",
       "    <tr>\n",
       "      <th>1</th>\n",
       "      <td>9</td>\n",
       "      <td>0.15625</td>\n",
       "      <td>0.559017</td>\n",
       "      <td>0</td>\n",
       "      <td>30</td>\n",
       "      <td>-0.5</td>\n",
       "      <td>0.25</td>\n",
       "      <td>1.5</td>\n",
       "      <td>1.375</td>\n",
       "      <td>1.0</td>\n",
       "      <td>1.625</td>\n",
       "      <td>1.125</td>\n",
       "      <td>1.250</td>\n",
       "      <td>0.0</td>\n",
       "      <td>0.0</td>\n",
       "      <td>0.375</td>\n",
       "      <td>0.125</td>\n",
       "      <td>0.078125</td>\n",
       "      <td>True</td>\n",
       "      <td>0.643501</td>\n",
       "    </tr>\n",
       "    <tr>\n",
       "      <th>2</th>\n",
       "      <td>5</td>\n",
       "      <td>0.21875</td>\n",
       "      <td>0.559017</td>\n",
       "      <td>0</td>\n",
       "      <td>9</td>\n",
       "      <td>-0.5</td>\n",
       "      <td>-0.25</td>\n",
       "      <td>1.0</td>\n",
       "      <td>1.625</td>\n",
       "      <td>0.5</td>\n",
       "      <td>1.375</td>\n",
       "      <td>1.125</td>\n",
       "      <td>1.250</td>\n",
       "      <td>0.0</td>\n",
       "      <td>0.0</td>\n",
       "      <td>-0.125</td>\n",
       "      <td>0.375</td>\n",
       "      <td>0.109375</td>\n",
       "      <td>True</td>\n",
       "      <td>1.570796</td>\n",
       "    </tr>\n",
       "    <tr>\n",
       "      <th>3</th>\n",
       "      <td>28</td>\n",
       "      <td>0.34375</td>\n",
       "      <td>1.250000</td>\n",
       "      <td>0</td>\n",
       "      <td>5</td>\n",
       "      <td>1.0</td>\n",
       "      <td>-0.75</td>\n",
       "      <td>0.5</td>\n",
       "      <td>1.375</td>\n",
       "      <td>1.5</td>\n",
       "      <td>0.625</td>\n",
       "      <td>1.125</td>\n",
       "      <td>1.250</td>\n",
       "      <td>0.0</td>\n",
       "      <td>0.0</td>\n",
       "      <td>-0.625</td>\n",
       "      <td>0.125</td>\n",
       "      <td>0.171875</td>\n",
       "      <td>True</td>\n",
       "      <td>1.570796</td>\n",
       "    </tr>\n",
       "    <tr>\n",
       "      <th>4</th>\n",
       "      <td>42</td>\n",
       "      <td>0.37500</td>\n",
       "      <td>0.750000</td>\n",
       "      <td>1</td>\n",
       "      <td>29</td>\n",
       "      <td>0.0</td>\n",
       "      <td>0.75</td>\n",
       "      <td>2.5</td>\n",
       "      <td>0.625</td>\n",
       "      <td>2.5</td>\n",
       "      <td>1.375</td>\n",
       "      <td>2.000</td>\n",
       "      <td>1.125</td>\n",
       "      <td>0.0</td>\n",
       "      <td>0.0</td>\n",
       "      <td>0.500</td>\n",
       "      <td>-0.500</td>\n",
       "      <td>0.187500</td>\n",
       "      <td>True</td>\n",
       "      <td>-0.643501</td>\n",
       "    </tr>\n",
       "  </tbody>\n",
       "</table>\n",
       "</div>"
      ],
      "text/plain": [
       "      trgt       nz    length  face  srce   dx    dy   sx     sy   tx     ty  \\\n",
       "edge                                                                           \n",
       "0       30  0.28125  0.750000     0    28  0.0  0.75  1.5  0.625  1.5  1.375   \n",
       "1        9  0.15625  0.559017     0    30 -0.5  0.25  1.5  1.375  1.0  1.625   \n",
       "2        5  0.21875  0.559017     0     9 -0.5 -0.25  1.0  1.625  0.5  1.375   \n",
       "3       28  0.34375  1.250000     0     5  1.0 -0.75  0.5  1.375  1.5  0.625   \n",
       "4       42  0.37500  0.750000     1    29  0.0  0.75  2.5  0.625  2.5  1.375   \n",
       "\n",
       "         fx     fy   ux   uy     rx     ry  sub_area  is_valid       phi  \n",
       "edge                                                                      \n",
       "0     1.125  1.250  0.0  0.0  0.375 -0.625  0.140625      True -0.643501  \n",
       "1     1.125  1.250  0.0  0.0  0.375  0.125  0.078125      True  0.643501  \n",
       "2     1.125  1.250  0.0  0.0 -0.125  0.375  0.109375      True  1.570796  \n",
       "3     1.125  1.250  0.0  0.0 -0.625  0.125  0.171875      True  1.570796  \n",
       "4     2.000  1.125  0.0  0.0  0.500 -0.500  0.187500      True -0.643501  "
      ]
     },
     "execution_count": 9,
     "metadata": {},
     "output_type": "execute_result"
    }
   ],
   "source": [
    "sheet.datasets['edge'].head()"
   ]
  },
  {
   "cell_type": "markdown",
   "metadata": {},
   "source": [
    "The `edge_df` dataframe contains most of the information. In particular, each time the geometry is updated with the `geom.update_all(sheet)` function, the positions of the source and target vertices of each edge are copied to the `\"sx\", \"sy\"` and `\"tx\", \"ty\"` columns, respectively.\n",
    "\n"
   ]
  },
  {
   "cell_type": "code",
   "execution_count": 25,
   "metadata": {},
   "outputs": [
    {
     "data": {
      "text/html": [
       "<div>\n",
       "<style scoped>\n",
       "    .dataframe tbody tr th:only-of-type {\n",
       "        vertical-align: middle;\n",
       "    }\n",
       "\n",
       "    .dataframe tbody tr th {\n",
       "        vertical-align: top;\n",
       "    }\n",
       "\n",
       "    .dataframe thead th {\n",
       "        text-align: right;\n",
       "    }\n",
       "</style>\n",
       "<table border=\"1\" class=\"dataframe\">\n",
       "  <thead>\n",
       "    <tr style=\"text-align: right;\">\n",
       "      <th></th>\n",
       "      <th>y</th>\n",
       "      <th>is_alive</th>\n",
       "      <th>perimeter</th>\n",
       "      <th>area</th>\n",
       "      <th>x</th>\n",
       "      <th>num_sides</th>\n",
       "      <th>contractility</th>\n",
       "      <th>area_elasticity</th>\n",
       "      <th>prefered_area</th>\n",
       "    </tr>\n",
       "    <tr>\n",
       "      <th>face</th>\n",
       "      <th></th>\n",
       "      <th></th>\n",
       "      <th></th>\n",
       "      <th></th>\n",
       "      <th></th>\n",
       "      <th></th>\n",
       "      <th></th>\n",
       "      <th></th>\n",
       "      <th></th>\n",
       "    </tr>\n",
       "  </thead>\n",
       "  <tbody>\n",
       "    <tr>\n",
       "      <th>0</th>\n",
       "      <td>1.740165</td>\n",
       "      <td>1</td>\n",
       "      <td>2.746576</td>\n",
       "      <td>0.435447</td>\n",
       "      <td>1.475716</td>\n",
       "      <td>4</td>\n",
       "      <td>0.04</td>\n",
       "      <td>1.0</td>\n",
       "      <td>1.0</td>\n",
       "    </tr>\n",
       "    <tr>\n",
       "      <th>1</th>\n",
       "      <td>1.640432</td>\n",
       "      <td>1</td>\n",
       "      <td>2.932154</td>\n",
       "      <td>0.562091</td>\n",
       "      <td>2.170167</td>\n",
       "      <td>5</td>\n",
       "      <td>0.04</td>\n",
       "      <td>1.0</td>\n",
       "      <td>1.0</td>\n",
       "    </tr>\n",
       "    <tr>\n",
       "      <th>2</th>\n",
       "      <td>1.630039</td>\n",
       "      <td>1</td>\n",
       "      <td>2.897098</td>\n",
       "      <td>0.560359</td>\n",
       "      <td>2.952761</td>\n",
       "      <td>5</td>\n",
       "      <td>0.04</td>\n",
       "      <td>1.0</td>\n",
       "      <td>1.0</td>\n",
       "    </tr>\n",
       "    <tr>\n",
       "      <th>3</th>\n",
       "      <td>1.672959</td>\n",
       "      <td>1</td>\n",
       "      <td>2.858364</td>\n",
       "      <td>0.531644</td>\n",
       "      <td>3.729546</td>\n",
       "      <td>5</td>\n",
       "      <td>0.04</td>\n",
       "      <td>1.0</td>\n",
       "      <td>1.0</td>\n",
       "    </tr>\n",
       "    <tr>\n",
       "      <th>4</th>\n",
       "      <td>1.704839</td>\n",
       "      <td>1</td>\n",
       "      <td>1.997678</td>\n",
       "      <td>0.185384</td>\n",
       "      <td>4.264872</td>\n",
       "      <td>3</td>\n",
       "      <td>0.04</td>\n",
       "      <td>1.0</td>\n",
       "      <td>1.0</td>\n",
       "    </tr>\n",
       "  </tbody>\n",
       "</table>\n",
       "</div>"
      ],
      "text/plain": [
       "             y  is_alive  perimeter      area         x  num_sides  \\\n",
       "face                                                                 \n",
       "0     1.740165         1   2.746576  0.435447  1.475716          4   \n",
       "1     1.640432         1   2.932154  0.562091  2.170167          5   \n",
       "2     1.630039         1   2.897098  0.560359  2.952761          5   \n",
       "3     1.672959         1   2.858364  0.531644  3.729546          5   \n",
       "4     1.704839         1   1.997678  0.185384  4.264872          3   \n",
       "\n",
       "      contractility  area_elasticity  prefered_area  \n",
       "face                                                 \n",
       "0              0.04              1.0            1.0  \n",
       "1              0.04              1.0            1.0  \n",
       "2              0.04              1.0            1.0  \n",
       "3              0.04              1.0            1.0  \n",
       "4              0.04              1.0            1.0  "
      ]
     },
     "execution_count": 25,
     "metadata": {},
     "output_type": "execute_result"
    }
   ],
   "source": [
    "sheet.face_df.head()"
   ]
  },
  {
   "cell_type": "markdown",
   "metadata": {},
   "source": [
    "We can use all the goodies from pandas DataFrames objects. For example, it is possible to \n",
    "compute the average edge length for each face like so:"
   ]
  },
  {
   "cell_type": "code",
   "execution_count": 24,
   "metadata": {},
   "outputs": [
    {
     "data": {
      "text/plain": [
       "face\n",
       "0    0.686644\n",
       "1    0.586431\n",
       "2    0.579420\n",
       "3    0.571673\n",
       "4    0.665893\n",
       "Name: length, dtype: float64"
      ]
     },
     "execution_count": 24,
     "metadata": {},
     "output_type": "execute_result"
    }
   ],
   "source": [
    "sheet.edge_df.groupby('face')['length'].mean().head()"
   ]
  },
  {
   "cell_type": "markdown",
   "metadata": {},
   "source": [
    "**Specifications** are defined as a nested dictionnary, `sheet.specs`. For each element, the specification defines the columns of the corresonding DataFrame and their default values. An extra key at the root of the specification is called `\"settings\"`, and can hold specific parameters, for example the arguments for an energy minimization procedure."
   ]
  },
  {
   "cell_type": "code",
   "execution_count": 12,
   "metadata": {},
   "outputs": [
    {
     "data": {
      "text/plain": [
       "{'edge': {'trgt': 0,\n",
       "  'nz': 0.0,\n",
       "  'length': 1.0,\n",
       "  'face': 0,\n",
       "  'srce': 0,\n",
       "  'dx': 0.0,\n",
       "  'dy': 0.0,\n",
       "  'sx': 0.0,\n",
       "  'sy': 0.0,\n",
       "  'tx': 0.0,\n",
       "  'ty': 0.0,\n",
       "  'fx': 0.0,\n",
       "  'fy': 0.0,\n",
       "  'ux': 0.0,\n",
       "  'uy': 0.0},\n",
       " 'vert': {'y': 0.0, 'is_active': 1, 'x': 0.0},\n",
       " 'face': {'y': 0.0,\n",
       "  'is_alive': 1,\n",
       "  'perimeter': 0.0,\n",
       "  'area': 0.0,\n",
       "  'x': 0.0,\n",
       "  'num_sides': 6},\n",
       " 'settings': {'geometry': 'planar'}}"
      ]
     },
     "execution_count": 12,
     "metadata": {},
     "output_type": "execute_result"
    }
   ],
   "source": [
    "sheet.specs"
   ]
  },
  {
   "cell_type": "markdown",
   "metadata": {},
   "source": [
    "It is possible to update dynamically the data structure. For example, let's assume we want to put quasi-static model to minimize energy for the tyssue. For this we need three things.\n",
    "* A specification dictionnary with the required data\n",
    "* A model\n",
    "* A solver"
   ]
  },
  {
   "cell_type": "code",
   "execution_count": 13,
   "metadata": {},
   "outputs": [
    {
     "name": "stdout",
     "output_type": "stream",
     "text": [
      "Successfull gradient descent?  True\n"
     ]
    },
    {
     "data": {
      "image/png": "[encoded data removed]",
      "text/plain": [
       "<Figure size 432x288 with 1 Axes>"
      ]
     },
     "metadata": {
      "needs_background": "light"
     },
     "output_type": "display_data"
    }
   ],
   "source": [
    "from tyssue.config.dynamics import quasistatic_plane_spec\n",
    "from tyssue.dynamics.planar_vertex_model import PlanarModel\n",
    "from tyssue.solvers import QSSolver\n",
    "\n",
    "# Update the specs\n",
    "sheet.update_specs(quasistatic_plane_spec())\n",
    "\n",
    "# Find energy minimum\n",
    "solver = QSSolver()\n",
    "res = solver.find_energy_min(sheet, \n",
    "                             geom,\n",
    "                             PlanarModel)\n",
    "\n",
    "print(\"Successfull gradient descent? \", res['success'])\n",
    "fig, ax = sheet_view(sheet)"
   ]
  },
  {
   "cell_type": "markdown",
   "metadata": {},
   "source": [
    "## Upcasting and downcasting data\n",
    "\n",
    "\n",
    "### Upcasting\n",
    "\n",
    "Geometry or physics computations often require to access for example\n",
    "the cell related data on each of the cell's edges. The `Epithelium`\n",
    "class and its derivatives defines utilities to make this,\n",
    "i.e copying the area of each face to each of its edges:"
   ]
  },
  {
   "cell_type": "code",
   "execution_count": 14,
   "metadata": {},
   "outputs": [
    {
     "name": "stdout",
     "output_type": "stream",
     "text": [
      "Faces associated with the first edges:\n",
      "edge\n",
      "0    0\n",
      "1    0\n",
      "2    0\n",
      "3    0\n",
      "4    1\n",
      "Name: face, dtype: int64\n",
      "\n",
      "\n",
      "Area of cell # 0:\n",
      "0.43544708469079896\n",
      "\n",
      "\n",
      "Upcasted areas over the edges:\n",
      "edge\n",
      "0    0.435447\n",
      "1    0.435447\n",
      "2    0.435447\n",
      "3    0.435447\n",
      "4    0.562091\n",
      "Name: area, dtype: float64\n"
     ]
    }
   ],
   "source": [
    "print('Faces associated with the first edges:')\n",
    "print(sheet.edge_df['face'].head())\n",
    "print('\\n')\n",
    "\n",
    "# First edge associated face\n",
    "face = sheet.edge_df.loc[0, 'face']\n",
    "\n",
    "print('Area of cell # {}:'.format(int(face)))\n",
    "print(sheet.face_df.loc[face, 'area'])\n",
    "\n",
    "print('\\n')\n",
    "print('Upcasted areas over the edges:')\n",
    "print(sheet.upcast_face(sheet.face_df['area']).head())"
   ]
  },
  {
   "cell_type": "markdown",
   "metadata": {},
   "source": [
    "The values have indeed be upcasted. This can also be done with the source and target vertices \n",
    "(`sheet.upcast_srce`, `sheet.upcast_trgt`) and cells in the 3D case (`sheet.upcast_cell`).\n",
    "\n",
    "### Downcasting\n",
    "\n",
    "This is usually done by `groupby` operations as shown above.\n",
    "Syntactic sugar is available for summation, e.g. over every edges with a given source: "
   ]
  },
  {
   "cell_type": "code",
   "execution_count": 15,
   "metadata": {},
   "outputs": [
    {
     "data": {
      "text/html": [
       "<div>\n",
       "<style scoped>\n",
       "    .dataframe tbody tr th:only-of-type {\n",
       "        vertical-align: middle;\n",
       "    }\n",
       "\n",
       "    .dataframe tbody tr th {\n",
       "        vertical-align: top;\n",
       "    }\n",
       "\n",
       "    .dataframe thead th {\n",
       "        text-align: right;\n",
       "    }\n",
       "</style>\n",
       "<table border=\"1\" class=\"dataframe\">\n",
       "  <thead>\n",
       "    <tr style=\"text-align: right;\">\n",
       "      <th></th>\n",
       "      <th>line_tension</th>\n",
       "    </tr>\n",
       "    <tr>\n",
       "      <th>srce</th>\n",
       "      <th></th>\n",
       "    </tr>\n",
       "  </thead>\n",
       "  <tbody>\n",
       "    <tr>\n",
       "      <th>0</th>\n",
       "      <td>0.36</td>\n",
       "    </tr>\n",
       "    <tr>\n",
       "      <th>1</th>\n",
       "      <td>0.24</td>\n",
       "    </tr>\n",
       "    <tr>\n",
       "      <th>2</th>\n",
       "      <td>0.24</td>\n",
       "    </tr>\n",
       "    <tr>\n",
       "      <th>3</th>\n",
       "      <td>0.36</td>\n",
       "    </tr>\n",
       "    <tr>\n",
       "      <th>4</th>\n",
       "      <td>0.36</td>\n",
       "    </tr>\n",
       "  </tbody>\n",
       "</table>\n",
       "</div>"
      ],
      "text/plain": [
       "      line_tension\n",
       "srce              \n",
       "0             0.36\n",
       "1             0.24\n",
       "2             0.24\n",
       "3             0.36\n",
       "4             0.36"
      ]
     },
     "execution_count": 15,
     "metadata": {},
     "output_type": "execute_result"
    }
   ],
   "source": [
    "sheet.sum_srce(sheet.edge_df['line_tension']).head()"
   ]
  },
  {
   "cell_type": "markdown",
   "metadata": {},
   "source": [
    "## Input and Output\n",
    "\n",
    "The 'native' format is to save the datasets to hdf5 via [`pandas.HDFStore`](https://pandas.pydata.org/pandas-docs/stable/cookbook.html#hdfstore). The `io.obj` also provides functions to export the junction mesh or triangulations to the wavefront `OBJ` format (requires `vispy`), for easy import in 3D software such as Blender.\n",
    "\n",
    "Here is the code to save the data in wavefront `OBJ`:\n",
    "```python\n",
    "obj.save_junction_mesh('junctions.obj', sheet)\n",
    "```"
   ]
  },
  {
   "cell_type": "markdown",
   "metadata": {},
   "source": [
    "The standard data format for the datasets is HDF:"
   ]
  },
  {
   "cell_type": "code",
   "execution_count": 16,
   "metadata": {},
   "outputs": [],
   "source": [
    "from tyssue.io import hdf5"
   ]
  },
  {
   "cell_type": "markdown",
   "metadata": {},
   "source": [
    "#### Writing"
   ]
  },
  {
   "cell_type": "code",
   "execution_count": 17,
   "metadata": {},
   "outputs": [],
   "source": [
    "hdf5.save_datasets('tmp_data.hdf5', sheet)\n"
   ]
  },
  {
   "cell_type": "markdown",
   "metadata": {},
   "source": [
    "#### Reading"
   ]
  },
  {
   "cell_type": "code",
   "execution_count": 18,
   "metadata": {},
   "outputs": [],
   "source": [
    "dsets = hdf5.load_datasets('tmp_data.hdf5')\n",
    "sheet2 = Sheet('reloaded', dsets)"
   ]
  },
  {
   "cell_type": "code",
   "execution_count": 19,
   "metadata": {},
   "outputs": [],
   "source": [
    "!rm tmp_data.hdf5"
   ]
  },
  {
   "cell_type": "markdown",
   "metadata": {},
   "source": [
    "Specs can be saved as json files:"
   ]
  },
  {
   "cell_type": "code",
   "execution_count": 20,
   "metadata": {},
   "outputs": [],
   "source": [
    "import json\n",
    "\n",
    "with open(\"tmp_specs.json\", \"w\") as jh:\n",
    "    json.dump(sheet.specs, jh)"
   ]
  },
  {
   "cell_type": "markdown",
   "metadata": {},
   "source": [
    "And reloaded accordingly"
   ]
  },
  {
   "cell_type": "code",
   "execution_count": 21,
   "metadata": {},
   "outputs": [],
   "source": [
    "with open(\"tmp_specs.json\", \"r\") as jh:\n",
    "    specs = json.load(jh)\n",
    "\n",
    "sheet2.update_specs(specs, reset=False)"
   ]
  },
  {
   "cell_type": "code",
   "execution_count": 22,
   "metadata": {},
   "outputs": [],
   "source": [
    "!rm tmp_specs.json"
   ]
  },
  {
   "cell_type": "code",
   "execution_count": null,
   "metadata": {},
   "outputs": [],
   "source": []
  },
  {
   "cell_type": "code",
   "execution_count": null,
   "metadata": {},
   "outputs": [],
   "source": []
  }
 ],
 "metadata": {
  "kernelspec": {
   "display_name": "Python 3",
   "language": "python",
   "name": "python3"
  },
  "language_info": {
   "codemirror_mode": {
    "name": "ipython",
    "version": 3
   },
   "file_extension": ".py",
   "mimetype": "text/x-python",
   "name": "python",
   "nbconvert_exporter": "python",
   "pygments_lexer": "ipython3",
   "version": "3.7.3"
  }
 },
 "nbformat": 4,
 "nbformat_minor": 1
}
